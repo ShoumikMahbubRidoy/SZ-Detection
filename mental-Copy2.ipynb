{
 "cells": [
  {
   "cell_type": "code",
   "execution_count": 1,
   "metadata": {},
   "outputs": [
    {
     "name": "stderr",
     "output_type": "stream",
     "text": [
      "Using TensorFlow backend.\n"
     ]
    }
   ],
   "source": [
    "import os\n",
    "import time\n",
    "import keras\n",
    "\n",
    "import numpy as np\n",
    "import pandas as pd\n",
    "import tensorflow as tf\n",
    "import matplotlib.pyplot as plt\n",
    "\n",
    "from tqdm.notebook import tqdm\n",
    "\n",
    "from sklearn.preprocessing import normalize\n",
    "from sklearn.metrics import confusion_matrix\n",
    "from sklearn.model_selection import train_test_split\n",
    "\n",
    "from keras.models import Sequential\n",
    "from keras.callbacks import ModelCheckpoint\n",
    "from keras.layers import Dense, Conv2D, MaxPooling2D\n",
    "from keras.layers import Dropout, Flatten, BatchNormalization\n",
    "from keras import backend as K"
   ]
  },
  {
   "cell_type": "code",
   "execution_count": 2,
   "metadata": {},
   "outputs": [
    {
     "name": "stdout",
     "output_type": "stream",
     "text": [
      "C:/All DataSet/Schizophrenia/archive\\columnLabels.csv\n",
      "C:/All DataSet/Schizophrenia/archive\\demographic.csv\n",
      "C:/All DataSet/Schizophrenia/archive\\ERPdata.csv\n",
      "C:/All DataSet/Schizophrenia/archive\\mergedTrialData.csv\n",
      "C:/All DataSet/Schizophrenia/archive\\time.csv\n",
      "C:/All DataSet/Schizophrenia/archive\\1.csv\\1.csv\n",
      "C:/All DataSet/Schizophrenia/archive\\10.csv\\10.csv\n",
      "C:/All DataSet/Schizophrenia/archive\\11.csv\\11.csv\n",
      "C:/All DataSet/Schizophrenia/archive\\12.csv\\12.csv\n",
      "C:/All DataSet/Schizophrenia/archive\\13.csv\\13.csv\n",
      "C:/All DataSet/Schizophrenia/archive\\14.csv\\14.csv\n",
      "C:/All DataSet/Schizophrenia/archive\\15.csv\\15.csv\n",
      "C:/All DataSet/Schizophrenia/archive\\16.csv\\16.csv\n",
      "C:/All DataSet/Schizophrenia/archive\\17.csv\\17.csv\n",
      "C:/All DataSet/Schizophrenia/archive\\18.csv\\18.csv\n",
      "C:/All DataSet/Schizophrenia/archive\\19.csv\\19.csv\n",
      "C:/All DataSet/Schizophrenia/archive\\2.csv\\2.csv\n",
      "C:/All DataSet/Schizophrenia/archive\\20.csv\\20.csv\n",
      "C:/All DataSet/Schizophrenia/archive\\21.csv\\21.csv\n",
      "C:/All DataSet/Schizophrenia/archive\\22.csv\\22.csv\n",
      "C:/All DataSet/Schizophrenia/archive\\23.csv\\23.csv\n",
      "C:/All DataSet/Schizophrenia/archive\\24.csv\\24.csv\n",
      "C:/All DataSet/Schizophrenia/archive\\3.csv\\3.csv\n",
      "C:/All DataSet/Schizophrenia/archive\\4.csv\\4.csv\n",
      "C:/All DataSet/Schizophrenia/archive\\5.csv\\5.csv\n",
      "C:/All DataSet/Schizophrenia/archive\\6.csv\\6.csv\n",
      "C:/All DataSet/Schizophrenia/archive\\66.csv\\66.csv\n",
      "C:/All DataSet/Schizophrenia/archive\\67.csv\\67.csv\n",
      "C:/All DataSet/Schizophrenia/archive\\68.csv\\68.csv\n",
      "C:/All DataSet/Schizophrenia/archive\\69.csv\\69.csv\n",
      "C:/All DataSet/Schizophrenia/archive\\7.csv\\7.csv\n",
      "C:/All DataSet/Schizophrenia/archive\\70.csv\\70.csv\n",
      "C:/All DataSet/Schizophrenia/archive\\71.csv\\71.csv\n",
      "C:/All DataSet/Schizophrenia/archive\\72.csv\\72.csv\n",
      "C:/All DataSet/Schizophrenia/archive\\73.csv\\73.csv\n",
      "C:/All DataSet/Schizophrenia/archive\\74.csv\\74.csv\n",
      "C:/All DataSet/Schizophrenia/archive\\75.csv\\75.csv\n",
      "C:/All DataSet/Schizophrenia/archive\\76.csv\\76.csv\n",
      "C:/All DataSet/Schizophrenia/archive\\77.csv\\77.csv\n",
      "C:/All DataSet/Schizophrenia/archive\\78.csv\\78.csv\n",
      "C:/All DataSet/Schizophrenia/archive\\79.csv\\79.csv\n",
      "C:/All DataSet/Schizophrenia/archive\\8.csv\\8.csv\n",
      "C:/All DataSet/Schizophrenia/archive\\80.csv\\80.csv\n",
      "C:/All DataSet/Schizophrenia/archive\\81.csv\\81.csv\n",
      "C:/All DataSet/Schizophrenia/archive\\9.csv\\9.csv\n"
     ]
    }
   ],
   "source": [
    "# Checking paths\n",
    "\n",
    "for dirname, _, filenames in os.walk('C:/All DataSet/Schizophrenia/archive'):\n",
    "    for filename in filenames:\n",
    "        print(os.path.join(dirname, filename))"
   ]
  },
  {
   "cell_type": "code",
   "execution_count": 3,
   "metadata": {},
   "outputs": [
    {
     "data": {
      "text/html": [
       "<div>\n",
       "<style scoped>\n",
       "    .dataframe tbody tr th:only-of-type {\n",
       "        vertical-align: middle;\n",
       "    }\n",
       "\n",
       "    .dataframe tbody tr th {\n",
       "        vertical-align: top;\n",
       "    }\n",
       "\n",
       "    .dataframe thead th {\n",
       "        text-align: right;\n",
       "    }\n",
       "</style>\n",
       "<table border=\"1\" class=\"dataframe\">\n",
       "  <thead>\n",
       "    <tr style=\"text-align: right;\">\n",
       "      <th></th>\n",
       "      <th>subject</th>\n",
       "      <th>group</th>\n",
       "      <th>gender</th>\n",
       "      <th>age</th>\n",
       "      <th>education</th>\n",
       "    </tr>\n",
       "  </thead>\n",
       "  <tbody>\n",
       "    <tr>\n",
       "      <th>0</th>\n",
       "      <td>1</td>\n",
       "      <td>0</td>\n",
       "      <td>M</td>\n",
       "      <td>44</td>\n",
       "      <td>16.0</td>\n",
       "    </tr>\n",
       "    <tr>\n",
       "      <th>1</th>\n",
       "      <td>2</td>\n",
       "      <td>0</td>\n",
       "      <td>M</td>\n",
       "      <td>39</td>\n",
       "      <td>17.0</td>\n",
       "    </tr>\n",
       "    <tr>\n",
       "      <th>2</th>\n",
       "      <td>3</td>\n",
       "      <td>0</td>\n",
       "      <td>M</td>\n",
       "      <td>53</td>\n",
       "      <td>18.0</td>\n",
       "    </tr>\n",
       "    <tr>\n",
       "      <th>3</th>\n",
       "      <td>4</td>\n",
       "      <td>0</td>\n",
       "      <td>M</td>\n",
       "      <td>52</td>\n",
       "      <td>15.0</td>\n",
       "    </tr>\n",
       "    <tr>\n",
       "      <th>4</th>\n",
       "      <td>5</td>\n",
       "      <td>0</td>\n",
       "      <td>M</td>\n",
       "      <td>41</td>\n",
       "      <td>16.0</td>\n",
       "    </tr>\n",
       "    <tr>\n",
       "      <th>...</th>\n",
       "      <td>...</td>\n",
       "      <td>...</td>\n",
       "      <td>...</td>\n",
       "      <td>...</td>\n",
       "      <td>...</td>\n",
       "    </tr>\n",
       "    <tr>\n",
       "      <th>76</th>\n",
       "      <td>77</td>\n",
       "      <td>1</td>\n",
       "      <td>M</td>\n",
       "      <td>28</td>\n",
       "      <td>13.0</td>\n",
       "    </tr>\n",
       "    <tr>\n",
       "      <th>77</th>\n",
       "      <td>78</td>\n",
       "      <td>1</td>\n",
       "      <td>F</td>\n",
       "      <td>32</td>\n",
       "      <td>16.0</td>\n",
       "    </tr>\n",
       "    <tr>\n",
       "      <th>78</th>\n",
       "      <td>79</td>\n",
       "      <td>1</td>\n",
       "      <td>M</td>\n",
       "      <td>37</td>\n",
       "      <td>16.0</td>\n",
       "    </tr>\n",
       "    <tr>\n",
       "      <th>79</th>\n",
       "      <td>80</td>\n",
       "      <td>1</td>\n",
       "      <td>M</td>\n",
       "      <td>33</td>\n",
       "      <td>13.0</td>\n",
       "    </tr>\n",
       "    <tr>\n",
       "      <th>80</th>\n",
       "      <td>81</td>\n",
       "      <td>1</td>\n",
       "      <td>M</td>\n",
       "      <td>56</td>\n",
       "      <td>13.0</td>\n",
       "    </tr>\n",
       "  </tbody>\n",
       "</table>\n",
       "<p>81 rows × 5 columns</p>\n",
       "</div>"
      ],
      "text/plain": [
       "    subject   group  gender   age   education\n",
       "0         1       0       M    44        16.0\n",
       "1         2       0       M    39        17.0\n",
       "2         3       0       M    53        18.0\n",
       "3         4       0       M    52        15.0\n",
       "4         5       0       M    41        16.0\n",
       "..      ...     ...     ...   ...         ...\n",
       "76       77       1       M    28        13.0\n",
       "77       78       1       F    32        16.0\n",
       "78       79       1       M    37        16.0\n",
       "79       80       1       M    33        13.0\n",
       "80       81       1       M    56        13.0\n",
       "\n",
       "[81 rows x 5 columns]"
      ]
     },
     "execution_count": 3,
     "metadata": {},
     "output_type": "execute_result"
    }
   ],
   "source": [
    "# Loading the demographic.csv data to glimpse over the data and look for class imbalances\n",
    "\n",
    "demographic = pd.read_csv(\"C:/All DataSet/Schizophrenia/archive/demographic.csv\")\n",
    "demographic"
   ]
  },
  {
   "cell_type": "code",
   "execution_count": 4,
   "metadata": {},
   "outputs": [
    {
     "data": {
      "text/plain": [
       "0.6049382716049383"
      ]
     },
     "execution_count": 4,
     "metadata": {},
     "output_type": "execute_result"
    }
   ],
   "source": [
    "demographic[\" group\"].mean()"
   ]
  },
  {
   "cell_type": "markdown",
   "metadata": {},
   "source": [
    "Since 0 is the label for the healthy control group and 1 for schizophrenic patients, there tend to be more schizophrenic patients in the data. There is a light imbalance of classes in the provided data."
   ]
  },
  {
   "cell_type": "code",
   "execution_count": 5,
   "metadata": {},
   "outputs": [
    {
     "name": "stdout",
     "output_type": "stream",
     "text": [
      "0)   Control\n",
      "1)   Control\n",
      "2)   Control\n",
      "3)   Control\n",
      "4)   Control\n",
      "5)   Control\n",
      "6)   Control\n",
      "7)   Control\n",
      "8)   Control\n",
      "9)   Control\n",
      "10)   Control\n",
      "11)   Control\n",
      "12)   Control\n",
      "13)   Control\n",
      "14)   Control\n",
      "15)   Control\n",
      "16)   Control\n",
      "17)   Control\n",
      "18)   Control\n",
      "19)   Control\n",
      "20)   Control\n",
      "21)   Control\n",
      "22)   Control\n",
      "23)   Control\n",
      "24)   Schizophrenic\n",
      "25)   Schizophrenic\n",
      "26)   Schizophrenic\n",
      "27)   Schizophrenic\n",
      "28)   Schizophrenic\n",
      "29)   Schizophrenic\n",
      "30)   Schizophrenic\n",
      "31)   Schizophrenic\n",
      "32)   Schizophrenic\n",
      "33)   Schizophrenic\n",
      "34)   Schizophrenic\n",
      "35)   Schizophrenic\n",
      "36)   Schizophrenic\n",
      "37)   Schizophrenic\n",
      "38)   Schizophrenic\n",
      "39)   Schizophrenic\n",
      "40)   Schizophrenic\n",
      "41)   Schizophrenic\n",
      "42)   Schizophrenic\n",
      "43)   Schizophrenic\n",
      "44)   Schizophrenic\n",
      "45)   Schizophrenic\n",
      "46)   Schizophrenic\n",
      "47)   Schizophrenic\n",
      "48)   Schizophrenic\n",
      "49)   Schizophrenic\n",
      "50)   Schizophrenic\n",
      "51)   Schizophrenic\n",
      "52)   Schizophrenic\n",
      "53)   Schizophrenic\n",
      "54)   Schizophrenic\n",
      "55)   Schizophrenic\n",
      "56)   Schizophrenic\n",
      "57)   Schizophrenic\n",
      "58)   Control\n",
      "59)   Control\n",
      "60)   Control\n",
      "61)   Control\n",
      "62)   Control\n",
      "63)   Control\n",
      "64)   Control\n",
      "65)   Control\n",
      "66)   Schizophrenic\n",
      "67)   Schizophrenic\n",
      "68)   Schizophrenic\n",
      "69)   Schizophrenic\n",
      "70)   Schizophrenic\n",
      "71)   Schizophrenic\n",
      "72)   Schizophrenic\n",
      "73)   Schizophrenic\n",
      "74)   Schizophrenic\n",
      "75)   Schizophrenic\n",
      "76)   Schizophrenic\n",
      "77)   Schizophrenic\n",
      "78)   Schizophrenic\n",
      "79)   Schizophrenic\n",
      "80)   Schizophrenic\n"
     ]
    }
   ],
   "source": [
    "for i, t in enumerate(list(demographic[\" group\"])):\n",
    "    if t:\n",
    "        print(f\"{i})   Schizophrenic\")\n",
    "    else:\n",
    "        print(f\"{i})   Control\")"
   ]
  },
  {
   "cell_type": "markdown",
   "metadata": {},
   "source": [
    "The experiment outline in the Introduction section states that the main founding of the experiment was a remarkable difference in the EEG data of healthy people and those affected by schizophrenia, when they pressed the button and an audio signal was played as opposed to when the tone was played without them having touched the button. To see the difference, two candidates, one healthy and one schizophrenic are selected and their brainwave data is visualized in a timeseries."
   ]
  },
  {
   "cell_type": "code",
   "execution_count": 6,
   "metadata": {},
   "outputs": [],
   "source": [
    "diagnosis_dict = dict(zip(demographic.subject, demographic[\" group\"]))\n",
    "del demographic"
   ]
  },
  {
   "cell_type": "code",
   "execution_count": 7,
   "metadata": {},
   "outputs": [
    {
     "data": {
      "text/plain": [
       "0"
      ]
     },
     "execution_count": 7,
     "metadata": {},
     "output_type": "execute_result"
    }
   ],
   "source": [
    "# Healthy subject number\n",
    "\n",
    "diagnosis_dict[2]"
   ]
  },
  {
   "cell_type": "code",
   "execution_count": 8,
   "metadata": {},
   "outputs": [
    {
     "data": {
      "text/plain": [
       "1"
      ]
     },
     "execution_count": 8,
     "metadata": {},
     "output_type": "execute_result"
    }
   ],
   "source": [
    "# Schizophrenic subject number\n",
    "\n",
    "diagnosis_dict[79]"
   ]
  },
  {
   "cell_type": "code",
   "execution_count": null,
   "metadata": {},
   "outputs": [],
   "source": []
  },
  {
   "cell_type": "markdown",
   "metadata": {},
   "source": [
    "The attached ERP dataset contains the averaged brainwave time series of 9 electrodes for all subjects. The electric activity was measured while they (1) pressed a button to generate a tone, (2) listened to tone being played without action, and (3) pressed the button without generating the tone. The experiment showed less amplitude in the neural activity of schizophrenic persons whenever the tone was played, so in scenarios (1) and (2), compared to non-schizophrenic ones."
   ]
  },
  {
   "cell_type": "code",
   "execution_count": 9,
   "metadata": {},
   "outputs": [
    {
     "data": {
      "text/html": [
       "<div>\n",
       "<style scoped>\n",
       "    .dataframe tbody tr th:only-of-type {\n",
       "        vertical-align: middle;\n",
       "    }\n",
       "\n",
       "    .dataframe tbody tr th {\n",
       "        vertical-align: top;\n",
       "    }\n",
       "\n",
       "    .dataframe thead th {\n",
       "        text-align: right;\n",
       "    }\n",
       "</style>\n",
       "<table border=\"1\" class=\"dataframe\">\n",
       "  <thead>\n",
       "    <tr style=\"text-align: right;\">\n",
       "      <th></th>\n",
       "      <th>subject</th>\n",
       "      <th>condition</th>\n",
       "      <th>Fz</th>\n",
       "      <th>FCz</th>\n",
       "      <th>Cz</th>\n",
       "      <th>FC3</th>\n",
       "      <th>FC4</th>\n",
       "      <th>C3</th>\n",
       "      <th>C4</th>\n",
       "      <th>CP3</th>\n",
       "      <th>CP4</th>\n",
       "      <th>time_ms</th>\n",
       "    </tr>\n",
       "  </thead>\n",
       "  <tbody>\n",
       "    <tr>\n",
       "      <th>0</th>\n",
       "      <td>1</td>\n",
       "      <td>1</td>\n",
       "      <td>5.533701</td>\n",
       "      <td>5.726507</td>\n",
       "      <td>5.469535</td>\n",
       "      <td>5.386723</td>\n",
       "      <td>4.588875</td>\n",
       "      <td>6.560092</td>\n",
       "      <td>4.542811</td>\n",
       "      <td>5.397492</td>\n",
       "      <td>5.103695</td>\n",
       "      <td>-1500.0000</td>\n",
       "    </tr>\n",
       "    <tr>\n",
       "      <th>1</th>\n",
       "      <td>1</td>\n",
       "      <td>1</td>\n",
       "      <td>5.651489</td>\n",
       "      <td>5.837326</td>\n",
       "      <td>5.773131</td>\n",
       "      <td>5.627975</td>\n",
       "      <td>4.822217</td>\n",
       "      <td>6.739976</td>\n",
       "      <td>4.811770</td>\n",
       "      <td>5.541357</td>\n",
       "      <td>5.379273</td>\n",
       "      <td>-1499.0234</td>\n",
       "    </tr>\n",
       "    <tr>\n",
       "      <th>2</th>\n",
       "      <td>1</td>\n",
       "      <td>1</td>\n",
       "      <td>5.717580</td>\n",
       "      <td>5.932924</td>\n",
       "      <td>5.948466</td>\n",
       "      <td>5.826460</td>\n",
       "      <td>4.979647</td>\n",
       "      <td>7.026199</td>\n",
       "      <td>5.053779</td>\n",
       "      <td>5.634972</td>\n",
       "      <td>5.600504</td>\n",
       "      <td>-1498.0469</td>\n",
       "    </tr>\n",
       "    <tr>\n",
       "      <th>3</th>\n",
       "      <td>1</td>\n",
       "      <td>1</td>\n",
       "      <td>5.703267</td>\n",
       "      <td>5.968103</td>\n",
       "      <td>5.851512</td>\n",
       "      <td>5.812192</td>\n",
       "      <td>4.992899</td>\n",
       "      <td>6.940671</td>\n",
       "      <td>5.106650</td>\n",
       "      <td>5.543577</td>\n",
       "      <td>5.589775</td>\n",
       "      <td>-1497.0703</td>\n",
       "    </tr>\n",
       "    <tr>\n",
       "      <th>4</th>\n",
       "      <td>1</td>\n",
       "      <td>1</td>\n",
       "      <td>5.571578</td>\n",
       "      <td>5.917541</td>\n",
       "      <td>5.812808</td>\n",
       "      <td>5.744715</td>\n",
       "      <td>4.963338</td>\n",
       "      <td>6.726491</td>\n",
       "      <td>5.158073</td>\n",
       "      <td>5.454069</td>\n",
       "      <td>5.614092</td>\n",
       "      <td>-1496.0938</td>\n",
       "    </tr>\n",
       "  </tbody>\n",
       "</table>\n",
       "</div>"
      ],
      "text/plain": [
       "   subject  condition        Fz       FCz        Cz       FC3       FC4  \\\n",
       "0        1          1  5.533701  5.726507  5.469535  5.386723  4.588875   \n",
       "1        1          1  5.651489  5.837326  5.773131  5.627975  4.822217   \n",
       "2        1          1  5.717580  5.932924  5.948466  5.826460  4.979647   \n",
       "3        1          1  5.703267  5.968103  5.851512  5.812192  4.992899   \n",
       "4        1          1  5.571578  5.917541  5.812808  5.744715  4.963338   \n",
       "\n",
       "         C3        C4       CP3       CP4    time_ms  \n",
       "0  6.560092  4.542811  5.397492  5.103695 -1500.0000  \n",
       "1  6.739976  4.811770  5.541357  5.379273 -1499.0234  \n",
       "2  7.026199  5.053779  5.634972  5.600504 -1498.0469  \n",
       "3  6.940671  5.106650  5.543577  5.589775 -1497.0703  \n",
       "4  6.726491  5.158073  5.454069  5.614092 -1496.0938  "
      ]
     },
     "execution_count": 9,
     "metadata": {},
     "output_type": "execute_result"
    }
   ],
   "source": [
    "erp = pd.read_csv(\"C:/All DataSet/Schizophrenia/archive/ERPdata.csv\")\n",
    "erp.head()"
   ]
  },
  {
   "cell_type": "code",
   "execution_count": 10,
   "metadata": {},
   "outputs": [],
   "source": [
    "def plot_eeg(subject_number):\n",
    "    \n",
    "    if diagnosis_dict[subject_number] == 0:\n",
    "        status = \"Healthy\"\n",
    "    else:\n",
    "        status = \"Schizophrenic\"\n",
    "        \n",
    "    plt.plot(erp[(erp.subject==subject_number) & (erp.condition==1)].time_ms, erp[(erp.subject==subject_number) & (erp.condition==1)].Fz)\n",
    "    plt.ylim(-10, 12)\n",
    "    plt.title(\"Tone signal after button press - \" + status)  \n",
    "    plt.xlabel(\"Time (ms) on tone signal\")\n",
    "    plt.ylabel(\"Electrode signal (µvolts)\")\n",
    "    plt.show()\n",
    "\n",
    "    plt.plot(erp[(erp.subject==subject_number) & (erp.condition==2)].time_ms, erp[(erp.subject==subject_number) & (erp.condition==2)].Fz)\n",
    "    plt.ylim(-10, 12) \n",
    "    plt.title(\"Tone signal without button press - \" + status)  \n",
    "    plt.xlabel(\"Time (ms) on tone signal\")\n",
    "    plt.ylabel(\"Electrode signal (µvolts)\")\n",
    "    plt.show()\n",
    "\n",
    "    plt.plot(erp[(erp.subject==subject_number) & (erp.condition==3)].time_ms, erp[(erp.subject==subject_number) & (erp.condition==3)].Fz)\n",
    "    plt.ylim(-10, 12)  \n",
    "    plt.title(\"No tone signal after button press - \" + status)    \n",
    "    plt.xlabel(\"Time (ms) on button press\") \n",
    "    plt.ylabel(\"Electrode signal (µvolts)\")\n",
    "    plt.show()"
   ]
  },
  {
   "cell_type": "code",
   "execution_count": 11,
   "metadata": {},
   "outputs": [
    {
     "data": {
      "image/png": "[encoded data removed]",
      "text/plain": [
       "<Figure size 432x288 with 1 Axes>"
      ]
     },
     "metadata": {
      "needs_background": "light"
     },
     "output_type": "display_data"
    },
    {
     "data": {
      "image/png": "[encoded data removed]",
      "text/plain": [
       "<Figure size 432x288 with 1 Axes>"
      ]
     },
     "metadata": {
      "needs_background": "light"
     },
     "output_type": "display_data"
    },
    {
     "data": {
      "image/png": "[encoded data removed]",
      "text/plain": [
       "<Figure size 432x288 with 1 Axes>"
      ]
     },
     "metadata": {
      "needs_background": "light"
     },
     "output_type": "display_data"
    }
   ],
   "source": [
    "plot_eeg(2)"
   ]
  },
  {
   "cell_type": "code",
   "execution_count": 12,
   "metadata": {},
   "outputs": [
    {
     "ename": "NameError",
     "evalue": "name 'demographic' is not defined",
     "output_type": "error",
     "traceback": [
      "\u001b[1;31m---------------------------------------------------------------------------\u001b[0m",
      "\u001b[1;31mNameError\u001b[0m                                 Traceback (most recent call last)",
      "\u001b[1;32m<ipython-input-12-5c72b0542576>\u001b[0m in \u001b[0;36m<module>\u001b[1;34m\u001b[0m\n\u001b[1;32m----> 1\u001b[1;33m \u001b[0mdemographic\u001b[0m \u001b[1;33m=\u001b[0m \u001b[0mdemographic\u001b[0m\u001b[1;33m[\u001b[0m\u001b[0mdemographic\u001b[0m\u001b[1;33m.\u001b[0m\u001b[0msubject\u001b[0m \u001b[1;33m==\u001b[0m \u001b[1;36m2\u001b[0m\u001b[1;33m]\u001b[0m\u001b[1;33m\u001b[0m\u001b[1;33m\u001b[0m\u001b[0m\n\u001b[0m",
      "\u001b[1;31mNameError\u001b[0m: name 'demographic' is not defined"
     ]
    }
   ],
   "source": [
    "demographic = demographic[demographic.subject == 2]"
   ]
  },
  {
   "cell_type": "markdown",
   "metadata": {},
   "source": [
    "Upper plots show the electrode signal of a healthy, male individual of 39 years and normal education. An amplitude shortly after the signal tone can be seen."
   ]
  },
  {
   "cell_type": "code",
   "execution_count": 13,
   "metadata": {},
   "outputs": [
    {
     "data": {
      "image/png": "[encoded data removed]",
      "text/plain": [
       "<Figure size 432x288 with 1 Axes>"
      ]
     },
     "metadata": {
      "needs_background": "light"
     },
     "output_type": "display_data"
    },
    {
     "data": {
      "image/png": "[encoded data removed]",
      "text/plain": [
       "<Figure size 432x288 with 1 Axes>"
      ]
     },
     "metadata": {
      "needs_background": "light"
     },
     "output_type": "display_data"
    },
    {
     "data": {
      "image/png": "[encoded data removed]",
      "text/plain": [
       "<Figure size 432x288 with 1 Axes>"
      ]
     },
     "metadata": {
      "needs_background": "light"
     },
     "output_type": "display_data"
    }
   ],
   "source": [
    "plot_eeg(79)"
   ]
  },
  {
   "cell_type": "code",
   "execution_count": null,
   "metadata": {},
   "outputs": [],
   "source": [
    "demographic[demographic.subject == 79]"
   ]
  },
  {
   "cell_type": "markdown",
   "metadata": {},
   "source": [
    "Upper plots show the electrode signal of a schizphrenia affected, male individual of 37 years and normal education. The amplitude shortly after the signal tone is not as clear and the brainwave in general is more erratic. "
   ]
  },
  {
   "cell_type": "code",
   "execution_count": 14,
   "metadata": {},
   "outputs": [
    {
     "name": "stdout",
     "output_type": "stream",
     "text": [
      "['Fp1', 'AF7', 'AF3', 'F1', 'F3', 'F5', 'F7', 'FT7', 'FC5', 'FC3', 'FC1', 'C1', 'C3', 'C5', 'T7', 'TP7', 'CP5', 'CP3', 'CP1', 'P1', 'P3', 'P5', 'P7', 'P9', 'PO7', 'PO3', 'O1', 'Iz', 'Oz', 'POz', 'Pz', 'CPz', 'Fpz', 'Fp2', 'AF8', 'AF4', 'AFz', 'Fz', 'F2', 'F4', 'F6', 'F8', 'FT8', 'FC6', 'FC4', 'FC2', 'FCz', 'Cz', 'C2', 'C4', 'C6', 'T8', 'TP8', 'CP6', 'CP4', 'CP2', 'P2', 'P4', 'P6', 'P8', 'P10', 'PO8', 'PO4', 'O2', 'VEOa', 'VEOb', 'HEOL', 'HEOR', 'Nose', 'TP10']\n"
     ]
    }
   ],
   "source": [
    "electrodes_list = list(pd.read_csv(\"C:/All DataSet/Schizophrenia/archivecolumnLabels.csv\").columns[4:])\n",
    "print(electrodes_list)"
   ]
  },
  {
   "cell_type": "code",
   "execution_count": 15,
   "metadata": {},
   "outputs": [
    {
     "data": {
      "text/plain": [
       "70"
      ]
     },
     "execution_count": 15,
     "metadata": {},
     "output_type": "execute_result"
    }
   ],
   "source": [
    "len(electrodes_list)"
   ]
  },
  {
   "cell_type": "markdown",
   "metadata": {},
   "source": [
    "## **Downsampling**\n",
    "\n",
    "There are 81 subjects to analyze. Each subject had to complete each of the 3 button/tone scenarios 100 times (100x button press with tone after, 100x tone signal without button being pushed, 100x button press with no tone signal after) and for each of the 300 trials, up to 3,072 samples of each electrode were collected. The data was collected for 70 electrodes, so this results in 81 datasets of each roughly 64.5 million values (3 * 100 * 3,072 * 70), if all samples were collected, which is not always the case. Still, this is too much data to process, so simplifying the data before training is inevitable. To downsize the data a little bit, the average of N samples of each electrode can be calculated."
   ]
  },
  {
   "cell_type": "code",
   "execution_count": 16,
   "metadata": {},
   "outputs": [],
   "source": [
    "# Function to calculate the average of N values of every electrode for each trial. This step reduces the dimension of the input data by factor N.\n",
    "\n",
    "def averaged_by_N_rows(a, n):\n",
    "    shape = a.shape\n",
    "    assert len(shape) == 2\n",
    "    assert shape[0] % n == 0\n",
    "    b = a.reshape(shape[0] // n, n, shape[1])\n",
    "    mean_vec = b.mean(axis=1)\n",
    "    return mean_vec"
   ]
  },
  {
   "cell_type": "code",
   "execution_count": 20,
   "metadata": {},
   "outputs": [
    {
     "name": "stdout",
     "output_type": "stream",
     "text": [
      "Number of trials -  7092\n"
     ]
    }
   ],
   "source": [
    "# The number that the number of maximum samples of 9,216 is divided by\n",
    "N_AVERAGED = 16\n",
    "\n",
    "# Empty matrices of 0s in the required dimensions are built:\n",
    "# 81 = no. of subjects\n",
    "# 100 = no. of trials (100 trials per subject)\n",
    "# 9,216 = 3 button press/tone scenarios * 3,072 EEG samples\n",
    "# electrodes_list = 70\n",
    "X = np.zeros((81 * 100,  9216 * len(electrodes_list) // N_AVERAGED), dtype=\"float32\")\n",
    "Y = np.zeros(len(X))\n",
    "\n",
    "part1_path = \"C:/All DataSet/Schizophrenia/archive/part1\"\n",
    "part2_path = \"C:/All DataSet/Schizophrenia/archive/part2\"\n",
    "\n",
    "x_counter = 0\n",
    "column_list = pd.read_csv(\"C:/All DataSet/Schizophrenia/archive/columnLabels.csv\").columns\n",
    "for person_number in range(1, 81 + 1):\n",
    "            \n",
    "    \n",
    "    csv_path = f\"{part1_path}/{person_number}.csv/{person_number}.csv\"\n",
    "    if not os.path.exists(csv_path):\n",
    "        csv_path = f\"{part2_path}/{person_number}.csv/{person_number}.csv\"\n",
    "    df = pd.read_csv(csv_path, \n",
    "                header=None,\n",
    "                names=column_list\n",
    "                )\n",
    "\n",
    "    trials_list = set(df.trial)\n",
    "    \n",
    "# For every trial from 1 to 100 of each test subject from 1 to 81, up to 9,216 samples are divided by 16 (in some test subjects' trials there are less than 9,216 samples).\n",
    "    for t1, trial_number in enumerate(trials_list):\n",
    "        number_of_trials = len(df[df.trial == trial_number])\n",
    "        if number_of_trials == 9216.0:\n",
    "            current_sample_matrix = df[df.trial == trial_number][electrodes_list].values\n",
    "            averaged_by_N = averaged_by_N_rows(current_sample_matrix, n=N_AVERAGED)\n",
    "            averaged_by_N_big_vec = averaged_by_N.reshape(-1)\n",
    "            X[x_counter] = averaged_by_N_big_vec.astype(np.float32)\n",
    "            Y[x_counter] = diagnosis_dict[person_number]\n",
    "            x_counter += 1\n",
    "\n",
    "print(\"Number of trials - \", x_counter)\n",
    "X = X[: x_counter]\n",
    "Y = Y[: x_counter]"
   ]
  },
  {
   "cell_type": "markdown",
   "metadata": {},
   "source": [
    "The averaged electrode data was saved as X variable and the corresponding diagnosis was saved to a Y variable. The contained data can be written to a binary format file (for fewer disk space usage)."
   ]
  },
  {
   "cell_type": "code",
   "execution_count": 21,
   "metadata": {},
   "outputs": [],
   "source": [
    "X.tofile(\"C:/All DataSet/Schizophrenia/archive/working/goodX_every4.bin\")\n",
    "Y.astype(\"uint8\").tofile(\"C:/All DataSet/Schizophrenia/archive/working/goodY_every4.bin\")"
   ]
  },
  {
   "cell_type": "markdown",
   "metadata": {},
   "source": [
    "The X and Y binary files have to be converted to NumPy arrays, so that they can be used as an input for CNNs."
   ]
  },
  {
   "cell_type": "code",
   "execution_count": 22,
   "metadata": {},
   "outputs": [
    {
     "name": "stdout",
     "output_type": "stream",
     "text": [
      "Done! Time: Sat Apr  9 00:55:54 2022\n"
     ]
    }
   ],
   "source": [
    "Y = np.fromfile(\"C:/All DataSet/Schizophrenia/archive/working/goodY_every4.bin\", dtype=np.uint8)    \n",
    "X = np.fromfile(\"C:/All DataSet/Schizophrenia/archive/working/goodX_every4.bin\", dtype=np.float32).reshape(len(Y), -1)\n",
    "print(\"Done! Time:\", time.ctime())"
   ]
  },
  {
   "cell_type": "code",
   "execution_count": 23,
   "metadata": {},
   "outputs": [
    {
     "name": "stdout",
     "output_type": "stream",
     "text": [
      "Done! Time: Sat Apr  9 00:56:16 2022\n"
     ]
    }
   ],
   "source": [
    "Y = np.fromfile(\"C:/All DataSet/Schizophrenia/archive/working/goodY_every4.bin\", dtype=np.uint8)    \n",
    "X = np.fromfile(\"C:/All DataSet/Schizophrenia/archive/working/goodX_every4.bin\", dtype=np.float32).reshape(len(Y), -1)\n",
    "print(\"Done! Time:\", time.ctime())"
   ]
  },
  {
   "cell_type": "markdown",
   "metadata": {},
   "source": [
    "## **Preprocessing**\n",
    "\n",
    "Before being used as an input, the electrode values are being normalized because it is recommended to use scaling on CNN input. To do so, the electrode values have to be represented in one dimension and everything else (test subject, trial no., sample no.) has to be put into the other dimension."
   ]
  },
  {
   "cell_type": "code",
   "execution_count": 24,
   "metadata": {},
   "outputs": [],
   "source": [
    "X_norm = (normalize(X.reshape(-1, 70), axis=0, norm='max')).reshape(X.shape)"
   ]
  },
  {
   "cell_type": "markdown",
   "metadata": {},
   "source": [
    "## **Train/Test-Split**"
   ]
  },
  {
   "cell_type": "code",
   "execution_count": 25,
   "metadata": {},
   "outputs": [],
   "source": [
    "X_train_norm, X_test_norm, Y_train_norm, Y_test_norm = train_test_split(X_norm, Y, test_size=0.2, shuffle=True, random_state=42)"
   ]
  },
  {
   "cell_type": "markdown",
   "metadata": {},
   "source": [
    "The predictor data is once more reshaped so that the array has three dimensions:\n",
    "1) each trial of every test subject (81 * 100)\n",
    "2) electrodes (70)\n",
    "3) average of every 16th of the 9,216 samples (576)\n",
    "\n",
    "Not every trial had all the 9,216 samples, so it is expected that there are not all 81 * 100 trials present in the array."
   ]
  },
  {
   "cell_type": "code",
   "execution_count": 26,
   "metadata": {},
   "outputs": [
    {
     "data": {
      "text/plain": [
       "7092"
      ]
     },
     "execution_count": 26,
     "metadata": {},
     "output_type": "execute_result"
    }
   ],
   "source": [
    "X_train_2d = X_train_norm.reshape(X_train_norm.shape[0], len(electrodes_list), X_train_norm.shape[1] // len(electrodes_list), 1)\n",
    "X_test_2d = X_test_norm.reshape(X_test_norm.shape[0], len(electrodes_list), X_test_norm.shape[1] // len(electrodes_list), 1)\n",
    "X_train_2d.shape[0] + X_test_2d.shape[0]"
   ]
  },
  {
   "cell_type": "markdown",
   "metadata": {},
   "source": [
    "7,092 trials are in the array, so 7,092 \"cases\" which can be used for training and testing, each labelled as healthy or schizophrenic."
   ]
  },
  {
   "cell_type": "markdown",
   "metadata": {},
   "source": [
    "## **Modelling**\n",
    "\n",
    "### 1st Model"
   ]
  },
  {
   "cell_type": "code",
   "execution_count": 27,
   "metadata": {},
   "outputs": [
    {
     "name": "stdout",
     "output_type": "stream",
     "text": [
      "WARNING:tensorflow:From C:\\Users\\My PC\\anaconda3\\envs\\PythonGPU\\lib\\site-packages\\keras\\backend\\tensorflow_backend.py:74: The name tf.get_default_graph is deprecated. Please use tf.compat.v1.get_default_graph instead.\n",
      "\n",
      "WARNING:tensorflow:From C:\\Users\\My PC\\anaconda3\\envs\\PythonGPU\\lib\\site-packages\\keras\\backend\\tensorflow_backend.py:517: The name tf.placeholder is deprecated. Please use tf.compat.v1.placeholder instead.\n",
      "\n",
      "WARNING:tensorflow:From C:\\Users\\My PC\\anaconda3\\envs\\PythonGPU\\lib\\site-packages\\keras\\backend\\tensorflow_backend.py:4138: The name tf.random_uniform is deprecated. Please use tf.random.uniform instead.\n",
      "\n",
      "WARNING:tensorflow:From C:\\Users\\My PC\\anaconda3\\envs\\PythonGPU\\lib\\site-packages\\keras\\backend\\tensorflow_backend.py:3976: The name tf.nn.max_pool is deprecated. Please use tf.nn.max_pool2d instead.\n",
      "\n",
      "WARNING:tensorflow:From C:\\Users\\My PC\\anaconda3\\envs\\PythonGPU\\lib\\site-packages\\keras\\backend\\tensorflow_backend.py:133: The name tf.placeholder_with_default is deprecated. Please use tf.compat.v1.placeholder_with_default instead.\n",
      "\n",
      "WARNING:tensorflow:From C:\\Users\\My PC\\anaconda3\\envs\\PythonGPU\\lib\\site-packages\\keras\\backend\\tensorflow_backend.py:3445: calling dropout (from tensorflow.python.ops.nn_ops) with keep_prob is deprecated and will be removed in a future version.\n",
      "Instructions for updating:\n",
      "Please use `rate` instead of `keep_prob`. Rate should be set to `rate = 1 - keep_prob`.\n"
     ]
    }
   ],
   "source": [
    "filepath=\"C:/All DataSet/Schizophrenia/archive/best_model1.h5\"\n",
    "checkpoint = ModelCheckpoint(filepath, monitor='val_acc', verbose=1, save_best_only=True, mode='max')\n",
    "\n",
    "model = Sequential()\n",
    "model.add(Conv2D(32, kernel_size=(5, 20),\n",
    "                 activation='tanh',\n",
    "                 input_shape=(X_train_2d.shape[1:])))\n",
    "model.add(MaxPooling2D(pool_size=(5, 15)))\n",
    "\n",
    "model.add(Conv2D(13, kernel_size=(3, 3),\n",
    "                 activation='tanh',))\n",
    "model.add(MaxPooling2D(pool_size=(3, 3)))\n",
    "          \n",
    "\n",
    "model.add(Dropout(0.2))\n",
    "model.add(Flatten())\n",
    "\n",
    "model.add(Dense(317, activation='relu'))\n",
    "\n",
    "model.add(Dense(1, activation='sigmoid'))"
   ]
  },
  {
   "cell_type": "code",
   "execution_count": 33,
   "metadata": {},
   "outputs": [],
   "source": [
    "from keras.models import Sequential\n",
    "from keras.layers import Dense, Dropout, LSTM, BatchNormalization\n",
    "from keras.callbacks import TensorBoard\n",
    "from keras.callbacks import ModelCheckpoint\n",
    "from keras.optimizers import adam"
   ]
  },
  {
   "cell_type": "code",
   "execution_count": null,
   "metadata": {},
   "outputs": [],
   "source": [
    "model.compile(loss=keras.losses.binary_crossentropy,\n",
    "              optimizer=tf.keras.optimizers.Adam(0.00001),\n",
    "              metrics=['acc'])"
   ]
  },
  {
   "cell_type": "code",
   "execution_count": 37,
   "metadata": {},
   "outputs": [],
   "source": [
    "model.compile(optimizer= 'adam' , \n",
    "              loss= keras.losses.binary_crossentropy,\n",
    "              metrics=['acc'])"
   ]
  },
  {
   "cell_type": "code",
   "execution_count": 38,
   "metadata": {},
   "outputs": [],
   "source": [
    "history_params = []"
   ]
  },
  {
   "cell_type": "code",
   "execution_count": 39,
   "metadata": {},
   "outputs": [
    {
     "name": "stdout",
     "output_type": "stream",
     "text": [
      "WARNING:tensorflow:From C:\\Users\\My PC\\anaconda3\\envs\\PythonGPU\\lib\\site-packages\\keras\\backend\\tensorflow_backend.py:986: The name tf.assign_add is deprecated. Please use tf.compat.v1.assign_add instead.\n",
      "\n",
      "WARNING:tensorflow:From C:\\Users\\My PC\\anaconda3\\envs\\PythonGPU\\lib\\site-packages\\keras\\backend\\tensorflow_backend.py:973: The name tf.assign is deprecated. Please use tf.compat.v1.assign instead.\n",
      "\n",
      "WARNING:tensorflow:From C:\\Users\\My PC\\anaconda3\\envs\\PythonGPU\\lib\\site-packages\\keras\\backend\\tensorflow_backend.py:2741: The name tf.Session is deprecated. Please use tf.compat.v1.Session instead.\n",
      "\n",
      "Train on 5673 samples, validate on 1419 samples\n",
      "Epoch 1/100\n",
      "WARNING:tensorflow:From C:\\Users\\My PC\\anaconda3\\envs\\PythonGPU\\lib\\site-packages\\keras\\backend\\tensorflow_backend.py:174: The name tf.get_default_session is deprecated. Please use tf.compat.v1.get_default_session instead.\n",
      "\n",
      "WARNING:tensorflow:From C:\\Users\\My PC\\anaconda3\\envs\\PythonGPU\\lib\\site-packages\\keras\\backend\\tensorflow_backend.py:181: The name tf.ConfigProto is deprecated. Please use tf.compat.v1.ConfigProto instead.\n",
      "\n",
      "WARNING:tensorflow:From C:\\Users\\My PC\\anaconda3\\envs\\PythonGPU\\lib\\site-packages\\keras\\backend\\tensorflow_backend.py:190: The name tf.global_variables is deprecated. Please use tf.compat.v1.global_variables instead.\n",
      "\n",
      "WARNING:tensorflow:From C:\\Users\\My PC\\anaconda3\\envs\\PythonGPU\\lib\\site-packages\\keras\\backend\\tensorflow_backend.py:199: The name tf.is_variable_initialized is deprecated. Please use tf.compat.v1.is_variable_initialized instead.\n",
      "\n",
      "WARNING:tensorflow:From C:\\Users\\My PC\\anaconda3\\envs\\PythonGPU\\lib\\site-packages\\keras\\backend\\tensorflow_backend.py:206: The name tf.variables_initializer is deprecated. Please use tf.compat.v1.variables_initializer instead.\n",
      "\n",
      "5673/5673 [==============================] - 15s 3ms/step - loss: 0.6647 - acc: 0.5976 - val_loss: 0.6566 - val_acc: 0.5927\n",
      "\n",
      "Epoch 00001: val_acc improved from -inf to 0.59267, saving model to C:/All DataSet/Schizophrenia/archive/best_model1.h5\n",
      "Epoch 2/100\n",
      "5673/5673 [==============================] - 4s 680us/step - loss: 0.6505 - acc: 0.6067 - val_loss: 0.6512 - val_acc: 0.6180\n",
      "\n",
      "Epoch 00002: val_acc improved from 0.59267 to 0.61804, saving model to C:/All DataSet/Schizophrenia/archive/best_model1.h5\n",
      "Epoch 3/100\n",
      "5673/5673 [==============================] - 4s 680us/step - loss: 0.6410 - acc: 0.6078 - val_loss: 0.6521 - val_acc: 0.6117\n",
      "\n",
      "Epoch 00003: val_acc did not improve from 0.61804\n",
      "Epoch 4/100\n",
      "5673/5673 [==============================] - 4s 685us/step - loss: 0.6313 - acc: 0.6226 - val_loss: 0.6315 - val_acc: 0.6279\n",
      "\n",
      "Epoch 00004: val_acc improved from 0.61804 to 0.62791, saving model to C:/All DataSet/Schizophrenia/archive/best_model1.h5\n",
      "Epoch 5/100\n",
      "5673/5673 [==============================] - 4s 700us/step - loss: 0.6130 - acc: 0.6441 - val_loss: 0.6395 - val_acc: 0.6068\n",
      "\n",
      "Epoch 00005: val_acc did not improve from 0.62791\n",
      "Epoch 6/100\n",
      "5673/5673 [==============================] - 4s 690us/step - loss: 0.5951 - acc: 0.6610 - val_loss: 0.6196 - val_acc: 0.6420\n",
      "\n",
      "Epoch 00006: val_acc improved from 0.62791 to 0.64200, saving model to C:/All DataSet/Schizophrenia/archive/best_model1.h5\n",
      "Epoch 7/100\n",
      "5673/5673 [==============================] - 4s 693us/step - loss: 0.5771 - acc: 0.6790 - val_loss: 0.6016 - val_acc: 0.6519\n",
      "\n",
      "Epoch 00007: val_acc improved from 0.64200 to 0.65187, saving model to C:/All DataSet/Schizophrenia/archive/best_model1.h5\n",
      "Epoch 8/100\n",
      "5673/5673 [==============================] - 4s 706us/step - loss: 0.5597 - acc: 0.6975 - val_loss: 0.6478 - val_acc: 0.6350\n",
      "\n",
      "Epoch 00008: val_acc did not improve from 0.65187\n",
      "Epoch 9/100\n",
      "5673/5673 [==============================] - 4s 700us/step - loss: 0.5354 - acc: 0.7146 - val_loss: 0.6321 - val_acc: 0.6512\n",
      "\n",
      "Epoch 00009: val_acc did not improve from 0.65187\n",
      "Epoch 10/100\n",
      "5673/5673 [==============================] - 4s 691us/step - loss: 0.5109 - acc: 0.7374 - val_loss: 0.6405 - val_acc: 0.6540\n",
      "\n",
      "Epoch 00010: val_acc improved from 0.65187 to 0.65398, saving model to C:/All DataSet/Schizophrenia/archive/best_model1.h5\n",
      "Epoch 11/100\n",
      "5673/5673 [==============================] - 4s 698us/step - loss: 0.4911 - acc: 0.7486 - val_loss: 0.6062 - val_acc: 0.6709\n",
      "\n",
      "Epoch 00011: val_acc improved from 0.65398 to 0.67090, saving model to C:/All DataSet/Schizophrenia/archive/best_model1.h5\n",
      "Epoch 12/100\n",
      "5673/5673 [==============================] - 4s 687us/step - loss: 0.4620 - acc: 0.7666 - val_loss: 0.6178 - val_acc: 0.6772\n",
      "\n",
      "Epoch 00012: val_acc improved from 0.67090 to 0.67724, saving model to C:/All DataSet/Schizophrenia/archive/best_model1.h5\n",
      "Epoch 13/100\n",
      "5673/5673 [==============================] - 4s 685us/step - loss: 0.4438 - acc: 0.7830 - val_loss: 0.5945 - val_acc: 0.7026\n",
      "\n",
      "Epoch 00013: val_acc improved from 0.67724 to 0.70261, saving model to C:/All DataSet/Schizophrenia/archive/best_model1.h5\n",
      "Epoch 14/100\n",
      "5673/5673 [==============================] - 4s 692us/step - loss: 0.4124 - acc: 0.7992 - val_loss: 0.6265 - val_acc: 0.6970\n",
      "\n",
      "Epoch 00014: val_acc did not improve from 0.70261\n",
      "Epoch 15/100\n",
      "5673/5673 [==============================] - 4s 686us/step - loss: 0.3865 - acc: 0.8146 - val_loss: 0.6938 - val_acc: 0.6878\n",
      "\n",
      "Epoch 00015: val_acc did not improve from 0.70261\n",
      "Epoch 16/100\n",
      "5673/5673 [==============================] - 4s 681us/step - loss: 0.3743 - acc: 0.8251 - val_loss: 0.6932 - val_acc: 0.6702\n",
      "\n",
      "Epoch 00016: val_acc did not improve from 0.70261\n",
      "Epoch 17/100\n",
      "5673/5673 [==============================] - 4s 691us/step - loss: 0.3509 - acc: 0.8406 - val_loss: 0.6631 - val_acc: 0.6899\n",
      "\n",
      "Epoch 00017: val_acc did not improve from 0.70261\n",
      "Epoch 18/100\n",
      "5673/5673 [==============================] - 4s 683us/step - loss: 0.3217 - acc: 0.8614 - val_loss: 0.6805 - val_acc: 0.6934\n",
      "\n",
      "Epoch 00018: val_acc did not improve from 0.70261\n",
      "Epoch 19/100\n",
      "5673/5673 [==============================] - 4s 679us/step - loss: 0.3050 - acc: 0.8706 - val_loss: 0.6823 - val_acc: 0.6801\n",
      "\n",
      "Epoch 00019: val_acc did not improve from 0.70261\n",
      "Epoch 20/100\n",
      "5673/5673 [==============================] - 4s 686us/step - loss: 0.2815 - acc: 0.8803 - val_loss: 0.7294 - val_acc: 0.6758\n",
      "\n",
      "Epoch 00020: val_acc did not improve from 0.70261\n",
      "Epoch 21/100\n",
      "5673/5673 [==============================] - 4s 708us/step - loss: 0.2686 - acc: 0.8858 - val_loss: 0.7593 - val_acc: 0.6822\n",
      "\n",
      "Epoch 00021: val_acc did not improve from 0.70261\n",
      "Epoch 22/100\n",
      "5673/5673 [==============================] - 4s 703us/step - loss: 0.2451 - acc: 0.8993 - val_loss: 0.8121 - val_acc: 0.6885\n",
      "\n",
      "Epoch 00022: val_acc did not improve from 0.70261\n",
      "Epoch 23/100\n",
      "5673/5673 [==============================] - 4s 697us/step - loss: 0.2415 - acc: 0.9034 - val_loss: 0.8925 - val_acc: 0.6660\n",
      "\n",
      "Epoch 00023: val_acc did not improve from 0.70261\n",
      "Epoch 24/100\n",
      "5673/5673 [==============================] - 4s 701us/step - loss: 0.2220 - acc: 0.9108 - val_loss: 0.8019 - val_acc: 0.6829\n",
      "\n",
      "Epoch 00024: val_acc did not improve from 0.70261\n",
      "Epoch 25/100\n",
      "5673/5673 [==============================] - 4s 696us/step - loss: 0.2092 - acc: 0.9152 - val_loss: 0.8378 - val_acc: 0.6836\n",
      "\n",
      "Epoch 00025: val_acc did not improve from 0.70261\n",
      "Epoch 26/100\n",
      "5673/5673 [==============================] - 4s 681us/step - loss: 0.1823 - acc: 0.9284 - val_loss: 0.9356 - val_acc: 0.6794\n",
      "\n",
      "Epoch 00026: val_acc did not improve from 0.70261\n",
      "Epoch 27/100\n",
      "5673/5673 [==============================] - 4s 689us/step - loss: 0.1842 - acc: 0.9268 - val_loss: 0.9053 - val_acc: 0.6505\n",
      "\n",
      "Epoch 00027: val_acc did not improve from 0.70261\n",
      "Epoch 28/100\n",
      "5673/5673 [==============================] - 4s 682us/step - loss: 0.1813 - acc: 0.9290 - val_loss: 0.9055 - val_acc: 0.6765\n",
      "\n",
      "Epoch 00028: val_acc did not improve from 0.70261\n",
      "Epoch 29/100\n",
      "5673/5673 [==============================] - 4s 684us/step - loss: 0.1521 - acc: 0.9422 - val_loss: 1.0618 - val_acc: 0.6638\n",
      "\n",
      "Epoch 00029: val_acc did not improve from 0.70261\n",
      "Epoch 30/100\n",
      "5673/5673 [==============================] - 4s 683us/step - loss: 0.1530 - acc: 0.9447 - val_loss: 0.9442 - val_acc: 0.6674\n",
      "\n",
      "Epoch 00030: val_acc did not improve from 0.70261\n",
      "Epoch 31/100\n",
      "5673/5673 [==============================] - 4s 681us/step - loss: 0.1459 - acc: 0.9432 - val_loss: 0.8942 - val_acc: 0.6794\n",
      "\n",
      "Epoch 00031: val_acc did not improve from 0.70261\n",
      "Epoch 32/100\n",
      "5673/5673 [==============================] - 4s 679us/step - loss: 0.1192 - acc: 0.9582 - val_loss: 1.0564 - val_acc: 0.6857\n",
      "\n",
      "Epoch 00032: val_acc did not improve from 0.70261\n",
      "Epoch 33/100\n",
      "5673/5673 [==============================] - 4s 693us/step - loss: 0.1187 - acc: 0.9561 - val_loss: 1.0271 - val_acc: 0.6885\n",
      "\n",
      "Epoch 00033: val_acc did not improve from 0.70261\n",
      "Epoch 34/100\n",
      "5673/5673 [==============================] - 4s 682us/step - loss: 0.1401 - acc: 0.9469 - val_loss: 1.1419 - val_acc: 0.6772\n",
      "\n",
      "Epoch 00034: val_acc did not improve from 0.70261\n",
      "Epoch 35/100\n",
      "5673/5673 [==============================] - 4s 686us/step - loss: 0.1201 - acc: 0.9573 - val_loss: 1.0386 - val_acc: 0.6829\n",
      "\n",
      "Epoch 00035: val_acc did not improve from 0.70261\n",
      "Epoch 36/100\n",
      "5673/5673 [==============================] - 4s 684us/step - loss: 0.1137 - acc: 0.9605 - val_loss: 1.0347 - val_acc: 0.6786\n",
      "\n",
      "Epoch 00036: val_acc did not improve from 0.70261\n",
      "Epoch 37/100\n",
      "5673/5673 [==============================] - 4s 688us/step - loss: 0.0966 - acc: 0.9662 - val_loss: 1.1122 - val_acc: 0.6667\n",
      "\n",
      "Epoch 00037: val_acc did not improve from 0.70261\n",
      "Epoch 38/100\n",
      "5673/5673 [==============================] - 4s 686us/step - loss: 0.0877 - acc: 0.9699 - val_loss: 1.2092 - val_acc: 0.6631\n",
      "\n",
      "Epoch 00038: val_acc did not improve from 0.70261\n",
      "Epoch 39/100\n",
      "5673/5673 [==============================] - 4s 682us/step - loss: 0.1025 - acc: 0.9612 - val_loss: 1.1695 - val_acc: 0.6582\n",
      "\n",
      "Epoch 00039: val_acc did not improve from 0.70261\n",
      "Epoch 40/100\n",
      "5673/5673 [==============================] - 4s 688us/step - loss: 0.0944 - acc: 0.9688 - val_loss: 1.2504 - val_acc: 0.6448\n",
      "\n",
      "Epoch 00040: val_acc did not improve from 0.70261\n",
      "Epoch 41/100\n",
      "5673/5673 [==============================] - 4s 693us/step - loss: 0.0962 - acc: 0.9653 - val_loss: 1.2145 - val_acc: 0.6483\n",
      "\n",
      "Epoch 00041: val_acc did not improve from 0.70261\n",
      "Epoch 42/100\n",
      "5673/5673 [==============================] - 4s 688us/step - loss: 0.0917 - acc: 0.9681 - val_loss: 1.2059 - val_acc: 0.6610\n",
      "\n",
      "Epoch 00042: val_acc did not improve from 0.70261\n",
      "Epoch 43/100\n",
      "5673/5673 [==============================] - 4s 681us/step - loss: 0.0718 - acc: 0.9753 - val_loss: 1.1854 - val_acc: 0.6610\n",
      "\n",
      "Epoch 00043: val_acc did not improve from 0.70261\n",
      "Epoch 44/100\n",
      "5673/5673 [==============================] - 4s 681us/step - loss: 0.0753 - acc: 0.9734 - val_loss: 1.1341 - val_acc: 0.6688\n",
      "\n",
      "Epoch 00044: val_acc did not improve from 0.70261\n",
      "Epoch 45/100\n",
      "5673/5673 [==============================] - 4s 681us/step - loss: 0.0903 - acc: 0.9693 - val_loss: 1.2715 - val_acc: 0.6765\n",
      "\n",
      "Epoch 00045: val_acc did not improve from 0.70261\n",
      "Epoch 46/100\n",
      "5673/5673 [==============================] - 4s 686us/step - loss: 0.0778 - acc: 0.9727 - val_loss: 1.2871 - val_acc: 0.6519\n",
      "\n",
      "Epoch 00046: val_acc did not improve from 0.70261\n",
      "Epoch 47/100\n",
      "5673/5673 [==============================] - 4s 682us/step - loss: 0.0723 - acc: 0.9757 - val_loss: 1.3084 - val_acc: 0.6702\n",
      "\n",
      "Epoch 00047: val_acc did not improve from 0.70261\n",
      "Epoch 48/100\n",
      "5673/5673 [==============================] - 4s 690us/step - loss: 0.0663 - acc: 0.9751 - val_loss: 1.2208 - val_acc: 0.6589\n",
      "\n",
      "Epoch 00048: val_acc did not improve from 0.70261\n",
      "Epoch 49/100\n",
      "5673/5673 [==============================] - 4s 686us/step - loss: 0.0767 - acc: 0.9727 - val_loss: 1.3763 - val_acc: 0.6822\n",
      "\n",
      "Epoch 00049: val_acc did not improve from 0.70261\n",
      "Epoch 50/100\n",
      "5673/5673 [==============================] - 4s 688us/step - loss: 0.0881 - acc: 0.9681 - val_loss: 1.3240 - val_acc: 0.6843\n",
      "\n",
      "Epoch 00050: val_acc did not improve from 0.70261\n",
      "Epoch 51/100\n",
      "5673/5673 [==============================] - 4s 681us/step - loss: 0.0914 - acc: 0.9697 - val_loss: 1.3776 - val_acc: 0.6681\n",
      "\n",
      "Epoch 00051: val_acc did not improve from 0.70261\n",
      "Epoch 52/100\n",
      "5673/5673 [==============================] - 4s 681us/step - loss: 0.0703 - acc: 0.9774 - val_loss: 1.2668 - val_acc: 0.6786\n",
      "\n",
      "Epoch 00052: val_acc did not improve from 0.70261\n",
      "Epoch 53/100\n",
      "5673/5673 [==============================] - 4s 683us/step - loss: 0.0685 - acc: 0.9771 - val_loss: 1.3513 - val_acc: 0.6681\n",
      "\n",
      "Epoch 00053: val_acc did not improve from 0.70261\n",
      "Epoch 54/100\n",
      "5673/5673 [==============================] - 4s 686us/step - loss: 0.0798 - acc: 0.9718 - val_loss: 1.4123 - val_acc: 0.6843\n",
      "\n",
      "Epoch 00054: val_acc did not improve from 0.70261\n",
      "Epoch 55/100\n",
      "5673/5673 [==============================] - 4s 678us/step - loss: 0.0534 - acc: 0.9811 - val_loss: 1.3929 - val_acc: 0.6772\n",
      "\n",
      "Epoch 00055: val_acc did not improve from 0.70261\n",
      "Epoch 56/100\n",
      "5673/5673 [==============================] - 4s 680us/step - loss: 0.0449 - acc: 0.9847 - val_loss: 1.4670 - val_acc: 0.6695\n",
      "\n",
      "Epoch 00056: val_acc did not improve from 0.70261\n",
      "Epoch 57/100\n",
      "5673/5673 [==============================] - 4s 682us/step - loss: 0.0524 - acc: 0.9841 - val_loss: 1.3964 - val_acc: 0.6653\n",
      "\n",
      "Epoch 00057: val_acc did not improve from 0.70261\n",
      "Epoch 58/100\n",
      "5673/5673 [==============================] - 4s 691us/step - loss: 0.0634 - acc: 0.9776 - val_loss: 1.5252 - val_acc: 0.6815\n",
      "\n",
      "Epoch 00058: val_acc did not improve from 0.70261\n",
      "Epoch 59/100\n",
      "5673/5673 [==============================] - 4s 682us/step - loss: 0.0637 - acc: 0.9797 - val_loss: 1.3188 - val_acc: 0.6702\n",
      "\n",
      "Epoch 00059: val_acc did not improve from 0.70261\n",
      "Epoch 60/100\n",
      "5673/5673 [==============================] - 4s 690us/step - loss: 0.0611 - acc: 0.9787 - val_loss: 1.3810 - val_acc: 0.6885\n",
      "\n",
      "Epoch 00060: val_acc did not improve from 0.70261\n",
      "Epoch 61/100\n",
      "5673/5673 [==============================] - 4s 686us/step - loss: 0.0494 - acc: 0.9815 - val_loss: 1.4300 - val_acc: 0.6885\n",
      "\n",
      "Epoch 00061: val_acc did not improve from 0.70261\n",
      "Epoch 62/100\n",
      "5673/5673 [==============================] - 4s 684us/step - loss: 0.0841 - acc: 0.9720 - val_loss: 1.3908 - val_acc: 0.6660\n",
      "\n",
      "Epoch 00062: val_acc did not improve from 0.70261\n",
      "Epoch 63/100\n",
      "5673/5673 [==============================] - 4s 679us/step - loss: 0.0587 - acc: 0.9796 - val_loss: 1.5080 - val_acc: 0.6702\n",
      "\n",
      "Epoch 00063: val_acc did not improve from 0.70261\n",
      "Epoch 64/100\n",
      "5673/5673 [==============================] - 4s 686us/step - loss: 0.0510 - acc: 0.9820 - val_loss: 1.7410 - val_acc: 0.6836\n",
      "\n",
      "Epoch 00064: val_acc did not improve from 0.70261\n",
      "Epoch 65/100\n",
      "5673/5673 [==============================] - 4s 688us/step - loss: 0.0492 - acc: 0.9804 - val_loss: 1.4224 - val_acc: 0.6786\n",
      "\n",
      "Epoch 00065: val_acc did not improve from 0.70261\n",
      "Epoch 66/100\n",
      "5673/5673 [==============================] - 4s 691us/step - loss: 0.0598 - acc: 0.9804 - val_loss: 1.3620 - val_acc: 0.6878\n",
      "\n",
      "Epoch 00066: val_acc did not improve from 0.70261\n",
      "Epoch 67/100\n",
      "5673/5673 [==============================] - 4s 687us/step - loss: 0.0409 - acc: 0.9855 - val_loss: 1.5480 - val_acc: 0.6688\n",
      "\n",
      "Epoch 00067: val_acc did not improve from 0.70261\n",
      "Epoch 68/100\n",
      "5673/5673 [==============================] - 4s 682us/step - loss: 0.0656 - acc: 0.9780 - val_loss: 1.4820 - val_acc: 0.6512\n",
      "\n",
      "Epoch 00068: val_acc did not improve from 0.70261\n",
      "Epoch 69/100\n",
      "5673/5673 [==============================] - 4s 687us/step - loss: 0.0491 - acc: 0.9831 - val_loss: 1.4166 - val_acc: 0.6737\n",
      "\n",
      "Epoch 00069: val_acc did not improve from 0.70261\n",
      "Epoch 70/100\n",
      "5673/5673 [==============================] - 4s 688us/step - loss: 0.0333 - acc: 0.9905 - val_loss: 1.7994 - val_acc: 0.6786\n",
      "\n",
      "Epoch 00070: val_acc did not improve from 0.70261\n",
      "Epoch 71/100\n",
      "5673/5673 [==============================] - 4s 684us/step - loss: 0.0747 - acc: 0.9755 - val_loss: 1.4037 - val_acc: 0.6638\n",
      "\n",
      "Epoch 00071: val_acc did not improve from 0.70261\n",
      "Epoch 72/100\n",
      "5673/5673 [==============================] - 4s 693us/step - loss: 0.0528 - acc: 0.9815 - val_loss: 1.5597 - val_acc: 0.6829\n",
      "\n",
      "Epoch 00072: val_acc did not improve from 0.70261\n",
      "Epoch 73/100\n",
      "5673/5673 [==============================] - 4s 682us/step - loss: 0.0335 - acc: 0.9896 - val_loss: 1.4956 - val_acc: 0.6617\n",
      "\n",
      "Epoch 00073: val_acc did not improve from 0.70261\n",
      "Epoch 74/100\n",
      "5673/5673 [==============================] - 4s 700us/step - loss: 0.0791 - acc: 0.9725 - val_loss: 1.5576 - val_acc: 0.6653\n",
      "\n",
      "Epoch 00074: val_acc did not improve from 0.70261\n",
      "Epoch 75/100\n",
      "5673/5673 [==============================] - 4s 702us/step - loss: 0.0333 - acc: 0.9903 - val_loss: 1.5116 - val_acc: 0.6779\n",
      "\n",
      "Epoch 00075: val_acc did not improve from 0.70261\n",
      "Epoch 76/100\n",
      "5673/5673 [==============================] - 4s 686us/step - loss: 0.0538 - acc: 0.9806 - val_loss: 1.5404 - val_acc: 0.6483\n",
      "\n",
      "Epoch 00076: val_acc did not improve from 0.70261\n",
      "Epoch 77/100\n",
      "5673/5673 [==============================] - 4s 685us/step - loss: 0.0656 - acc: 0.9799 - val_loss: 1.4409 - val_acc: 0.6709\n",
      "\n",
      "Epoch 00077: val_acc did not improve from 0.70261\n",
      "Epoch 78/100\n",
      "5673/5673 [==============================] - 4s 686us/step - loss: 0.0504 - acc: 0.9827 - val_loss: 1.5574 - val_acc: 0.6674\n",
      "\n",
      "Epoch 00078: val_acc did not improve from 0.70261\n",
      "Epoch 79/100\n",
      "5673/5673 [==============================] - 4s 694us/step - loss: 0.0469 - acc: 0.9836 - val_loss: 1.5344 - val_acc: 0.6617\n",
      "\n",
      "Epoch 00079: val_acc did not improve from 0.70261\n",
      "Epoch 80/100\n",
      "5673/5673 [==============================] - 4s 685us/step - loss: 0.0428 - acc: 0.9866 - val_loss: 1.4296 - val_acc: 0.6829\n",
      "\n",
      "Epoch 00080: val_acc did not improve from 0.70261\n",
      "Epoch 81/100\n",
      "5673/5673 [==============================] - 4s 680us/step - loss: 0.0488 - acc: 0.9840 - val_loss: 1.5577 - val_acc: 0.6561\n",
      "\n",
      "Epoch 00081: val_acc did not improve from 0.70261\n",
      "Epoch 82/100\n",
      "5673/5673 [==============================] - 4s 693us/step - loss: 0.0327 - acc: 0.9878 - val_loss: 1.6978 - val_acc: 0.6688\n",
      "\n",
      "Epoch 00082: val_acc did not improve from 0.70261\n",
      "Epoch 83/100\n",
      "5673/5673 [==============================] - 4s 683us/step - loss: 0.0370 - acc: 0.9875 - val_loss: 1.5968 - val_acc: 0.6702\n",
      "\n",
      "Epoch 00083: val_acc did not improve from 0.70261\n",
      "Epoch 84/100\n",
      "5673/5673 [==============================] - 4s 699us/step - loss: 0.0648 - acc: 0.9781 - val_loss: 1.6313 - val_acc: 0.6638\n",
      "\n",
      "Epoch 00084: val_acc did not improve from 0.70261\n",
      "Epoch 85/100\n",
      "5673/5673 [==============================] - 4s 700us/step - loss: 0.0485 - acc: 0.9840 - val_loss: 1.5470 - val_acc: 0.6490\n",
      "\n",
      "Epoch 00085: val_acc did not improve from 0.70261\n",
      "Epoch 86/100\n",
      "5673/5673 [==============================] - 4s 703us/step - loss: 0.0410 - acc: 0.9861 - val_loss: 1.5337 - val_acc: 0.6772\n",
      "\n",
      "Epoch 00086: val_acc did not improve from 0.70261\n",
      "Epoch 87/100\n",
      "5673/5673 [==============================] - 4s 687us/step - loss: 0.0323 - acc: 0.9884 - val_loss: 1.7395 - val_acc: 0.6610\n",
      "\n",
      "Epoch 00087: val_acc did not improve from 0.70261\n",
      "Epoch 88/100\n",
      "5673/5673 [==============================] - 4s 705us/step - loss: 0.0582 - acc: 0.9803 - val_loss: 1.5666 - val_acc: 0.6794\n",
      "\n",
      "Epoch 00088: val_acc did not improve from 0.70261\n",
      "Epoch 89/100\n",
      "5673/5673 [==============================] - 4s 696us/step - loss: 0.0317 - acc: 0.9885 - val_loss: 1.6102 - val_acc: 0.6822\n",
      "\n",
      "Epoch 00089: val_acc did not improve from 0.70261\n",
      "Epoch 90/100\n",
      "5673/5673 [==============================] - 4s 687us/step - loss: 0.0552 - acc: 0.9799 - val_loss: 1.5702 - val_acc: 0.6850\n",
      "\n",
      "Epoch 00090: val_acc did not improve from 0.70261\n",
      "Epoch 91/100\n",
      "5673/5673 [==============================] - 4s 686us/step - loss: 0.0463 - acc: 0.9840 - val_loss: 1.5748 - val_acc: 0.6913\n",
      "\n",
      "Epoch 00091: val_acc did not improve from 0.70261\n",
      "Epoch 92/100\n",
      "5673/5673 [==============================] - 4s 687us/step - loss: 0.0748 - acc: 0.9764 - val_loss: 1.7678 - val_acc: 0.6603\n",
      "\n",
      "Epoch 00092: val_acc did not improve from 0.70261\n",
      "Epoch 93/100\n",
      "5673/5673 [==============================] - 4s 686us/step - loss: 0.0504 - acc: 0.9817 - val_loss: 1.6295 - val_acc: 0.6596\n",
      "\n",
      "Epoch 00093: val_acc did not improve from 0.70261\n",
      "Epoch 94/100\n",
      "5673/5673 [==============================] - 4s 687us/step - loss: 0.0578 - acc: 0.9806 - val_loss: 1.5964 - val_acc: 0.6737\n",
      "\n",
      "Epoch 00094: val_acc did not improve from 0.70261\n",
      "Epoch 95/100\n",
      "5673/5673 [==============================] - 4s 691us/step - loss: 0.0296 - acc: 0.9884 - val_loss: 1.5345 - val_acc: 0.6934\n",
      "\n",
      "Epoch 00095: val_acc did not improve from 0.70261\n",
      "Epoch 96/100\n",
      "5673/5673 [==============================] - 4s 688us/step - loss: 0.0358 - acc: 0.9873 - val_loss: 1.5704 - val_acc: 0.6843\n",
      "\n",
      "Epoch 00096: val_acc did not improve from 0.70261\n",
      "Epoch 97/100\n",
      "5673/5673 [==============================] - 4s 694us/step - loss: 0.0343 - acc: 0.9873 - val_loss: 1.5929 - val_acc: 0.6786\n",
      "\n",
      "Epoch 00097: val_acc did not improve from 0.70261\n",
      "Epoch 98/100\n",
      "5673/5673 [==============================] - 4s 689us/step - loss: 0.0395 - acc: 0.9877 - val_loss: 1.5919 - val_acc: 0.6723\n",
      "\n",
      "Epoch 00098: val_acc did not improve from 0.70261\n",
      "Epoch 99/100\n",
      "5673/5673 [==============================] - 4s 690us/step - loss: 0.0331 - acc: 0.9891 - val_loss: 1.5233 - val_acc: 0.6772\n",
      "\n",
      "Epoch 00099: val_acc did not improve from 0.70261\n",
      "Epoch 100/100\n",
      "5673/5673 [==============================] - 4s 693us/step - loss: 0.0290 - acc: 0.9907 - val_loss: 1.7916 - val_acc: 0.6709\n",
      "\n",
      "Epoch 00100: val_acc did not improve from 0.70261\n"
     ]
    }
   ],
   "source": [
    "history = model.fit(X_train_2d, Y_train_norm,\n",
    "          batch_size=17,\n",
    "          epochs=100,\n",
    "          verbose=1,\n",
    "          shuffle=True,\n",
    "          validation_data=(X_test_2d, Y_test_norm), callbacks=[checkpoint])"
   ]
  },
  {
   "cell_type": "code",
   "execution_count": 40,
   "metadata": {},
   "outputs": [
    {
     "data": {
      "image/png": "[encoded data removed]",
      "text/plain": [
       "<Figure size 432x288 with 1 Axes>"
      ]
     },
     "metadata": {
      "needs_background": "light"
     },
     "output_type": "display_data"
    },
    {
     "data": {
      "image/png": "[encoded data removed]",
      "text/plain": [
       "<Figure size 432x288 with 1 Axes>"
      ]
     },
     "metadata": {
      "needs_background": "light"
     },
     "output_type": "display_data"
    }
   ],
   "source": [
    "plt.plot(history.history['acc'])\n",
    "plt.plot(history.history['val_acc'])\n",
    "plt.title('model accuracy')\n",
    "plt.ylabel('acc')\n",
    "plt.xlabel('epoch')\n",
    "plt.legend(['train', 'test'], loc='upper left')\n",
    "plt.show()\n",
    "\n",
    "plt.plot(history.history['loss'])\n",
    "plt.plot(history.history['val_loss'])\n",
    "plt.title('model loss')\n",
    "plt.ylabel('loss')\n",
    "plt.xlabel('epoch')\n",
    "plt.legend(['train', 'test'], loc='upper left')\n",
    "plt.show()"
   ]
  },
  {
   "cell_type": "markdown",
   "metadata": {},
   "source": [
    "The model seems to underfit. Test accuracy increases well till the 40th epoch but then starts to stagger, whereas the accuracy on the training data continues to improve. The model loss decreases gradually both for training and test data, meaning that further training might minimize loss further."
   ]
  },
  {
   "cell_type": "code",
   "execution_count": 41,
   "metadata": {},
   "outputs": [
    {
     "name": "stdout",
     "output_type": "stream",
     "text": [
      "1419/1419 [==============================] - 0s 347us/step\n",
      "Val accuracy=1.7916231052904081  val loss=0.6708949963923825\n"
     ]
    }
   ],
   "source": [
    "accuracy, loss = model.evaluate(X_test_2d, Y_test_norm)\n",
    "print(f\"Val accuracy={accuracy}  val loss={loss}\")"
   ]
  },
  {
   "cell_type": "code",
   "execution_count": 42,
   "metadata": {},
   "outputs": [
    {
     "data": {
      "text/plain": [
       "array([[358, 220],\n",
       "       [247, 594]], dtype=int64)"
      ]
     },
     "execution_count": 42,
     "metadata": {},
     "output_type": "execute_result"
    }
   ],
   "source": [
    "y_predicted =  model.predict(X_test_2d)\n",
    "\n",
    "confusion_matr = confusion_matrix(Y_test_norm, np.round(model.predict(X_test_2d)))\n",
    "confusion_matr"
   ]
  },
  {
   "cell_type": "code",
   "execution_count": 43,
   "metadata": {},
   "outputs": [
    {
     "name": "stdout",
     "output_type": "stream",
     "text": [
      "True negative control(0):  358 \n",
      " False negative control(0): 220 \n",
      " False positive schizophrenic(1): 247 \n",
      " True positive schizophrenic(1): 594 \n",
      "\n"
     ]
    }
   ],
   "source": [
    "print(\n",
    "  \"True negative control(0): \", confusion_matr[0, 0], \"\\n\",\n",
    "  \"False negative control(0):\", confusion_matr[0, 1], \"\\n\",\n",
    "  \"False positive schizophrenic(1):\", confusion_matr[1, 0], \"\\n\",\n",
    "  \"True positive schizophrenic(1):\", confusion_matr[1, 1], \"\\n\"    \n",
    ")"
   ]
  },
  {
   "cell_type": "code",
   "execution_count": 44,
   "metadata": {},
   "outputs": [
    {
     "data": {
      "text/plain": [
       "(594, 247, 220, 358)"
      ]
     },
     "execution_count": 44,
     "metadata": {},
     "output_type": "execute_result"
    }
   ],
   "source": [
    "TN = confusion_matr[0, 0]\n",
    "FN = confusion_matr[0, 1]\n",
    "FP = confusion_matr[1, 0]\n",
    "TP = confusion_matr[1, 1]\n",
    "TP, FP, FN, TN"
   ]
  },
  {
   "cell_type": "code",
   "execution_count": 45,
   "metadata": {},
   "outputs": [
    {
     "data": {
      "text/plain": [
       "0.7297297297297297"
      ]
     },
     "execution_count": 45,
     "metadata": {},
     "output_type": "execute_result"
    }
   ],
   "source": [
    "sensitivity = TP / (TP + FN)\n",
    "sensitivity"
   ]
  },
  {
   "cell_type": "code",
   "execution_count": 46,
   "metadata": {},
   "outputs": [
    {
     "data": {
      "text/plain": [
       "0.5917355371900826"
      ]
     },
     "execution_count": 46,
     "metadata": {},
     "output_type": "execute_result"
    }
   ],
   "source": [
    "specificity = TN / (TN + FP)\n",
    "specificity"
   ]
  },
  {
   "cell_type": "markdown",
   "metadata": {},
   "source": [
    "### **Model 1**\n",
    "\n",
    "Accuracy: **67.08%** <br>\n",
    "Sensitivity: **72.97%** <br>\n",
    "Specificity: **59.2%** <br>\n",
    "\n",
    "The first model classifies 67.08% of the trials correctly. Sensitivity and specificity lie around 72.97% and 59.2%, meaning that the model is not very accurate yet and performs slightly better than guessing randomly. The reason for this is that the model could not learn the predicting patterns correctly and could not depict the complexity behind the differences in the brainwave data of schizophrenic and healthy subjects."
   ]
  },
  {
   "cell_type": "code",
   "execution_count": null,
   "metadata": {},
   "outputs": [],
   "source": []
  },
  {
   "cell_type": "code",
   "execution_count": null,
   "metadata": {},
   "outputs": [],
   "source": []
  },
  {
   "cell_type": "code",
   "execution_count": null,
   "metadata": {},
   "outputs": [],
   "source": []
  },
  {
   "cell_type": "code",
   "execution_count": null,
   "metadata": {},
   "outputs": [],
   "source": []
  },
  {
   "cell_type": "code",
   "execution_count": null,
   "metadata": {},
   "outputs": [],
   "source": []
  },
  {
   "cell_type": "code",
   "execution_count": null,
   "metadata": {},
   "outputs": [],
   "source": []
  },
  {
   "cell_type": "code",
   "execution_count": null,
   "metadata": {},
   "outputs": [],
   "source": []
  },
  {
   "cell_type": "code",
   "execution_count": null,
   "metadata": {},
   "outputs": [],
   "source": []
  }
 ],
 "metadata": {
  "interpreter": {
   "hash": "6cfb5896e07db1906a366a4e704e42b09b23c9767de85b819237429aae93fc82"
  },
  "kernelspec": {
   "display_name": "Python 3",
   "language": "python",
   "name": "python3"
  },
  "language_info": {
   "codemirror_mode": {
    "name": "ipython",
    "version": 3
   },
   "file_extension": ".py",
   "mimetype": "text/x-python",
   "name": "python",
   "nbconvert_exporter": "python",
   "pygments_lexer": "ipython3",
   "version": "3.7.9"
  }
 },
 "nbformat": 4,
 "nbformat_minor": 5
}
