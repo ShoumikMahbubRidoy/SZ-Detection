{
 "cells": [
  {
   "cell_type": "markdown",
   "metadata": {},
   "source": [
    "# **Data Science for Natural Sciences submission**\n",
    "\n",
    "## **Subject**: Detecting schizophrenia from Electroencephalography (EEG) data using Deep Learning\n",
    "#### **author**: Shoumik Mahbub Ridoy"
   ]
  },
  {
   "cell_type": "markdown",
   "metadata": {},
   "source": [
    "![spikewaves](waves.png \"Electrical brain activity recorded by multiple electrodes\")\n",
    "\n",
    "## **Introduction**\n",
    "\n",
    "Schizophrenia is a chronic mental illness that affects about 1% of people across the globe. One possible explanation for some of the symptoms of schizophrenia is that one or more problems with the corollary discharge process in the nervous system makes it difficult for patients to differentiate between internally and externally generated stimuli. Therefore, studying this process and its relationship to symptoms in the illness might allow us to better understand abnormal brain processes in patients with this diagnosis. Research in this field uses EEG to observe neural activity.\n",
    "\n",
    "EEG is a method to record an electrogram of the electrical activity on the scalp that has been shown to represent the macroscopic activity of the surface layer of the brain underneath. It is typically non-invasive, with the electrodes placed along the scalp. The electrodes measure voltage fluctuations resulting from ionic current within the neurons of the brain. \n",
    "\n",
    "In research about schizophrenia, currently EEG is often used in combination with machine learning. EEG data are pre-processed to be passed on to machine learning algorithms. These algorithms are can be trained to recognize different diseases like schizophrenia, epilepsy or dementia.\n",
    "\n",
    "Several experiments on schizophrenia patients have been conducted to observe and analyze the electrical currents in their brains while receiving stimuli. \n",
    "\n",
    "## **Experiment**\n",
    "In the presented experiment, the procedure was designed as following: 26 schizophrenia patients and 22 healthy participants were connected with 64 electrodes on their scalps and 2 external channels recording EEG data. \n",
    "\n",
    "![electrodes](electrodes.jpg \"Electrode scalp sites\")\n",
    "\n",
    "The subjects were instructed to complete a simple button pressing task in which they either (1) pressed a button to immediately generate a tone, (2) passively listened to the same tone, or (3) pressed a button without generating a tone to study the corollary discharge in people with schizophrenia and comparison controls. Among the results, it was found that comparison controls suppressed the N100, an eletric potential in EEG brain wave 100 milliseconds after the onset of a sound, when they pressed a button to generate a tone compared to passive playback, but patients with schizophrenia did not. People with schizophrenia often misperceive sensations and misinterpret experiences, perhaps contributing to the psychotic symptoms that characterize the illness. These misperceptions and misinterpretations might result from a basic inability to make valid predictions about expected sensations and experiences. Healthy normal people take advantage of neural mechanisms that allow them to make predictions unconsciously, facilitating processing of sensations and distinguishing the expected from the unexpected. If predictive mechanisms are dysfunctional, sensations that should have been predicted but were not might take on inappropriate salience. The reduced N100-suppression effect for self-initiated sounds is suspected to be an indicator for a dysfunctional predictive mechanism within the schizophrenic patient group, especially those showing symptoms of hallucinations. \n",
    "\n",
    "![n1suppression](n1.png \"N1 suppression for control group and patients\")\n",
    "\n",
    "## **Data**\n",
    "The data set is a larger sample replication of that previous study. Specifically, EEG data from 22 controls and 36 patients with schizophrenia have been combined with 10 controls and 13 patients from the previous report, resulting in a dataset of 81 subjects (32 controls, 49 patients), each delivering timeseries data of 70 eletrode channels. The data can be acquired at Kaggle in the following competition:\n",
    "<br>Part 1 - https://www.kaggle.com/broach/button-tone-sz<br>\n",
    "Part 2 - https://www.kaggle.com/broach/buttontonesz2<br>\n",
    "\n",
    "## **Approach**\n",
    "Goal of this project is to generate an insight into the study of neurological disorders and the role of Deep Learning in this field. Recently, Convolutional Neural Networks (CNN) have found their way in research to automate diagnosis of mental disorders. As a demonstration, a CNN will be built and trained on the provided data in order to classify experimentees based on EEG data. A claim on targeted classification accuracy is out of scope for this project and will not be pursued. Instead, this approach focuses on the exploration and preparation steps required for processability."
   ]
  },
  {
   "cell_type": "code",
   "execution_count": 1,
   "metadata": {},
   "outputs": [
    {
     "name": "stderr",
     "output_type": "stream",
     "text": [
      "Using TensorFlow backend.\n"
     ]
    }
   ],
   "source": [
    "import os\n",
    "import time\n",
    "import keras\n",
    "\n",
    "import numpy as np\n",
    "import pandas as pd\n",
    "import tensorflow as tf\n",
    "import matplotlib.pyplot as plt\n",
    "\n",
    "from tqdm.notebook import tqdm\n",
    "\n",
    "from sklearn.preprocessing import normalize\n",
    "from sklearn.metrics import confusion_matrix\n",
    "from sklearn.model_selection import train_test_split\n",
    "\n",
    "from keras.models import Sequential\n",
    "from keras.callbacks import ModelCheckpoint\n",
    "from keras.layers import Dense, Conv2D, MaxPooling2D\n",
    "from keras.layers import Dropout, Flatten, BatchNormalization\n",
    "from keras import backend as K"
   ]
  },
  {
   "cell_type": "code",
   "execution_count": 2,
   "metadata": {},
   "outputs": [
    {
     "name": "stdout",
     "output_type": "stream",
     "text": [
      "./input\\columnLabels.csv\n",
      "./input\\demographic.csv\n",
      "./input\\ERPdata.csv\n",
      "./input\\mergedTrialData.csv\n",
      "./input\\time.csv\n"
     ]
    }
   ],
   "source": [
    "# Checking paths\n",
    "\n",
    "for dirname, _, filenames in os.walk('./input'):\n",
    "    for filename in filenames:\n",
    "        print(os.path.join(dirname, filename))"
   ]
  },
  {
   "cell_type": "code",
   "execution_count": 2,
   "metadata": {},
   "outputs": [
    {
     "data": {
      "text/html": [
       "<div>\n",
       "<style scoped>\n",
       "    .dataframe tbody tr th:only-of-type {\n",
       "        vertical-align: middle;\n",
       "    }\n",
       "\n",
       "    .dataframe tbody tr th {\n",
       "        vertical-align: top;\n",
       "    }\n",
       "\n",
       "    .dataframe thead th {\n",
       "        text-align: right;\n",
       "    }\n",
       "</style>\n",
       "<table border=\"1\" class=\"dataframe\">\n",
       "  <thead>\n",
       "    <tr style=\"text-align: right;\">\n",
       "      <th></th>\n",
       "      <th>subject</th>\n",
       "      <th>group</th>\n",
       "      <th>gender</th>\n",
       "      <th>age</th>\n",
       "      <th>education</th>\n",
       "    </tr>\n",
       "  </thead>\n",
       "  <tbody>\n",
       "    <tr>\n",
       "      <th>0</th>\n",
       "      <td>1</td>\n",
       "      <td>0</td>\n",
       "      <td>M</td>\n",
       "      <td>44</td>\n",
       "      <td>16.0</td>\n",
       "    </tr>\n",
       "    <tr>\n",
       "      <th>1</th>\n",
       "      <td>2</td>\n",
       "      <td>0</td>\n",
       "      <td>M</td>\n",
       "      <td>39</td>\n",
       "      <td>17.0</td>\n",
       "    </tr>\n",
       "    <tr>\n",
       "      <th>2</th>\n",
       "      <td>3</td>\n",
       "      <td>0</td>\n",
       "      <td>M</td>\n",
       "      <td>53</td>\n",
       "      <td>18.0</td>\n",
       "    </tr>\n",
       "    <tr>\n",
       "      <th>3</th>\n",
       "      <td>4</td>\n",
       "      <td>0</td>\n",
       "      <td>M</td>\n",
       "      <td>52</td>\n",
       "      <td>15.0</td>\n",
       "    </tr>\n",
       "    <tr>\n",
       "      <th>4</th>\n",
       "      <td>5</td>\n",
       "      <td>0</td>\n",
       "      <td>M</td>\n",
       "      <td>41</td>\n",
       "      <td>16.0</td>\n",
       "    </tr>\n",
       "    <tr>\n",
       "      <th>...</th>\n",
       "      <td>...</td>\n",
       "      <td>...</td>\n",
       "      <td>...</td>\n",
       "      <td>...</td>\n",
       "      <td>...</td>\n",
       "    </tr>\n",
       "    <tr>\n",
       "      <th>76</th>\n",
       "      <td>77</td>\n",
       "      <td>1</td>\n",
       "      <td>M</td>\n",
       "      <td>28</td>\n",
       "      <td>13.0</td>\n",
       "    </tr>\n",
       "    <tr>\n",
       "      <th>77</th>\n",
       "      <td>78</td>\n",
       "      <td>1</td>\n",
       "      <td>F</td>\n",
       "      <td>32</td>\n",
       "      <td>16.0</td>\n",
       "    </tr>\n",
       "    <tr>\n",
       "      <th>78</th>\n",
       "      <td>79</td>\n",
       "      <td>1</td>\n",
       "      <td>M</td>\n",
       "      <td>37</td>\n",
       "      <td>16.0</td>\n",
       "    </tr>\n",
       "    <tr>\n",
       "      <th>79</th>\n",
       "      <td>80</td>\n",
       "      <td>1</td>\n",
       "      <td>M</td>\n",
       "      <td>33</td>\n",
       "      <td>13.0</td>\n",
       "    </tr>\n",
       "    <tr>\n",
       "      <th>80</th>\n",
       "      <td>81</td>\n",
       "      <td>1</td>\n",
       "      <td>M</td>\n",
       "      <td>56</td>\n",
       "      <td>13.0</td>\n",
       "    </tr>\n",
       "  </tbody>\n",
       "</table>\n",
       "<p>81 rows × 5 columns</p>\n",
       "</div>"
      ],
      "text/plain": [
       "    subject   group  gender   age   education\n",
       "0         1       0       M    44        16.0\n",
       "1         2       0       M    39        17.0\n",
       "2         3       0       M    53        18.0\n",
       "3         4       0       M    52        15.0\n",
       "4         5       0       M    41        16.0\n",
       "..      ...     ...     ...   ...         ...\n",
       "76       77       1       M    28        13.0\n",
       "77       78       1       F    32        16.0\n",
       "78       79       1       M    37        16.0\n",
       "79       80       1       M    33        13.0\n",
       "80       81       1       M    56        13.0\n",
       "\n",
       "[81 rows x 5 columns]"
      ]
     },
     "execution_count": 2,
     "metadata": {},
     "output_type": "execute_result"
    }
   ],
   "source": [
    "# Loading the demographic.csv data to glimpse over the data and look for class imbalances\n",
    "\n",
    "demographic = pd.read_csv(\"./input/demographic.csv\")\n",
    "demographic"
   ]
  },
  {
   "cell_type": "code",
   "execution_count": 5,
   "metadata": {},
   "outputs": [
    {
     "data": {
      "text/plain": [
       "0.6049382716049383"
      ]
     },
     "execution_count": 5,
     "metadata": {},
     "output_type": "execute_result"
    }
   ],
   "source": [
    "demographic[\" group\"].mean()"
   ]
  },
  {
   "cell_type": "markdown",
   "metadata": {},
   "source": [
    "Since 0 is the label for the healthy control group and 1 for schizophrenic patients, there tend to be more schizophrenic patients in the data. There is a light imbalance of classes in the provided data."
   ]
  },
  {
   "cell_type": "code",
   "execution_count": 6,
   "metadata": {},
   "outputs": [
    {
     "name": "stdout",
     "output_type": "stream",
     "text": [
      "0)   Control\n",
      "1)   Control\n",
      "2)   Control\n",
      "3)   Control\n",
      "4)   Control\n",
      "5)   Control\n",
      "6)   Control\n",
      "7)   Control\n",
      "8)   Control\n",
      "9)   Control\n",
      "10)   Control\n",
      "11)   Control\n",
      "12)   Control\n",
      "13)   Control\n",
      "14)   Control\n",
      "15)   Control\n",
      "16)   Control\n",
      "17)   Control\n",
      "18)   Control\n",
      "19)   Control\n",
      "20)   Control\n",
      "21)   Control\n",
      "22)   Control\n",
      "23)   Control\n",
      "24)   Schizophrenic\n",
      "25)   Schizophrenic\n",
      "26)   Schizophrenic\n",
      "27)   Schizophrenic\n",
      "28)   Schizophrenic\n",
      "29)   Schizophrenic\n",
      "30)   Schizophrenic\n",
      "31)   Schizophrenic\n",
      "32)   Schizophrenic\n",
      "33)   Schizophrenic\n",
      "34)   Schizophrenic\n",
      "35)   Schizophrenic\n",
      "36)   Schizophrenic\n",
      "37)   Schizophrenic\n",
      "38)   Schizophrenic\n",
      "39)   Schizophrenic\n",
      "40)   Schizophrenic\n",
      "41)   Schizophrenic\n",
      "42)   Schizophrenic\n",
      "43)   Schizophrenic\n",
      "44)   Schizophrenic\n",
      "45)   Schizophrenic\n",
      "46)   Schizophrenic\n",
      "47)   Schizophrenic\n",
      "48)   Schizophrenic\n",
      "49)   Schizophrenic\n",
      "50)   Schizophrenic\n",
      "51)   Schizophrenic\n",
      "52)   Schizophrenic\n",
      "53)   Schizophrenic\n",
      "54)   Schizophrenic\n",
      "55)   Schizophrenic\n",
      "56)   Schizophrenic\n",
      "57)   Schizophrenic\n",
      "58)   Control\n",
      "59)   Control\n",
      "60)   Control\n",
      "61)   Control\n",
      "62)   Control\n",
      "63)   Control\n",
      "64)   Control\n",
      "65)   Control\n",
      "66)   Schizophrenic\n",
      "67)   Schizophrenic\n",
      "68)   Schizophrenic\n",
      "69)   Schizophrenic\n",
      "70)   Schizophrenic\n",
      "71)   Schizophrenic\n",
      "72)   Schizophrenic\n",
      "73)   Schizophrenic\n",
      "74)   Schizophrenic\n",
      "75)   Schizophrenic\n",
      "76)   Schizophrenic\n",
      "77)   Schizophrenic\n",
      "78)   Schizophrenic\n",
      "79)   Schizophrenic\n",
      "80)   Schizophrenic\n"
     ]
    }
   ],
   "source": [
    "for i, t in enumerate(list(demographic[\" group\"])):\n",
    "    if t:\n",
    "        print(f\"{i})   Schizophrenic\")\n",
    "    else:\n",
    "        print(f\"{i})   Control\")"
   ]
  },
  {
   "cell_type": "markdown",
   "metadata": {},
   "source": [
    "The experiment outline in the Introduction section states that the main founding of the experiment was a remarkable difference in the EEG data of healthy people and those affected by schizophrenia, when they pressed the button and an audio signal was played as opposed to when the tone was played without them having touched the button. To see the difference, two candidates, one healthy and one schizophrenic are selected and their brainwave data is visualized in a timeseries."
   ]
  },
  {
   "cell_type": "code",
   "execution_count": 19,
   "metadata": {},
   "outputs": [],
   "source": [
    "diagnosis_dict = dict(zip(demographic.subject, demographic[\" group\"]))\n",
    "del demographic"
   ]
  },
  {
   "cell_type": "code",
   "execution_count": 8,
   "metadata": {},
   "outputs": [
    {
     "data": {
      "text/plain": [
       "0"
      ]
     },
     "execution_count": 8,
     "metadata": {},
     "output_type": "execute_result"
    }
   ],
   "source": [
    "# Healthy subject number\n",
    "\n",
    "diagnosis_dict[2]"
   ]
  },
  {
   "cell_type": "code",
   "execution_count": 9,
   "metadata": {},
   "outputs": [
    {
     "data": {
      "text/plain": [
       "1"
      ]
     },
     "execution_count": 9,
     "metadata": {},
     "output_type": "execute_result"
    }
   ],
   "source": [
    "# Schizophrenic subject number\n",
    "\n",
    "diagnosis_dict[79]"
   ]
  },
  {
   "cell_type": "markdown",
   "metadata": {},
   "source": [
    "The attached ERP dataset contains the averaged brainwave time series of 9 electrodes for all subjects. The electric activity was measured while they (1) pressed a button to generate a tone, (2) listened to tone being played without action, and (3) pressed the button without generating the tone. The experiment showed less amplitude in the neural activity of schizophrenic persons whenever the tone was played, so in scenarios (1) and (2), compared to non-schizophrenic ones."
   ]
  },
  {
   "cell_type": "code",
   "execution_count": 3,
   "metadata": {},
   "outputs": [
    {
     "data": {
      "text/html": [
       "<div>\n",
       "<style scoped>\n",
       "    .dataframe tbody tr th:only-of-type {\n",
       "        vertical-align: middle;\n",
       "    }\n",
       "\n",
       "    .dataframe tbody tr th {\n",
       "        vertical-align: top;\n",
       "    }\n",
       "\n",
       "    .dataframe thead th {\n",
       "        text-align: right;\n",
       "    }\n",
       "</style>\n",
       "<table border=\"1\" class=\"dataframe\">\n",
       "  <thead>\n",
       "    <tr style=\"text-align: right;\">\n",
       "      <th></th>\n",
       "      <th>subject</th>\n",
       "      <th>condition</th>\n",
       "      <th>Fz</th>\n",
       "      <th>FCz</th>\n",
       "      <th>Cz</th>\n",
       "      <th>FC3</th>\n",
       "      <th>FC4</th>\n",
       "      <th>C3</th>\n",
       "      <th>C4</th>\n",
       "      <th>CP3</th>\n",
       "      <th>CP4</th>\n",
       "      <th>time_ms</th>\n",
       "    </tr>\n",
       "  </thead>\n",
       "  <tbody>\n",
       "    <tr>\n",
       "      <th>0</th>\n",
       "      <td>1</td>\n",
       "      <td>1</td>\n",
       "      <td>5.533701</td>\n",
       "      <td>5.726507</td>\n",
       "      <td>5.469535</td>\n",
       "      <td>5.386723</td>\n",
       "      <td>4.588875</td>\n",
       "      <td>6.560092</td>\n",
       "      <td>4.542811</td>\n",
       "      <td>5.397492</td>\n",
       "      <td>5.103695</td>\n",
       "      <td>-1500.0000</td>\n",
       "    </tr>\n",
       "    <tr>\n",
       "      <th>1</th>\n",
       "      <td>1</td>\n",
       "      <td>1</td>\n",
       "      <td>5.651489</td>\n",
       "      <td>5.837326</td>\n",
       "      <td>5.773131</td>\n",
       "      <td>5.627975</td>\n",
       "      <td>4.822217</td>\n",
       "      <td>6.739976</td>\n",
       "      <td>4.811770</td>\n",
       "      <td>5.541357</td>\n",
       "      <td>5.379273</td>\n",
       "      <td>-1499.0234</td>\n",
       "    </tr>\n",
       "    <tr>\n",
       "      <th>2</th>\n",
       "      <td>1</td>\n",
       "      <td>1</td>\n",
       "      <td>5.717580</td>\n",
       "      <td>5.932924</td>\n",
       "      <td>5.948466</td>\n",
       "      <td>5.826460</td>\n",
       "      <td>4.979647</td>\n",
       "      <td>7.026199</td>\n",
       "      <td>5.053779</td>\n",
       "      <td>5.634972</td>\n",
       "      <td>5.600504</td>\n",
       "      <td>-1498.0469</td>\n",
       "    </tr>\n",
       "    <tr>\n",
       "      <th>3</th>\n",
       "      <td>1</td>\n",
       "      <td>1</td>\n",
       "      <td>5.703267</td>\n",
       "      <td>5.968103</td>\n",
       "      <td>5.851512</td>\n",
       "      <td>5.812192</td>\n",
       "      <td>4.992899</td>\n",
       "      <td>6.940671</td>\n",
       "      <td>5.106650</td>\n",
       "      <td>5.543577</td>\n",
       "      <td>5.589775</td>\n",
       "      <td>-1497.0703</td>\n",
       "    </tr>\n",
       "    <tr>\n",
       "      <th>4</th>\n",
       "      <td>1</td>\n",
       "      <td>1</td>\n",
       "      <td>5.571578</td>\n",
       "      <td>5.917541</td>\n",
       "      <td>5.812808</td>\n",
       "      <td>5.744715</td>\n",
       "      <td>4.963338</td>\n",
       "      <td>6.726491</td>\n",
       "      <td>5.158073</td>\n",
       "      <td>5.454069</td>\n",
       "      <td>5.614092</td>\n",
       "      <td>-1496.0938</td>\n",
       "    </tr>\n",
       "  </tbody>\n",
       "</table>\n",
       "</div>"
      ],
      "text/plain": [
       "   subject  condition        Fz       FCz        Cz       FC3       FC4  \\\n",
       "0        1          1  5.533701  5.726507  5.469535  5.386723  4.588875   \n",
       "1        1          1  5.651489  5.837326  5.773131  5.627975  4.822217   \n",
       "2        1          1  5.717580  5.932924  5.948466  5.826460  4.979647   \n",
       "3        1          1  5.703267  5.968103  5.851512  5.812192  4.992899   \n",
       "4        1          1  5.571578  5.917541  5.812808  5.744715  4.963338   \n",
       "\n",
       "         C3        C4       CP3       CP4    time_ms  \n",
       "0  6.560092  4.542811  5.397492  5.103695 -1500.0000  \n",
       "1  6.739976  4.811770  5.541357  5.379273 -1499.0234  \n",
       "2  7.026199  5.053779  5.634972  5.600504 -1498.0469  \n",
       "3  6.940671  5.106650  5.543577  5.589775 -1497.0703  \n",
       "4  6.726491  5.158073  5.454069  5.614092 -1496.0938  "
      ]
     },
     "execution_count": 3,
     "metadata": {},
     "output_type": "execute_result"
    }
   ],
   "source": [
    "erp = pd.read_csv(\"./input/ERPdata.csv\")\n",
    "erp.head()"
   ]
  },
  {
   "cell_type": "code",
   "execution_count": null,
   "metadata": {},
   "outputs": [],
   "source": [
    "def plot_eeg(subject_number):\n",
    "    \n",
    "    if diagnosis_dict[subject_number] == 0:\n",
    "        status = \"Healthy\"\n",
    "    else:\n",
    "        status = \"Schizophrenic\"\n",
    "        \n",
    "    plt.plot(erp[(erp.subject==subject_number) & (erp.condition==1)].time_ms, erp[(erp.subject==subject_number) & (erp.condition==1)].Fz)\n",
    "    plt.ylim(-10, 12)\n",
    "    plt.title(\"Tone signal after button press - \" + status)  \n",
    "    plt.xlabel(\"Time (ms) on tone signal\")\n",
    "    plt.ylabel(\"Electrode signal (µvolts)\")\n",
    "    plt.show()\n",
    "\n",
    "    plt.plot(erp[(erp.subject==subject_number) & (erp.condition==2)].time_ms, erp[(erp.subject==subject_number) & (erp.condition==2)].Fz)\n",
    "    plt.ylim(-10, 12) \n",
    "    plt.title(\"Tone signal without button press - \" + status)  \n",
    "    plt.xlabel(\"Time (ms) on tone signal\")\n",
    "    plt.ylabel(\"Electrode signal (µvolts)\")\n",
    "    plt.show()\n",
    "\n",
    "    plt.plot(erp[(erp.subject==subject_number) & (erp.condition==3)].time_ms, erp[(erp.subject==subject_number) & (erp.condition==3)].Fz)\n",
    "    plt.ylim(-10, 12)  \n",
    "    plt.title(\"No tone signal after button press - \" + status)    \n",
    "    plt.xlabel(\"Time (ms) on button press\") \n",
    "    plt.ylabel(\"Electrode signal (µvolts)\")\n",
    "    plt.show()"
   ]
  },
  {
   "cell_type": "code",
   "execution_count": 24,
   "metadata": {},
   "outputs": [
    {
     "data": {
      "image/png": "[encoded data removed]",
      "text/plain": [
       "<Figure size 432x288 with 1 Axes>"
      ]
     },
     "metadata": {
      "needs_background": "light"
     },
     "output_type": "display_data"
    },
    {
     "data": {
      "image/png": "[encoded data removed]",
      "text/plain": [
       "<Figure size 432x288 with 1 Axes>"
      ]
     },
     "metadata": {
      "needs_background": "light"
     },
     "output_type": "display_data"
    },
    {
     "data": {
      "image/png": "[encoded data removed]",
      "text/plain": [
       "<Figure size 432x288 with 1 Axes>"
      ]
     },
     "metadata": {
      "needs_background": "light"
     },
     "output_type": "display_data"
    }
   ],
   "source": [
    "plot_eeg(2)"
   ]
  },
  {
   "cell_type": "code",
   "execution_count": 21,
   "metadata": {},
   "outputs": [
    {
     "data": {
      "text/html": [
       "<div>\n",
       "<style scoped>\n",
       "    .dataframe tbody tr th:only-of-type {\n",
       "        vertical-align: middle;\n",
       "    }\n",
       "\n",
       "    .dataframe tbody tr th {\n",
       "        vertical-align: top;\n",
       "    }\n",
       "\n",
       "    .dataframe thead th {\n",
       "        text-align: right;\n",
       "    }\n",
       "</style>\n",
       "<table border=\"1\" class=\"dataframe\">\n",
       "  <thead>\n",
       "    <tr style=\"text-align: right;\">\n",
       "      <th></th>\n",
       "      <th>subject</th>\n",
       "      <th>group</th>\n",
       "      <th>gender</th>\n",
       "      <th>age</th>\n",
       "      <th>education</th>\n",
       "    </tr>\n",
       "  </thead>\n",
       "  <tbody>\n",
       "    <tr>\n",
       "      <th>1</th>\n",
       "      <td>2</td>\n",
       "      <td>0</td>\n",
       "      <td>M</td>\n",
       "      <td>39</td>\n",
       "      <td>17.0</td>\n",
       "    </tr>\n",
       "  </tbody>\n",
       "</table>\n",
       "</div>"
      ],
      "text/plain": [
       "   subject   group  gender   age   education\n",
       "1        2       0       M    39        17.0"
      ]
     },
     "execution_count": 21,
     "metadata": {},
     "output_type": "execute_result"
    }
   ],
   "source": [
    "demographic[demographic.subject == 2]"
   ]
  },
  {
   "cell_type": "markdown",
   "metadata": {},
   "source": [
    "Upper plots show the electrode signal of a healthy, male individual of 39 years and normal education. An amplitude shortly after the signal tone can be seen."
   ]
  },
  {
   "cell_type": "code",
   "execution_count": 26,
   "metadata": {},
   "outputs": [
    {
     "data": {
      "image/png": "[encoded data removed]",
      "text/plain": [
       "<Figure size 432x288 with 1 Axes>"
      ]
     },
     "metadata": {
      "needs_background": "light"
     },
     "output_type": "display_data"
    },
    {
     "data": {
      "image/png": "[encoded data removed]",
      "text/plain": [
       "<Figure size 432x288 with 1 Axes>"
      ]
     },
     "metadata": {
      "needs_background": "light"
     },
     "output_type": "display_data"
    },
    {
     "data": {
      "image/png": "[encoded data removed]",
      "text/plain": [
       "<Figure size 432x288 with 1 Axes>"
      ]
     },
     "metadata": {
      "needs_background": "light"
     },
     "output_type": "display_data"
    }
   ],
   "source": [
    "plot_eeg(79)"
   ]
  },
  {
   "cell_type": "code",
   "execution_count": 22,
   "metadata": {},
   "outputs": [
    {
     "data": {
      "text/html": [
       "<div>\n",
       "<style scoped>\n",
       "    .dataframe tbody tr th:only-of-type {\n",
       "        vertical-align: middle;\n",
       "    }\n",
       "\n",
       "    .dataframe tbody tr th {\n",
       "        vertical-align: top;\n",
       "    }\n",
       "\n",
       "    .dataframe thead th {\n",
       "        text-align: right;\n",
       "    }\n",
       "</style>\n",
       "<table border=\"1\" class=\"dataframe\">\n",
       "  <thead>\n",
       "    <tr style=\"text-align: right;\">\n",
       "      <th></th>\n",
       "      <th>subject</th>\n",
       "      <th>group</th>\n",
       "      <th>gender</th>\n",
       "      <th>age</th>\n",
       "      <th>education</th>\n",
       "    </tr>\n",
       "  </thead>\n",
       "  <tbody>\n",
       "    <tr>\n",
       "      <th>78</th>\n",
       "      <td>79</td>\n",
       "      <td>1</td>\n",
       "      <td>M</td>\n",
       "      <td>37</td>\n",
       "      <td>16.0</td>\n",
       "    </tr>\n",
       "  </tbody>\n",
       "</table>\n",
       "</div>"
      ],
      "text/plain": [
       "    subject   group  gender   age   education\n",
       "78       79       1       M    37        16.0"
      ]
     },
     "execution_count": 22,
     "metadata": {},
     "output_type": "execute_result"
    }
   ],
   "source": [
    "demographic[demographic.subject == 79]"
   ]
  },
  {
   "cell_type": "markdown",
   "metadata": {},
   "source": [
    "Upper plots show the electrode signal of a schizphrenia affected, male individual of 37 years and normal education. The amplitude shortly after the signal tone is not as clear and the brainwave in general is more erratic. "
   ]
  },
  {
   "cell_type": "code",
   "execution_count": 4,
   "metadata": {},
   "outputs": [
    {
     "name": "stdout",
     "output_type": "stream",
     "text": [
      "['Fp1', 'AF7', 'AF3', 'F1', 'F3', 'F5', 'F7', 'FT7', 'FC5', 'FC3', 'FC1', 'C1', 'C3', 'C5', 'T7', 'TP7', 'CP5', 'CP3', 'CP1', 'P1', 'P3', 'P5', 'P7', 'P9', 'PO7', 'PO3', 'O1', 'Iz', 'Oz', 'POz', 'Pz', 'CPz', 'Fpz', 'Fp2', 'AF8', 'AF4', 'AFz', 'Fz', 'F2', 'F4', 'F6', 'F8', 'FT8', 'FC6', 'FC4', 'FC2', 'FCz', 'Cz', 'C2', 'C4', 'C6', 'T8', 'TP8', 'CP6', 'CP4', 'CP2', 'P2', 'P4', 'P6', 'P8', 'P10', 'PO8', 'PO4', 'O2', 'VEOa', 'VEOb', 'HEOL', 'HEOR', 'Nose', 'TP10']\n"
     ]
    }
   ],
   "source": [
    "electrodes_list = list(pd.read_csv(\"./input/columnLabels.csv\").columns[4:])\n",
    "print(electrodes_list)"
   ]
  },
  {
   "cell_type": "code",
   "execution_count": 3,
   "metadata": {},
   "outputs": [
    {
     "data": {
      "text/plain": [
       "70"
      ]
     },
     "execution_count": 3,
     "metadata": {},
     "output_type": "execute_result"
    }
   ],
   "source": [
    "len(electrodes_list)"
   ]
  },
  {
   "cell_type": "markdown",
   "metadata": {},
   "source": [
    "## **Downsampling**\n",
    "\n",
    "There are 81 subjects to analyze. Each subject had to complete each of the 3 button/tone scenarios 100 times (100x button press with tone after, 100x tone signal without button being pushed, 100x button press with no tone signal after) and for each of the 300 trials, up to 3,072 samples of each electrode were collected. The data was collected for 70 electrodes, so this results in 81 datasets of each roughly 64.5 million values (3 * 100 * 3,072 * 70), if all samples were collected, which is not always the case. Still, this is too much data to process, so simplifying the data before training is inevitable. To downsize the data a little bit, the average of N samples of each electrode can be calculated."
   ]
  },
  {
   "cell_type": "code",
   "execution_count": 9,
   "metadata": {},
   "outputs": [],
   "source": [
    "# Function to calculate the average of N values of every electrode for each trial. This step reduces the dimension of the input data by factor N.\n",
    "\n",
    "def averaged_by_N_rows(a, n):\n",
    "    shape = a.shape\n",
    "    assert len(shape) == 2\n",
    "    assert shape[0] % n == 0\n",
    "    b = a.reshape(shape[0] // n, n, shape[1])\n",
    "    mean_vec = b.mean(axis=1)\n",
    "    return mean_vec"
   ]
  },
  {
   "cell_type": "code",
   "execution_count": null,
   "metadata": {},
   "outputs": [],
   "source": [
    "# The number that the number of maximum samples of 9,216 is divided by\n",
    "N_AVERAGED = 16\n",
    "\n",
    "# Empty matrices of 0s in the required dimensions are built:\n",
    "# 81 = no. of subjects\n",
    "# 100 = no. of trials (100 trials per subject)\n",
    "# 9,216 = 3 button press/tone scenarios * 3,072 EEG samples\n",
    "# electrodes_list = 70\n",
    "X = np.zeros((81 * 100,  9216 * len(electrodes_list) // N_AVERAGED), dtype=\"float32\")\n",
    "Y = np.zeros(len(X))\n",
    "\n",
    "part1_path = \"./input/part1\"\n",
    "part2_path = \"./input/part2\"\n",
    "\n",
    "x_counter = 0\n",
    "column_list = pd.read_csv(\"./input/columnLabels.csv\").columns\n",
    "for person_number in range(1, 81 + 1):\n",
    "            \n",
    "    \n",
    "    csv_path = f\"{part1_path}/{person_number}.csv/{person_number}.csv\"\n",
    "    if not os.path.exists(csv_path):\n",
    "        csv_path = f\"{part2_path}/{person_number}.csv/{person_number}.csv\"\n",
    "    df = pd.read_csv(csv_path, \n",
    "                header=None,\n",
    "                names=column_list\n",
    "                )\n",
    "\n",
    "    trials_list = set(df.trial)\n",
    "    \n",
    "# For every trial from 1 to 100 of each test subject from 1 to 81, up to 9,216 samples are divided by 16 (in some test subjects' trials there are less than 9,216 samples).\n",
    "    for t1, trial_number in enumerate(trials_list):\n",
    "        number_of_trials = len(df[df.trial == trial_number])\n",
    "        if number_of_trials == 9216.0:\n",
    "            current_sample_matrix = df[df.trial == trial_number][electrodes_list].values\n",
    "            averaged_by_N = averaged_by_N_rows(current_sample_matrix, n=N_AVERAGED)\n",
    "            averaged_by_N_big_vec = averaged_by_N.reshape(-1)\n",
    "            X[x_counter] = averaged_by_N_big_vec.astype(np.float32)\n",
    "            Y[x_counter] = diagnosis_dict[person_number]\n",
    "            x_counter += 1\n",
    "\n",
    "print(\"Number of trials - \", x_counter)\n",
    "X = X[: x_counter]\n",
    "Y = Y[: x_counter]"
   ]
  },
  {
   "cell_type": "markdown",
   "metadata": {},
   "source": [
    "The averaged electrode data was saved as X variable and the corresponding diagnosis was saved to a Y variable. The contained data can be written to a binary format file (for fewer disk space usage)."
   ]
  },
  {
   "cell_type": "code",
   "execution_count": null,
   "metadata": {},
   "outputs": [],
   "source": [
    "X.tofile(\"./working/goodX_every4.bin\")\n",
    "Y.astype(\"uint8\").tofile(\"./working/goodY_every4.bin\")"
   ]
  },
  {
   "cell_type": "markdown",
   "metadata": {},
   "source": [
    "The X and Y binary files have to be converted to NumPy arrays, so that they can be used as an input for CNNs."
   ]
  },
  {
   "cell_type": "code",
   "execution_count": 12,
   "metadata": {},
   "outputs": [
    {
     "name": "stdout",
     "output_type": "stream",
     "text": [
      "Done! Time: Thu Jan  6 16:14:06 2022\n"
     ]
    }
   ],
   "source": [
    "Y = np.fromfile(\"./working/goodY_every4.bin\", dtype=np.uint8)    \n",
    "X = np.fromfile(\"./working/goodX_every4.bin\", dtype=np.float32).reshape(len(Y), -1)\n",
    "print(\"Done! Time:\", time.ctime())"
   ]
  },
  {
   "cell_type": "code",
   "execution_count": 2,
   "metadata": {},
   "outputs": [
    {
     "name": "stdout",
     "output_type": "stream",
     "text": [
      "Done! Time: Sat Jan 15 21:02:10 2022\n"
     ]
    }
   ],
   "source": [
    "Y = np.fromfile(\"./working/goodY_every4.bin\", dtype=np.uint8)    \n",
    "X = np.fromfile(\"./working/goodX_every4.bin\", dtype=np.float32).reshape(len(Y), -1)\n",
    "print(\"Done! Time:\", time.ctime())"
   ]
  },
  {
   "cell_type": "markdown",
   "metadata": {},
   "source": [
    "## **Preprocessing**\n",
    "\n",
    "Before being used as an input, the electrode values are being normalized because it is recommended to use scaling on CNN input. To do so, the electrode values have to be represented in one dimension and everything else (test subject, trial no., sample no.) has to be put into the other dimension."
   ]
  },
  {
   "cell_type": "code",
   "execution_count": 3,
   "metadata": {},
   "outputs": [],
   "source": [
    "X_norm = (normalize(X.reshape(-1, 70), axis=0, norm='max')).reshape(X.shape)"
   ]
  },
  {
   "cell_type": "markdown",
   "metadata": {},
   "source": [
    "## **Train/Test-Split**"
   ]
  },
  {
   "cell_type": "code",
   "execution_count": 4,
   "metadata": {},
   "outputs": [],
   "source": [
    "X_train_norm, X_test_norm, Y_train_norm, Y_test_norm = train_test_split(X_norm, Y, test_size=0.2, shuffle=True, random_state=42)"
   ]
  },
  {
   "cell_type": "markdown",
   "metadata": {},
   "source": [
    "The predictor data is once more reshaped so that the array has three dimensions:\n",
    "1) each trial of every test subject (81 * 100)\n",
    "2) electrodes (70)\n",
    "3) average of every 16th of the 9,216 samples (576)\n",
    "\n",
    "Not every trial had all the 9,216 samples, so it is expected that there are not all 81 * 100 trials present in the array."
   ]
  },
  {
   "cell_type": "code",
   "execution_count": 14,
   "metadata": {},
   "outputs": [
    {
     "data": {
      "text/plain": [
       "7092"
      ]
     },
     "execution_count": 14,
     "metadata": {},
     "output_type": "execute_result"
    }
   ],
   "source": [
    "X_train_2d = X_train_norm.reshape(X_train_norm.shape[0], len(electrodes_list), X_train_norm.shape[1] // len(electrodes_list), 1)\n",
    "X_test_2d = X_test_norm.reshape(X_test_norm.shape[0], len(electrodes_list), X_test_norm.shape[1] // len(electrodes_list), 1)\n",
    "X_train_2d.shape[0] + X_test_2d.shape[0]"
   ]
  },
  {
   "cell_type": "markdown",
   "metadata": {},
   "source": [
    "7,092 trials are in the array, so 7,092 \"cases\" which can be used for training and testing, each labelled as healthy or schizophrenic."
   ]
  },
  {
   "cell_type": "markdown",
   "metadata": {},
   "source": [
    "## **Modelling**\n",
    "\n",
    "### 1st Model"
   ]
  },
  {
   "cell_type": "code",
   "execution_count": 17,
   "metadata": {},
   "outputs": [],
   "source": [
    "filepath=\"./best_model1.h5\"\n",
    "checkpoint = ModelCheckpoint(filepath, monitor='val_acc', verbose=1, save_best_only=True, mode='max')\n",
    "\n",
    "model = Sequential()\n",
    "model.add(Conv2D(32, kernel_size=(5, 20),\n",
    "                 activation='tanh',\n",
    "                 input_shape=(X_train_2d.shape[1:])))\n",
    "model.add(MaxPooling2D(pool_size=(5, 15)))\n",
    "\n",
    "model.add(Conv2D(13, kernel_size=(3, 3),\n",
    "                 activation='tanh',))\n",
    "model.add(MaxPooling2D(pool_size=(3, 3)))\n",
    "          \n",
    "\n",
    "model.add(Dropout(0.2))\n",
    "model.add(Flatten())\n",
    "\n",
    "model.add(Dense(317, activation='relu'))\n",
    "\n",
    "model.add(Dense(1, activation='sigmoid'))"
   ]
  },
  {
   "cell_type": "code",
   "execution_count": 22,
   "metadata": {},
   "outputs": [],
   "source": [
    "model.compile(loss=keras.losses.binary_crossentropy,\n",
    "              optimizer=tf.keras.optimizers.Adam(0.00001),\n",
    "              metrics=['acc'])"
   ]
  },
  {
   "cell_type": "code",
   "execution_count": 23,
   "metadata": {},
   "outputs": [],
   "source": [
    "history_params = []"
   ]
  },
  {
   "cell_type": "code",
   "execution_count": 24,
   "metadata": {},
   "outputs": [
    {
     "name": "stdout",
     "output_type": "stream",
     "text": [
      "Epoch 1/100\n",
      "334/334 [==============================] - ETA: 0s - loss: 0.6841 - acc: 0.5794\n",
      "Epoch 00001: val_acc improved from -inf to 0.59267, saving model to .\\best_model2.h5\n",
      "334/334 [==============================] - 344s 1s/step - loss: 0.6841 - acc: 0.5794 - val_loss: 0.6744 - val_acc: 0.5927\n",
      "Epoch 2/100\n",
      "334/334 [==============================] - ETA: 0s - loss: 0.6690 - acc: 0.5983\n",
      "Epoch 00002: val_acc did not improve from 0.59267\n",
      "334/334 [==============================] - 233s 697ms/step - loss: 0.6690 - acc: 0.5983 - val_loss: 0.6705 - val_acc: 0.5927\n",
      "Epoch 3/100\n",
      "334/334 [==============================] - ETA: 0s - loss: 0.6669 - acc: 0.5983\n",
      "Epoch 00003: val_acc did not improve from 0.59267\n",
      "334/334 [==============================] - 137s 409ms/step - loss: 0.6669 - acc: 0.5983 - val_loss: 0.6701 - val_acc: 0.5927\n",
      "Epoch 4/100\n",
      "334/334 [==============================] - ETA: 0s - loss: 0.6658 - acc: 0.5983\n",
      "Epoch 00004: val_acc did not improve from 0.59267\n",
      "334/334 [==============================] - 133s 398ms/step - loss: 0.6658 - acc: 0.5983 - val_loss: 0.6698 - val_acc: 0.5927\n",
      "Epoch 5/100\n",
      "334/334 [==============================] - ETA: 0s - loss: 0.6653 - acc: 0.5983\n",
      "Epoch 00005: val_acc did not improve from 0.59267\n",
      "334/334 [==============================] - 138s 414ms/step - loss: 0.6653 - acc: 0.5983 - val_loss: 0.6695 - val_acc: 0.5927\n",
      "Epoch 6/100\n",
      "334/334 [==============================] - ETA: 0s - loss: 0.6648 - acc: 0.5983\n",
      "Epoch 00006: val_acc did not improve from 0.59267\n",
      "334/334 [==============================] - 133s 398ms/step - loss: 0.6648 - acc: 0.5983 - val_loss: 0.6693 - val_acc: 0.5927\n",
      "Epoch 7/100\n",
      "334/334 [==============================] - ETA: 0s - loss: 0.6641 - acc: 0.5983\n",
      "Epoch 00007: val_acc did not improve from 0.59267\n",
      "334/334 [==============================] - 134s 400ms/step - loss: 0.6641 - acc: 0.5983 - val_loss: 0.6688 - val_acc: 0.5927\n",
      "Epoch 8/100\n",
      "334/334 [==============================] - ETA: 0s - loss: 0.6637 - acc: 0.5983\n",
      "Epoch 00008: val_acc did not improve from 0.59267\n",
      "334/334 [==============================] - 133s 399ms/step - loss: 0.6637 - acc: 0.5983 - val_loss: 0.6686 - val_acc: 0.5927\n",
      "Epoch 9/100\n",
      "334/334 [==============================] - ETA: 0s - loss: 0.6630 - acc: 0.5983\n",
      "Epoch 00009: val_acc did not improve from 0.59267\n",
      "334/334 [==============================] - 133s 399ms/step - loss: 0.6630 - acc: 0.5983 - val_loss: 0.6683 - val_acc: 0.5927\n",
      "Epoch 10/100\n",
      "334/334 [==============================] - ETA: 0s - loss: 0.6624 - acc: 0.5983\n",
      "Epoch 00010: val_acc did not improve from 0.59267\n",
      "334/334 [==============================] - 133s 398ms/step - loss: 0.6624 - acc: 0.5983 - val_loss: 0.6682 - val_acc: 0.5927\n",
      "Epoch 11/100\n",
      "334/334 [==============================] - ETA: 0s - loss: 0.6619 - acc: 0.5983\n",
      "Epoch 00011: val_acc did not improve from 0.59267\n",
      "334/334 [==============================] - 133s 399ms/step - loss: 0.6619 - acc: 0.5983 - val_loss: 0.6678 - val_acc: 0.5927\n",
      "Epoch 12/100\n",
      "334/334 [==============================] - ETA: 0s - loss: 0.6617 - acc: 0.5983\n",
      "Epoch 00012: val_acc did not improve from 0.59267\n",
      "334/334 [==============================] - 124s 371ms/step - loss: 0.6617 - acc: 0.5983 - val_loss: 0.6674 - val_acc: 0.5927\n",
      "Epoch 13/100\n",
      "334/334 [==============================] - ETA: 0s - loss: 0.6610 - acc: 0.5983\n",
      "Epoch 00013: val_acc did not improve from 0.59267\n",
      "334/334 [==============================] - 121s 363ms/step - loss: 0.6610 - acc: 0.5983 - val_loss: 0.6671 - val_acc: 0.5927\n",
      "Epoch 14/100\n",
      "334/334 [==============================] - ETA: 0s - loss: 0.6604 - acc: 0.5981\n",
      "Epoch 00014: val_acc did not improve from 0.59267\n",
      "334/334 [==============================] - 128s 382ms/step - loss: 0.6604 - acc: 0.5981 - val_loss: 0.6666 - val_acc: 0.5927\n",
      "Epoch 15/100\n",
      "334/334 [==============================] - ETA: 0s - loss: 0.6597 - acc: 0.5983\n",
      "Epoch 00015: val_acc did not improve from 0.59267\n",
      "334/334 [==============================] - 134s 400ms/step - loss: 0.6597 - acc: 0.5983 - val_loss: 0.6666 - val_acc: 0.5927\n",
      "Epoch 16/100\n",
      "334/334 [==============================] - ETA: 0s - loss: 0.6590 - acc: 0.5984\n",
      "Epoch 00016: val_acc improved from 0.59267 to 0.59338, saving model to .\\best_model2.h5\n",
      "334/334 [==============================] - 120s 358ms/step - loss: 0.6590 - acc: 0.5984 - val_loss: 0.6660 - val_acc: 0.5934\n",
      "Epoch 17/100\n",
      "334/334 [==============================] - ETA: 0s - loss: 0.6582 - acc: 0.5988\n",
      "Epoch 00017: val_acc did not improve from 0.59338\n",
      "334/334 [==============================] - 119s 356ms/step - loss: 0.6582 - acc: 0.5988 - val_loss: 0.6660 - val_acc: 0.5934\n",
      "Epoch 18/100\n",
      "334/334 [==============================] - ETA: 0s - loss: 0.6577 - acc: 0.5999\n",
      "Epoch 00018: val_acc did not improve from 0.59338\n",
      "334/334 [==============================] - 118s 354ms/step - loss: 0.6577 - acc: 0.5999 - val_loss: 0.6654 - val_acc: 0.5934\n",
      "Epoch 19/100\n",
      "334/334 [==============================] - ETA: 0s - loss: 0.6569 - acc: 0.5997\n",
      "Epoch 00019: val_acc improved from 0.59338 to 0.59479, saving model to .\\best_model2.h5\n",
      "334/334 [==============================] - 134s 400ms/step - loss: 0.6569 - acc: 0.5997 - val_loss: 0.6649 - val_acc: 0.5948\n",
      "Epoch 20/100\n",
      "334/334 [==============================] - ETA: 0s - loss: 0.6562 - acc: 0.6006\n",
      "Epoch 00020: val_acc improved from 0.59479 to 0.59619, saving model to .\\best_model2.h5\n",
      "334/334 [==============================] - 134s 403ms/step - loss: 0.6562 - acc: 0.6006 - val_loss: 0.6645 - val_acc: 0.5962\n",
      "Epoch 21/100\n",
      "334/334 [==============================] - ETA: 0s - loss: 0.6558 - acc: 0.6029\n",
      "Epoch 00021: val_acc did not improve from 0.59619\n",
      "334/334 [==============================] - 127s 381ms/step - loss: 0.6558 - acc: 0.6029 - val_loss: 0.6648 - val_acc: 0.5948\n",
      "Epoch 22/100\n",
      "334/334 [==============================] - ETA: 0s - loss: 0.6548 - acc: 0.6055\n",
      "Epoch 00022: val_acc did not improve from 0.59619\n",
      "334/334 [==============================] - 126s 378ms/step - loss: 0.6548 - acc: 0.6055 - val_loss: 0.6637 - val_acc: 0.5948\n",
      "Epoch 23/100\n",
      "334/334 [==============================] - ETA: 0s - loss: 0.6542 - acc: 0.6062\n",
      "Epoch 00023: val_acc improved from 0.59619 to 0.59760, saving model to .\\best_model2.h5\n",
      "334/334 [==============================] - 126s 377ms/step - loss: 0.6542 - acc: 0.6062 - val_loss: 0.6634 - val_acc: 0.5976\n",
      "Epoch 24/100\n",
      "334/334 [==============================] - ETA: 0s - loss: 0.6536 - acc: 0.6071\n",
      "Epoch 00024: val_acc improved from 0.59760 to 0.60395, saving model to .\\best_model2.h5\n",
      "334/334 [==============================] - 125s 375ms/step - loss: 0.6536 - acc: 0.6071 - val_loss: 0.6627 - val_acc: 0.6039\n",
      "Epoch 25/100\n",
      "334/334 [==============================] - ETA: 0s - loss: 0.6526 - acc: 0.6117\n",
      "Epoch 00025: val_acc did not improve from 0.60395\n",
      "334/334 [==============================] - 125s 376ms/step - loss: 0.6526 - acc: 0.6117 - val_loss: 0.6631 - val_acc: 0.5990\n",
      "Epoch 26/100\n",
      "334/334 [==============================] - ETA: 0s - loss: 0.6520 - acc: 0.6097\n",
      "Epoch 00026: val_acc did not improve from 0.60395\n",
      "334/334 [==============================] - 123s 368ms/step - loss: 0.6520 - acc: 0.6097 - val_loss: 0.6623 - val_acc: 0.6018\n",
      "Epoch 27/100\n",
      "334/334 [==============================] - ETA: 0s - loss: 0.6510 - acc: 0.6133\n",
      "Epoch 00027: val_acc did not improve from 0.60395\n",
      "334/334 [==============================] - 125s 373ms/step - loss: 0.6510 - acc: 0.6133 - val_loss: 0.6622 - val_acc: 0.5997\n",
      "Epoch 28/100\n",
      "334/334 [==============================] - ETA: 0s - loss: 0.6500 - acc: 0.6092\n",
      "Epoch 00028: val_acc improved from 0.60395 to 0.60677, saving model to .\\best_model2.h5\n",
      "334/334 [==============================] - 130s 388ms/step - loss: 0.6500 - acc: 0.6092 - val_loss: 0.6611 - val_acc: 0.6068\n",
      "Epoch 29/100\n",
      "334/334 [==============================] - ETA: 0s - loss: 0.6501 - acc: 0.6127\n",
      "Epoch 00029: val_acc did not improve from 0.60677\n",
      "334/334 [==============================] - 133s 400ms/step - loss: 0.6501 - acc: 0.6127 - val_loss: 0.6608 - val_acc: 0.6032\n",
      "Epoch 30/100\n",
      "334/334 [==============================] - ETA: 0s - loss: 0.6491 - acc: 0.6136\n",
      "Epoch 00030: val_acc did not improve from 0.60677\n",
      "334/334 [==============================] - 130s 389ms/step - loss: 0.6491 - acc: 0.6136 - val_loss: 0.6609 - val_acc: 0.6032\n",
      "Epoch 31/100\n",
      "334/334 [==============================] - ETA: 0s - loss: 0.6484 - acc: 0.6141\n",
      "Epoch 00031: val_acc did not improve from 0.60677\n",
      "334/334 [==============================] - 158s 475ms/step - loss: 0.6484 - acc: 0.6141 - val_loss: 0.6603 - val_acc: 0.6047\n",
      "Epoch 32/100\n",
      "334/334 [==============================] - ETA: 0s - loss: 0.6475 - acc: 0.6152\n",
      "Epoch 00032: val_acc improved from 0.60677 to 0.61240, saving model to .\\best_model2.h5\n",
      "334/334 [==============================] - 168s 503ms/step - loss: 0.6475 - acc: 0.6152 - val_loss: 0.6595 - val_acc: 0.6124\n",
      "Epoch 33/100\n",
      "334/334 [==============================] - ETA: 0s - loss: 0.6471 - acc: 0.6178\n",
      "Epoch 00033: val_acc did not improve from 0.61240\n",
      "334/334 [==============================] - 167s 499ms/step - loss: 0.6471 - acc: 0.6178 - val_loss: 0.6597 - val_acc: 0.6047\n",
      "Epoch 34/100\n",
      "334/334 [==============================] - ETA: 0s - loss: 0.6467 - acc: 0.6170\n",
      "Epoch 00034: val_acc did not improve from 0.61240\n",
      "334/334 [==============================] - 170s 510ms/step - loss: 0.6467 - acc: 0.6170 - val_loss: 0.6593 - val_acc: 0.6103\n",
      "Epoch 35/100\n",
      "334/334 [==============================] - ETA: 0s - loss: 0.6454 - acc: 0.6171\n",
      "Epoch 00035: val_acc improved from 0.61240 to 0.62086, saving model to .\\best_model2.h5\n",
      "334/334 [==============================] - 135s 403ms/step - loss: 0.6454 - acc: 0.6171 - val_loss: 0.6583 - val_acc: 0.6209\n",
      "Epoch 36/100\n",
      "334/334 [==============================] - ETA: 0s - loss: 0.6455 - acc: 0.6198\n",
      "Epoch 00036: val_acc improved from 0.62086 to 0.62509, saving model to .\\best_model2.h5\n",
      "334/334 [==============================] - 117s 352ms/step - loss: 0.6455 - acc: 0.6198 - val_loss: 0.6580 - val_acc: 0.6251\n",
      "Epoch 37/100\n",
      "334/334 [==============================] - ETA: 0s - loss: 0.6448 - acc: 0.6210\n",
      "Epoch 00037: val_acc did not improve from 0.62509\n",
      "334/334 [==============================] - 117s 350ms/step - loss: 0.6448 - acc: 0.6210 - val_loss: 0.6578 - val_acc: 0.6223\n",
      "Epoch 38/100\n",
      "334/334 [==============================] - ETA: 0s - loss: 0.6443 - acc: 0.6207\n",
      "Epoch 00038: val_acc did not improve from 0.62509\n",
      "334/334 [==============================] - 117s 351ms/step - loss: 0.6443 - acc: 0.6207 - val_loss: 0.6579 - val_acc: 0.6145\n",
      "Epoch 39/100\n",
      "334/334 [==============================] - ETA: 0s - loss: 0.6428 - acc: 0.6219\n",
      "Epoch 00039: val_acc did not improve from 0.62509\n",
      "334/334 [==============================] - 123s 369ms/step - loss: 0.6428 - acc: 0.6219 - val_loss: 0.6577 - val_acc: 0.6159\n",
      "Epoch 40/100\n",
      "334/334 [==============================] - ETA: 0s - loss: 0.6422 - acc: 0.6237\n",
      "Epoch 00040: val_acc did not improve from 0.62509\n",
      "334/334 [==============================] - 118s 354ms/step - loss: 0.6422 - acc: 0.6237 - val_loss: 0.6571 - val_acc: 0.6187\n",
      "Epoch 41/100\n",
      "334/334 [==============================] - ETA: 0s - loss: 0.6423 - acc: 0.6219\n",
      "Epoch 00041: val_acc improved from 0.62509 to 0.62579, saving model to .\\best_model2.h5\n",
      "334/334 [==============================] - 118s 354ms/step - loss: 0.6423 - acc: 0.6219 - val_loss: 0.6564 - val_acc: 0.6258\n",
      "Epoch 42/100\n",
      "334/334 [==============================] - ETA: 0s - loss: 0.6414 - acc: 0.6254\n",
      "Epoch 00042: val_acc did not improve from 0.62579\n",
      "334/334 [==============================] - 111s 331ms/step - loss: 0.6414 - acc: 0.6254 - val_loss: 0.6564 - val_acc: 0.6216\n",
      "Epoch 43/100\n",
      "334/334 [==============================] - ETA: 0s - loss: 0.6406 - acc: 0.6267\n",
      "Epoch 00043: val_acc improved from 0.62579 to 0.62720, saving model to .\\best_model2.h5\n",
      "334/334 [==============================] - 108s 324ms/step - loss: 0.6406 - acc: 0.6267 - val_loss: 0.6557 - val_acc: 0.6272\n",
      "Epoch 44/100\n",
      "334/334 [==============================] - ETA: 0s - loss: 0.6403 - acc: 0.6295\n",
      "Epoch 00044: val_acc did not improve from 0.62720\n",
      "334/334 [==============================] - 108s 324ms/step - loss: 0.6403 - acc: 0.6295 - val_loss: 0.6569 - val_acc: 0.6145\n",
      "Epoch 45/100\n",
      "334/334 [==============================] - ETA: 0s - loss: 0.6395 - acc: 0.6296\n",
      "Epoch 00045: val_acc did not improve from 0.62720\n",
      "334/334 [==============================] - 108s 324ms/step - loss: 0.6395 - acc: 0.6296 - val_loss: 0.6552 - val_acc: 0.6258\n",
      "Epoch 46/100\n",
      "334/334 [==============================] - ETA: 0s - loss: 0.6394 - acc: 0.6300\n",
      "Epoch 00046: val_acc did not improve from 0.62720\n",
      "334/334 [==============================] - 108s 324ms/step - loss: 0.6394 - acc: 0.6300 - val_loss: 0.6551 - val_acc: 0.6265\n",
      "Epoch 47/100\n",
      "334/334 [==============================] - ETA: 0s - loss: 0.6386 - acc: 0.6270\n",
      "Epoch 00047: val_acc improved from 0.62720 to 0.62861, saving model to .\\best_model2.h5\n",
      "334/334 [==============================] - 125s 376ms/step - loss: 0.6386 - acc: 0.6270 - val_loss: 0.6542 - val_acc: 0.6286\n",
      "Epoch 48/100\n",
      "334/334 [==============================] - ETA: 0s - loss: 0.6383 - acc: 0.6298\n",
      "Epoch 00048: val_acc did not improve from 0.62861\n",
      "334/334 [==============================] - 143s 430ms/step - loss: 0.6383 - acc: 0.6298 - val_loss: 0.6537 - val_acc: 0.6258\n",
      "Epoch 49/100\n",
      "334/334 [==============================] - ETA: 0s - loss: 0.6376 - acc: 0.6341\n",
      "Epoch 00049: val_acc did not improve from 0.62861\n",
      "334/334 [==============================] - 139s 417ms/step - loss: 0.6376 - acc: 0.6341 - val_loss: 0.6541 - val_acc: 0.6258\n",
      "Epoch 50/100\n",
      "334/334 [==============================] - ETA: 0s - loss: 0.6371 - acc: 0.6305\n",
      "Epoch 00050: val_acc did not improve from 0.62861\n",
      "334/334 [==============================] - 216s 649ms/step - loss: 0.6371 - acc: 0.6305 - val_loss: 0.6536 - val_acc: 0.6272\n",
      "Epoch 51/100\n",
      "334/334 [==============================] - ETA: 0s - loss: 0.6360 - acc: 0.6332\n",
      "Epoch 00051: val_acc did not improve from 0.62861\n",
      "334/334 [==============================] - 282s 845ms/step - loss: 0.6360 - acc: 0.6332 - val_loss: 0.6529 - val_acc: 0.6272\n",
      "Epoch 52/100\n",
      "334/334 [==============================] - ETA: 0s - loss: 0.6359 - acc: 0.6328\n",
      "Epoch 00052: val_acc did not improve from 0.62861\n",
      "334/334 [==============================] - 303s 908ms/step - loss: 0.6359 - acc: 0.6328 - val_loss: 0.6530 - val_acc: 0.6265\n",
      "Epoch 53/100\n",
      "334/334 [==============================] - ETA: 0s - loss: 0.6354 - acc: 0.6314\n",
      "Epoch 00053: val_acc did not improve from 0.62861\n",
      "334/334 [==============================] - 291s 873ms/step - loss: 0.6354 - acc: 0.6314 - val_loss: 0.6536 - val_acc: 0.6209\n",
      "Epoch 54/100\n",
      "334/334 [==============================] - ETA: 0s - loss: 0.6350 - acc: 0.6337\n",
      "Epoch 00054: val_acc did not improve from 0.62861\n",
      "334/334 [==============================] - 250s 749ms/step - loss: 0.6350 - acc: 0.6337 - val_loss: 0.6521 - val_acc: 0.6286\n",
      "Epoch 55/100\n",
      "334/334 [==============================] - ETA: 0s - loss: 0.6348 - acc: 0.6323\n",
      "Epoch 00055: val_acc did not improve from 0.62861\n",
      "334/334 [==============================] - 277s 829ms/step - loss: 0.6348 - acc: 0.6323 - val_loss: 0.6515 - val_acc: 0.6286\n",
      "Epoch 56/100\n",
      "334/334 [==============================] - ETA: 0s - loss: 0.6343 - acc: 0.6330\n",
      "Epoch 00056: val_acc did not improve from 0.62861\n",
      "334/334 [==============================] - 269s 806ms/step - loss: 0.6343 - acc: 0.6330 - val_loss: 0.6513 - val_acc: 0.6286\n",
      "Epoch 57/100\n",
      "334/334 [==============================] - ETA: 0s - loss: 0.6338 - acc: 0.6378\n",
      "Epoch 00057: val_acc did not improve from 0.62861\n",
      "334/334 [==============================] - 282s 845ms/step - loss: 0.6338 - acc: 0.6378 - val_loss: 0.6510 - val_acc: 0.6272\n",
      "Epoch 58/100\n",
      "334/334 [==============================] - ETA: 0s - loss: 0.6328 - acc: 0.6371\n",
      "Epoch 00058: val_acc did not improve from 0.62861\n",
      "334/334 [==============================] - 301s 900ms/step - loss: 0.6328 - acc: 0.6371 - val_loss: 0.6505 - val_acc: 0.6251\n",
      "Epoch 59/100\n",
      "334/334 [==============================] - ETA: 0s - loss: 0.6328 - acc: 0.6383\n",
      "Epoch 00059: val_acc improved from 0.62861 to 0.62932, saving model to .\\best_model2.h5\n",
      "334/334 [==============================] - 315s 943ms/step - loss: 0.6328 - acc: 0.6383 - val_loss: 0.6509 - val_acc: 0.6293\n",
      "Epoch 60/100\n",
      "334/334 [==============================] - ETA: 0s - loss: 0.6319 - acc: 0.6378\n",
      "Epoch 00060: val_acc did not improve from 0.62932\n",
      "334/334 [==============================] - 267s 798ms/step - loss: 0.6319 - acc: 0.6378 - val_loss: 0.6502 - val_acc: 0.6251\n",
      "Epoch 61/100\n",
      "334/334 [==============================] - ETA: 0s - loss: 0.6304 - acc: 0.6374\n",
      "Epoch 00061: val_acc did not improve from 0.62932\n",
      "334/334 [==============================] - 309s 927ms/step - loss: 0.6304 - acc: 0.6374 - val_loss: 0.6501 - val_acc: 0.6272\n",
      "Epoch 62/100\n",
      "334/334 [==============================] - ETA: 0s - loss: 0.6301 - acc: 0.6425\n",
      "Epoch 00062: val_acc did not improve from 0.62932\n",
      "334/334 [==============================] - 281s 842ms/step - loss: 0.6301 - acc: 0.6425 - val_loss: 0.6489 - val_acc: 0.6258\n",
      "Epoch 63/100\n",
      "334/334 [==============================] - ETA: 0s - loss: 0.6302 - acc: 0.6383\n",
      "Epoch 00063: val_acc did not improve from 0.62932\n",
      "334/334 [==============================] - 267s 801ms/step - loss: 0.6302 - acc: 0.6383 - val_loss: 0.6487 - val_acc: 0.6209\n",
      "Epoch 64/100\n",
      "334/334 [==============================] - ETA: 0s - loss: 0.6290 - acc: 0.6459\n",
      "Epoch 00064: val_acc did not improve from 0.62932\n",
      "334/334 [==============================] - 268s 802ms/step - loss: 0.6290 - acc: 0.6459 - val_loss: 0.6508 - val_acc: 0.6223\n",
      "Epoch 65/100\n",
      "334/334 [==============================] - ETA: 0s - loss: 0.6299 - acc: 0.6409\n",
      "Epoch 00065: val_acc did not improve from 0.62932\n",
      "334/334 [==============================] - 193s 578ms/step - loss: 0.6299 - acc: 0.6409 - val_loss: 0.6478 - val_acc: 0.6223\n",
      "Epoch 66/100\n",
      "334/334 [==============================] - ETA: 0s - loss: 0.6293 - acc: 0.6400\n",
      "Epoch 00066: val_acc did not improve from 0.62932\n",
      "334/334 [==============================] - 187s 561ms/step - loss: 0.6293 - acc: 0.6400 - val_loss: 0.6484 - val_acc: 0.6279\n",
      "Epoch 67/100\n",
      "334/334 [==============================] - ETA: 0s - loss: 0.6292 - acc: 0.6379\n",
      "Epoch 00067: val_acc improved from 0.62932 to 0.63002, saving model to .\\best_model2.h5\n",
      "334/334 [==============================] - 189s 565ms/step - loss: 0.6292 - acc: 0.6379 - val_loss: 0.6479 - val_acc: 0.6300\n",
      "Epoch 68/100\n",
      "334/334 [==============================] - ETA: 0s - loss: 0.6275 - acc: 0.6418\n",
      "Epoch 00068: val_acc did not improve from 0.63002\n",
      "334/334 [==============================] - 184s 552ms/step - loss: 0.6275 - acc: 0.6418 - val_loss: 0.6471 - val_acc: 0.6258\n",
      "Epoch 69/100\n",
      "334/334 [==============================] - ETA: 0s - loss: 0.6273 - acc: 0.6448\n",
      "Epoch 00069: val_acc did not improve from 0.63002\n",
      "334/334 [==============================] - 192s 574ms/step - loss: 0.6273 - acc: 0.6448 - val_loss: 0.6467 - val_acc: 0.6202\n",
      "Epoch 70/100\n",
      "334/334 [==============================] - ETA: 0s - loss: 0.6273 - acc: 0.6425\n",
      "Epoch 00070: val_acc did not improve from 0.63002\n",
      "334/334 [==============================] - 191s 572ms/step - loss: 0.6273 - acc: 0.6425 - val_loss: 0.6480 - val_acc: 0.6272\n",
      "Epoch 71/100\n",
      "334/334 [==============================] - ETA: 0s - loss: 0.6266 - acc: 0.6443\n",
      "Epoch 00071: val_acc improved from 0.63002 to 0.63073, saving model to .\\best_model2.h5\n",
      "334/334 [==============================] - 260s 778ms/step - loss: 0.6266 - acc: 0.6443 - val_loss: 0.6466 - val_acc: 0.6307\n",
      "Epoch 72/100\n",
      "334/334 [==============================] - ETA: 0s - loss: 0.6264 - acc: 0.6455\n",
      "Epoch 00072: val_acc improved from 0.63073 to 0.63143, saving model to .\\best_model2.h5\n",
      "334/334 [==============================] - 259s 775ms/step - loss: 0.6264 - acc: 0.6455 - val_loss: 0.6462 - val_acc: 0.6314\n",
      "Epoch 73/100\n",
      "334/334 [==============================] - ETA: 0s - loss: 0.6263 - acc: 0.6475\n",
      "Epoch 00073: val_acc improved from 0.63143 to 0.63214, saving model to .\\best_model2.h5\n",
      "334/334 [==============================] - 217s 649ms/step - loss: 0.6263 - acc: 0.6475 - val_loss: 0.6458 - val_acc: 0.6321\n",
      "Epoch 74/100\n",
      "334/334 [==============================] - ETA: 0s - loss: 0.6253 - acc: 0.6536\n",
      "Epoch 00074: val_acc improved from 0.63214 to 0.63284, saving model to .\\best_model2.h5\n",
      "334/334 [==============================] - 209s 625ms/step - loss: 0.6253 - acc: 0.6536 - val_loss: 0.6456 - val_acc: 0.6328\n",
      "Epoch 75/100\n",
      "334/334 [==============================] - ETA: 0s - loss: 0.6250 - acc: 0.6503\n",
      "Epoch 00075: val_acc did not improve from 0.63284\n",
      "334/334 [==============================] - 245s 735ms/step - loss: 0.6250 - acc: 0.6503 - val_loss: 0.6454 - val_acc: 0.6321\n",
      "Epoch 76/100\n",
      "334/334 [==============================] - ETA: 0s - loss: 0.6250 - acc: 0.6473\n",
      "Epoch 00076: val_acc did not improve from 0.63284\n",
      "334/334 [==============================] - 244s 732ms/step - loss: 0.6250 - acc: 0.6473 - val_loss: 0.6447 - val_acc: 0.6314\n",
      "Epoch 77/100\n",
      "334/334 [==============================] - ETA: 0s - loss: 0.6232 - acc: 0.6475\n",
      "Epoch 00077: val_acc did not improve from 0.63284\n",
      "334/334 [==============================] - 235s 703ms/step - loss: 0.6232 - acc: 0.6475 - val_loss: 0.6441 - val_acc: 0.6279\n",
      "Epoch 78/100\n",
      "334/334 [==============================] - ETA: 0s - loss: 0.6233 - acc: 0.6492\n",
      "Epoch 00078: val_acc did not improve from 0.63284\n",
      "334/334 [==============================] - 221s 661ms/step - loss: 0.6233 - acc: 0.6492 - val_loss: 0.6441 - val_acc: 0.6314\n",
      "Epoch 79/100\n",
      "334/334 [==============================] - ETA: 0s - loss: 0.6229 - acc: 0.6496\n",
      "Epoch 00079: val_acc did not improve from 0.63284\n",
      "334/334 [==============================] - 219s 655ms/step - loss: 0.6229 - acc: 0.6496 - val_loss: 0.6430 - val_acc: 0.6272\n",
      "Epoch 80/100\n",
      "334/334 [==============================] - ETA: 0s - loss: 0.6229 - acc: 0.6522\n",
      "Epoch 00080: val_acc did not improve from 0.63284\n",
      "334/334 [==============================] - 219s 654ms/step - loss: 0.6229 - acc: 0.6522 - val_loss: 0.6428 - val_acc: 0.6251\n",
      "Epoch 81/100\n",
      "334/334 [==============================] - ETA: 0s - loss: 0.6223 - acc: 0.6462\n",
      "Epoch 00081: val_acc did not improve from 0.63284\n",
      "334/334 [==============================] - 269s 805ms/step - loss: 0.6223 - acc: 0.6462 - val_loss: 0.6433 - val_acc: 0.6279\n",
      "Epoch 82/100\n",
      "334/334 [==============================] - ETA: 0s - loss: 0.6209 - acc: 0.6510\n",
      "Epoch 00082: val_acc did not improve from 0.63284\n",
      "334/334 [==============================] - 261s 782ms/step - loss: 0.6209 - acc: 0.6510 - val_loss: 0.6423 - val_acc: 0.6279\n",
      "Epoch 83/100\n",
      "334/334 [==============================] - ETA: 0s - loss: 0.6213 - acc: 0.6475\n",
      "Epoch 00083: val_acc did not improve from 0.63284\n",
      "334/334 [==============================] - 239s 714ms/step - loss: 0.6213 - acc: 0.6475 - val_loss: 0.6417 - val_acc: 0.6251\n",
      "Epoch 84/100\n",
      "334/334 [==============================] - ETA: 0s - loss: 0.6194 - acc: 0.6494\n",
      "Epoch 00084: val_acc did not improve from 0.63284\n",
      "334/334 [==============================] - 220s 658ms/step - loss: 0.6194 - acc: 0.6494 - val_loss: 0.6421 - val_acc: 0.6251\n",
      "Epoch 85/100\n",
      "334/334 [==============================] - ETA: 0s - loss: 0.6196 - acc: 0.6506\n",
      "Epoch 00085: val_acc did not improve from 0.63284\n",
      "334/334 [==============================] - 220s 658ms/step - loss: 0.6196 - acc: 0.6506 - val_loss: 0.6409 - val_acc: 0.6307\n",
      "Epoch 86/100\n",
      "334/334 [==============================] - ETA: 0s - loss: 0.6192 - acc: 0.6515\n",
      "Epoch 00086: val_acc did not improve from 0.63284\n",
      "334/334 [==============================] - 218s 653ms/step - loss: 0.6192 - acc: 0.6515 - val_loss: 0.6417 - val_acc: 0.6258\n",
      "Epoch 87/100\n",
      "334/334 [==============================] - ETA: 0s - loss: 0.6181 - acc: 0.6559\n",
      "Epoch 00087: val_acc improved from 0.63284 to 0.63777, saving model to .\\best_model2.h5\n",
      "334/334 [==============================] - 240s 718ms/step - loss: 0.6181 - acc: 0.6559 - val_loss: 0.6409 - val_acc: 0.6378\n",
      "Epoch 88/100\n",
      "334/334 [==============================] - ETA: 0s - loss: 0.6184 - acc: 0.6549\n",
      "Epoch 00088: val_acc did not improve from 0.63777\n",
      "334/334 [==============================] - 263s 787ms/step - loss: 0.6184 - acc: 0.6549 - val_loss: 0.6397 - val_acc: 0.6293\n",
      "Epoch 89/100\n",
      "334/334 [==============================] - ETA: 0s - loss: 0.6174 - acc: 0.6520\n",
      "Epoch 00089: val_acc did not improve from 0.63777\n",
      "334/334 [==============================] - 244s 731ms/step - loss: 0.6174 - acc: 0.6520 - val_loss: 0.6416 - val_acc: 0.6265\n",
      "Epoch 90/100\n",
      "334/334 [==============================] - ETA: 0s - loss: 0.6172 - acc: 0.6557\n",
      "Epoch 00090: val_acc did not improve from 0.63777\n",
      "334/334 [==============================] - 199s 596ms/step - loss: 0.6172 - acc: 0.6557 - val_loss: 0.6394 - val_acc: 0.6293\n",
      "Epoch 91/100\n",
      "334/334 [==============================] - ETA: 0s - loss: 0.6164 - acc: 0.6520\n",
      "Epoch 00091: val_acc did not improve from 0.63777\n",
      "334/334 [==============================] - 199s 597ms/step - loss: 0.6164 - acc: 0.6520 - val_loss: 0.6385 - val_acc: 0.6335\n",
      "Epoch 92/100\n",
      "334/334 [==============================] - ETA: 0s - loss: 0.6165 - acc: 0.6522\n",
      "Epoch 00092: val_acc did not improve from 0.63777\n",
      "334/334 [==============================] - 200s 599ms/step - loss: 0.6165 - acc: 0.6522 - val_loss: 0.6403 - val_acc: 0.6279\n",
      "Epoch 93/100\n",
      "334/334 [==============================] - ETA: 0s - loss: 0.6152 - acc: 0.6517\n",
      "Epoch 00093: val_acc did not improve from 0.63777\n",
      "334/334 [==============================] - 147s 440ms/step - loss: 0.6152 - acc: 0.6517 - val_loss: 0.6387 - val_acc: 0.6258\n",
      "Epoch 94/100\n",
      "334/334 [==============================] - ETA: 0s - loss: 0.6152 - acc: 0.6531\n",
      "Epoch 00094: val_acc did not improve from 0.63777\n",
      "334/334 [==============================] - 109s 327ms/step - loss: 0.6152 - acc: 0.6531 - val_loss: 0.6372 - val_acc: 0.6342\n",
      "Epoch 95/100\n",
      "334/334 [==============================] - ETA: 0s - loss: 0.6142 - acc: 0.6586\n",
      "Epoch 00095: val_acc did not improve from 0.63777\n",
      "334/334 [==============================] - 109s 327ms/step - loss: 0.6142 - acc: 0.6586 - val_loss: 0.6375 - val_acc: 0.6286\n",
      "Epoch 96/100\n",
      "334/334 [==============================] - ETA: 0s - loss: 0.6138 - acc: 0.6542\n",
      "Epoch 00096: val_acc did not improve from 0.63777\n",
      "334/334 [==============================] - 109s 327ms/step - loss: 0.6138 - acc: 0.6542 - val_loss: 0.6363 - val_acc: 0.6350\n",
      "Epoch 97/100\n",
      "334/334 [==============================] - ETA: 0s - loss: 0.6143 - acc: 0.6524\n",
      "Epoch 00097: val_acc did not improve from 0.63777\n",
      "334/334 [==============================] - 109s 327ms/step - loss: 0.6143 - acc: 0.6524 - val_loss: 0.6363 - val_acc: 0.6342\n",
      "Epoch 98/100\n",
      "334/334 [==============================] - ETA: 0s - loss: 0.6132 - acc: 0.6582\n",
      "Epoch 00098: val_acc improved from 0.63777 to 0.63989, saving model to .\\best_model2.h5\n",
      "334/334 [==============================] - 109s 327ms/step - loss: 0.6132 - acc: 0.6582 - val_loss: 0.6362 - val_acc: 0.6399\n",
      "Epoch 99/100\n",
      "334/334 [==============================] - ETA: 0s - loss: 0.6119 - acc: 0.6596\n",
      "Epoch 00099: val_acc did not improve from 0.63989\n",
      "334/334 [==============================] - 109s 328ms/step - loss: 0.6119 - acc: 0.6596 - val_loss: 0.6391 - val_acc: 0.6321\n",
      "Epoch 100/100\n",
      "334/334 [==============================] - ETA: 0s - loss: 0.6120 - acc: 0.6566\n",
      "Epoch 00100: val_acc did not improve from 0.63989\n",
      "334/334 [==============================] - 114s 341ms/step - loss: 0.6120 - acc: 0.6566 - val_loss: 0.6349 - val_acc: 0.6357\n"
     ]
    }
   ],
   "source": [
    "history = model.fit(X_train_2d, Y_train_norm,\n",
    "          batch_size=17,\n",
    "          epochs=100,\n",
    "          verbose=1,\n",
    "          shuffle=True,\n",
    "          validation_data=(X_test_2d, Y_test_norm), callbacks=[checkpoint])"
   ]
  },
  {
   "cell_type": "code",
   "execution_count": 25,
   "metadata": {},
   "outputs": [
    {
     "data": {
      "image/png": "[encoded data removed]",
      "text/plain": [
       "<Figure size 432x288 with 1 Axes>"
      ]
     },
     "metadata": {
      "needs_background": "light"
     },
     "output_type": "display_data"
    },
    {
     "data": {
      "image/png": "[encoded data removed]",
      "text/plain": [
       "<Figure size 432x288 with 1 Axes>"
      ]
     },
     "metadata": {
      "needs_background": "light"
     },
     "output_type": "display_data"
    }
   ],
   "source": [
    "plt.plot(history.history['acc'])\n",
    "plt.plot(history.history['val_acc'])\n",
    "plt.title('model accuracy')\n",
    "plt.ylabel('acc')\n",
    "plt.xlabel('epoch')\n",
    "plt.legend(['train', 'test'], loc='upper left')\n",
    "plt.show()\n",
    "\n",
    "plt.plot(history.history['loss'])\n",
    "plt.plot(history.history['val_loss'])\n",
    "plt.title('model loss')\n",
    "plt.ylabel('loss')\n",
    "plt.xlabel('epoch')\n",
    "plt.legend(['train', 'test'], loc='upper left')\n",
    "plt.show()"
   ]
  },
  {
   "cell_type": "markdown",
   "metadata": {},
   "source": [
    "The model seems to underfit. Test accuracy increases well till the 40th epoch but then starts to stagger, whereas the accuracy on the training data continues to improve. The model loss decreases gradually both for training and test data, meaning that further training might minimize loss further."
   ]
  },
  {
   "cell_type": "code",
   "execution_count": 26,
   "metadata": {},
   "outputs": [
    {
     "name": "stdout",
     "output_type": "stream",
     "text": [
      "45/45 [==============================] - 4s 94ms/step - loss: 0.6349 - acc: 0.6357\n",
      "Val accuracy=0.6349347233772278  val loss=0.6356589198112488\n"
     ]
    }
   ],
   "source": [
    "accuracy, loss = model.evaluate(X_test_2d, Y_test_norm)\n",
    "print(f\"Val accuracy={accuracy}  val loss={loss}\")"
   ]
  },
  {
   "cell_type": "code",
   "execution_count": 27,
   "metadata": {},
   "outputs": [
    {
     "data": {
      "text/plain": [
       "array([[212, 366],\n",
       "       [151, 690]], dtype=int64)"
      ]
     },
     "execution_count": 27,
     "metadata": {},
     "output_type": "execute_result"
    }
   ],
   "source": [
    "y_predicted =  model.predict(X_test_2d)\n",
    "\n",
    "confusion_matr = confusion_matrix(Y_test_norm, np.round(model.predict(X_test_2d)))\n",
    "confusion_matr"
   ]
  },
  {
   "cell_type": "code",
   "execution_count": 28,
   "metadata": {},
   "outputs": [
    {
     "name": "stdout",
     "output_type": "stream",
     "text": [
      "True positive schizophrenic(1):  212 \n",
      " False positive schizophrenic(1): 366 \n",
      " False positive control(0): 151 \n",
      " True positive control(0): 690 \n",
      "\n"
     ]
    }
   ],
   "source": [
    "print(\n",
    "  \"True negative control(0): \", confusion_matr[0, 0], \"\\n\",\n",
    "  \"False negative control(0):\", confusion_matr[0, 1], \"\\n\",\n",
    "  \"False positive schizophrenic(1):\", confusion_matr[1, 0], \"\\n\",\n",
    "  \"True positive schizophrenic(1):\", confusion_matr[1, 1], \"\\n\"    \n",
    ")"
   ]
  },
  {
   "cell_type": "code",
   "execution_count": 29,
   "metadata": {},
   "outputs": [
    {
     "data": {
      "text/plain": [
       "(212, 366, 151, 690)"
      ]
     },
     "execution_count": 29,
     "metadata": {},
     "output_type": "execute_result"
    }
   ],
   "source": [
    "TN = confusion_matr[0, 0]\n",
    "FN = confusion_matr[0, 1]\n",
    "FP = confusion_matr[1, 0]\n",
    "TP = confusion_matr[1, 1]\n",
    "TP, FP, FN, TN"
   ]
  },
  {
   "cell_type": "code",
   "execution_count": 30,
   "metadata": {},
   "outputs": [
    {
     "data": {
      "text/plain": [
       "0.5840220385674931"
      ]
     },
     "execution_count": 30,
     "metadata": {},
     "output_type": "execute_result"
    }
   ],
   "source": [
    "sensitivity = TP / (TP + FN)\n",
    "sensitivity"
   ]
  },
  {
   "cell_type": "code",
   "execution_count": 31,
   "metadata": {},
   "outputs": [
    {
     "data": {
      "text/plain": [
       "0.6534090909090909"
      ]
     },
     "execution_count": 31,
     "metadata": {},
     "output_type": "execute_result"
    }
   ],
   "source": [
    "specificity = TN / (TN + FP)\n",
    "specificity"
   ]
  },
  {
   "cell_type": "markdown",
   "metadata": {},
   "source": [
    "### **Model 1**\n",
    "\n",
    "Accuracy: **63.5%%** <br>\n",
    "Sensitivity: **58.4%** <br>\n",
    "Specificity: **65.3%** <br>\n",
    "\n",
    "The first model classifies 63,5% of the trials correctly. Sensitivity and specificity lie around 58,4% and 65,3%, meaning that the model is not very accurate yet and performs slightly better than guessing randomly. The reason for this is that the model could not learn the predicting patterns correctly and could not depict the complexity behind the differences in the brainwave data of schizophrenic and healthy subjects."
   ]
  },
  {
   "cell_type": "markdown",
   "metadata": {},
   "source": [
    "### 2nd Model"
   ]
  },
  {
   "cell_type": "code",
   "execution_count": 32,
   "metadata": {},
   "outputs": [],
   "source": [
    "X_train, X_test, Y_train, Y_test = train_test_split(X, Y, test_size=0.2, shuffle=True, random_state=42)"
   ]
  },
  {
   "cell_type": "code",
   "execution_count": 34,
   "metadata": {},
   "outputs": [],
   "source": [
    "filepath=\"./best_model2.h5\"\n",
    "checkpoint = ModelCheckpoint(filepath, monitor='val_acc', verbose=1, save_best_only=True, mode='max')\n",
    "\n",
    "model_2 = Sequential()\n",
    "model_2.add(Dense(5000,\n",
    "                  activation='relu',\n",
    "                  input_shape=(X_train.shape[1:])))\n",
    " \n",
    "\n",
    "\n",
    "model_2.add(Dense(1, activation='sigmoid'))\n",
    "\n",
    "model_2.compile(loss=keras.losses.binary_crossentropy,\n",
    "               optimizer=tf.keras.optimizers.Adam(),\n",
    "               metrics=['acc'])"
   ]
  },
  {
   "cell_type": "code",
   "execution_count": 35,
   "metadata": {},
   "outputs": [
    {
     "name": "stdout",
     "output_type": "stream",
     "text": [
      "Epoch 1/100\n",
      "334/334 [==============================] - ETA: 0s - loss: 161.5089 - acc: 0.5628\n",
      "Epoch 00001: val_acc improved from -inf to 0.55673, saving model to ./working\\best_model2.h5\n",
      "334/334 [==============================] - 503s 2s/step - loss: 161.5089 - acc: 0.5628 - val_loss: 49.0847 - val_acc: 0.5567\n",
      "Epoch 2/100\n",
      "334/334 [==============================] - ETA: 0s - loss: 68.5085 - acc: 0.6138\n",
      "Epoch 00002: val_acc improved from 0.55673 to 0.62156, saving model to ./working\\best_model2.h5\n",
      "334/334 [==============================] - 454s 1s/step - loss: 68.5085 - acc: 0.6138 - val_loss: 56.0582 - val_acc: 0.6216\n",
      "Epoch 3/100\n",
      "334/334 [==============================] - ETA: 0s - loss: 96.8944 - acc: 0.6568\n",
      "Epoch 00003: val_acc did not improve from 0.62156\n",
      "334/334 [==============================] - 477s 1s/step - loss: 96.8944 - acc: 0.6568 - val_loss: 90.3738 - val_acc: 0.6039\n",
      "Epoch 4/100\n",
      "334/334 [==============================] - ETA: 0s - loss: 135.6147 - acc: 0.6778\n",
      "Epoch 00004: val_acc did not improve from 0.62156\n",
      "334/334 [==============================] - 456s 1s/step - loss: 135.6147 - acc: 0.6778 - val_loss: 209.2756 - val_acc: 0.6068\n",
      "Epoch 5/100\n",
      "334/334 [==============================] - ETA: 0s - loss: 168.5553 - acc: 0.7086\n",
      "Epoch 00005: val_acc did not improve from 0.62156\n",
      "334/334 [==============================] - 456s 1s/step - loss: 168.5553 - acc: 0.7086 - val_loss: 250.1366 - val_acc: 0.5976\n",
      "Epoch 6/100\n",
      "334/334 [==============================] - ETA: 0s - loss: 114.4721 - acc: 0.7802\n",
      "Epoch 00006: val_acc did not improve from 0.62156\n",
      "334/334 [==============================] - 412s 1s/step - loss: 114.4721 - acc: 0.7802 - val_loss: 270.6427 - val_acc: 0.5962\n",
      "Epoch 7/100\n",
      "334/334 [==============================] - ETA: 0s - loss: 103.0005 - acc: 0.8216\n",
      "Epoch 00007: val_acc improved from 0.62156 to 0.63284, saving model to ./working\\best_model2.h5\n",
      "334/334 [==============================] - 415s 1s/step - loss: 103.0005 - acc: 0.8216 - val_loss: 277.4637 - val_acc: 0.6328\n",
      "Epoch 8/100\n",
      "334/334 [==============================] - ETA: 0s - loss: 72.1510 - acc: 0.8606\n",
      "Epoch 00008: val_acc improved from 0.63284 to 0.63495, saving model to ./working\\best_model2.h5\n",
      "334/334 [==============================] - 426s 1s/step - loss: 72.1510 - acc: 0.8606 - val_loss: 308.3002 - val_acc: 0.6350\n",
      "Epoch 9/100\n",
      "334/334 [==============================] - ETA: 0s - loss: 54.0363 - acc: 0.8941\n",
      "Epoch 00009: val_acc improved from 0.63495 to 0.63918, saving model to ./working\\best_model2.h5\n",
      "334/334 [==============================] - 441s 1s/step - loss: 54.0363 - acc: 0.8941 - val_loss: 510.3737 - val_acc: 0.6392\n",
      "Epoch 10/100\n",
      "334/334 [==============================] - ETA: 0s - loss: 65.4292 - acc: 0.8990\n",
      "Epoch 00010: val_acc improved from 0.63918 to 0.65610, saving model to ./working\\best_model2.h5\n",
      "334/334 [==============================] - 465s 1s/step - loss: 65.4292 - acc: 0.8990 - val_loss: 542.3848 - val_acc: 0.6561\n",
      "Epoch 11/100\n",
      "334/334 [==============================] - ETA: 0s - loss: 44.8624 - acc: 0.9179\n",
      "Epoch 00011: val_acc did not improve from 0.65610\n",
      "334/334 [==============================] - 446s 1s/step - loss: 44.8624 - acc: 0.9179 - val_loss: 473.4312 - val_acc: 0.6244\n",
      "Epoch 12/100\n",
      "334/334 [==============================] - ETA: 0s - loss: 111.6284 - acc: 0.8965\n",
      "Epoch 00012: val_acc did not improve from 0.65610\n",
      "334/334 [==============================] - 434s 1s/step - loss: 111.6284 - acc: 0.8965 - val_loss: 759.9597 - val_acc: 0.6364\n",
      "Epoch 13/100\n",
      "334/334 [==============================] - ETA: 0s - loss: 70.7887 - acc: 0.9203\n",
      "Epoch 00013: val_acc did not improve from 0.65610\n",
      "334/334 [==============================] - 430s 1s/step - loss: 70.7887 - acc: 0.9203 - val_loss: 676.4894 - val_acc: 0.6505\n",
      "Epoch 14/100\n",
      "334/334 [==============================] - ETA: 0s - loss: 48.0946 - acc: 0.9409\n",
      "Epoch 00014: val_acc did not improve from 0.65610\n",
      "334/334 [==============================] - 408s 1s/step - loss: 48.0946 - acc: 0.9409 - val_loss: 873.5927 - val_acc: 0.6554\n",
      "Epoch 15/100\n",
      "334/334 [==============================] - ETA: 0s - loss: 29.5752 - acc: 0.9579\n",
      "Epoch 00015: val_acc improved from 0.65610 to 0.65680, saving model to ./working\\best_model2.h5\n",
      "334/334 [==============================] - 420s 1s/step - loss: 29.5752 - acc: 0.9579 - val_loss: 642.7339 - val_acc: 0.6568\n",
      "Epoch 16/100\n",
      "334/334 [==============================] - ETA: 0s - loss: 36.1553 - acc: 0.9570\n",
      "Epoch 00016: val_acc improved from 0.65680 to 0.66173, saving model to ./working\\best_model2.h5\n",
      "334/334 [==============================] - 440s 1s/step - loss: 36.1553 - acc: 0.9570 - val_loss: 747.4289 - val_acc: 0.6617\n",
      "Epoch 17/100\n",
      "334/334 [==============================] - ETA: 0s - loss: 17.2838 - acc: 0.9744\n",
      "Epoch 00017: val_acc did not improve from 0.66173\n",
      "334/334 [==============================] - 439s 1s/step - loss: 17.2838 - acc: 0.9744 - val_loss: 812.6332 - val_acc: 0.6406\n",
      "Epoch 18/100\n",
      "334/334 [==============================] - ETA: 0s - loss: 79.0706 - acc: 0.9424\n",
      "Epoch 00018: val_acc did not improve from 0.66173\n",
      "334/334 [==============================] - 435s 1s/step - loss: 79.0706 - acc: 0.9424 - val_loss: 967.7534 - val_acc: 0.6307\n",
      "Epoch 19/100\n",
      "334/334 [==============================] - ETA: 0s - loss: 67.0741 - acc: 0.9457\n",
      "Epoch 00019: val_acc improved from 0.66173 to 0.67935, saving model to ./working\\best_model2.h5\n",
      "334/334 [==============================] - 446s 1s/step - loss: 67.0741 - acc: 0.9457 - val_loss: 959.6979 - val_acc: 0.6794\n",
      "Epoch 20/100\n",
      "334/334 [==============================] - ETA: 0s - loss: 39.5841 - acc: 0.9670\n",
      "Epoch 00020: val_acc did not improve from 0.67935\n",
      "334/334 [==============================] - 414s 1s/step - loss: 39.5841 - acc: 0.9670 - val_loss: 1171.2194 - val_acc: 0.6653\n",
      "Epoch 21/100\n",
      "334/334 [==============================] - ETA: 0s - loss: 32.4447 - acc: 0.9709\n",
      "Epoch 00021: val_acc did not improve from 0.67935\n",
      "334/334 [==============================] - 406s 1s/step - loss: 32.4447 - acc: 0.9709 - val_loss: 1239.2749 - val_acc: 0.6342\n",
      "Epoch 22/100\n",
      "334/334 [==============================] - ETA: 0s - loss: 74.0685 - acc: 0.9551\n",
      "Epoch 00022: val_acc did not improve from 0.67935\n",
      "334/334 [==============================] - 406s 1s/step - loss: 74.0685 - acc: 0.9551 - val_loss: 1259.7922 - val_acc: 0.6434\n",
      "Epoch 23/100\n",
      "334/334 [==============================] - ETA: 0s - loss: 66.3259 - acc: 0.9626\n",
      "Epoch 00023: val_acc did not improve from 0.67935\n",
      "334/334 [==============================] - 406s 1s/step - loss: 66.3259 - acc: 0.9626 - val_loss: 1553.5482 - val_acc: 0.6575\n",
      "Epoch 24/100\n",
      "334/334 [==============================] - ETA: 0s - loss: 68.3442 - acc: 0.9605\n",
      "Epoch 00024: val_acc did not improve from 0.67935\n",
      "334/334 [==============================] - 406s 1s/step - loss: 68.3442 - acc: 0.9605 - val_loss: 1597.8087 - val_acc: 0.6469\n",
      "Epoch 25/100\n",
      "334/334 [==============================] - ETA: 0s - loss: 25.8541 - acc: 0.9818\n",
      "Epoch 00025: val_acc did not improve from 0.67935\n",
      "334/334 [==============================] - 415s 1s/step - loss: 25.8541 - acc: 0.9818 - val_loss: 1531.9868 - val_acc: 0.6709\n",
      "Epoch 26/100\n",
      "334/334 [==============================] - ETA: 0s - loss: 32.7929 - acc: 0.9870\n",
      "Epoch 00026: val_acc did not improve from 0.67935\n",
      "334/334 [==============================] - 396s 1s/step - loss: 32.7929 - acc: 0.9870 - val_loss: 1857.2870 - val_acc: 0.6328\n",
      "Epoch 27/100\n",
      "334/334 [==============================] - ETA: 0s - loss: 95.1893 - acc: 0.9584\n",
      "Epoch 00027: val_acc did not improve from 0.67935\n",
      "334/334 [==============================] - 396s 1s/step - loss: 95.1893 - acc: 0.9584 - val_loss: 1551.2405 - val_acc: 0.6631\n",
      "Epoch 28/100\n",
      "334/334 [==============================] - ETA: 0s - loss: 29.4306 - acc: 0.9808\n",
      "Epoch 00028: val_acc did not improve from 0.67935\n",
      "334/334 [==============================] - 394s 1s/step - loss: 29.4306 - acc: 0.9808 - val_loss: 1875.7454 - val_acc: 0.6554\n",
      "Epoch 29/100\n",
      "334/334 [==============================] - ETA: 0s - loss: 53.4621 - acc: 0.9757\n",
      "Epoch 00029: val_acc did not improve from 0.67935\n",
      "334/334 [==============================] - 393s 1s/step - loss: 53.4621 - acc: 0.9757 - val_loss: 1701.8322 - val_acc: 0.6786\n",
      "Epoch 30/100\n",
      "334/334 [==============================] - ETA: 0s - loss: 28.2299 - acc: 0.9827\n",
      "Epoch 00030: val_acc did not improve from 0.67935\n",
      "334/334 [==============================] - 396s 1s/step - loss: 28.2299 - acc: 0.9827 - val_loss: 1895.7944 - val_acc: 0.6674\n",
      "Epoch 31/100\n",
      "334/334 [==============================] - ETA: 0s - loss: 134.4808 - acc: 0.9669\n",
      "Epoch 00031: val_acc did not improve from 0.67935\n",
      "334/334 [==============================] - 396s 1s/step - loss: 134.4808 - acc: 0.9669 - val_loss: 2031.9730 - val_acc: 0.6526\n",
      "Epoch 32/100\n",
      "334/334 [==============================] - ETA: 0s - loss: 38.9194 - acc: 0.9836\n",
      "Epoch 00032: val_acc improved from 0.67935 to 0.68358, saving model to ./working\\best_model2.h5\n",
      "334/334 [==============================] - 403s 1s/step - loss: 38.9194 - acc: 0.9836 - val_loss: 1909.6880 - val_acc: 0.6836\n",
      "Epoch 33/100\n",
      "334/334 [==============================] - ETA: 0s - loss: 9.1320 - acc: 0.9910\n",
      "Epoch 00033: val_acc did not improve from 0.68358\n",
      "334/334 [==============================] - 392s 1s/step - loss: 9.1320 - acc: 0.9910 - val_loss: 2433.4475 - val_acc: 0.6681\n",
      "Epoch 34/100\n",
      "334/334 [==============================] - ETA: 0s - loss: 26.5227 - acc: 0.9840\n",
      "Epoch 00034: val_acc did not improve from 0.68358\n",
      "334/334 [==============================] - 391s 1s/step - loss: 26.5227 - acc: 0.9840 - val_loss: 1991.0273 - val_acc: 0.6674\n",
      "Epoch 35/100\n",
      "334/334 [==============================] - ETA: 0s - loss: 21.9647 - acc: 0.9864\n",
      "Epoch 00035: val_acc did not improve from 0.68358\n",
      "334/334 [==============================] - 399s 1s/step - loss: 21.9647 - acc: 0.9864 - val_loss: 2046.5345 - val_acc: 0.6815\n",
      "Epoch 36/100\n",
      "334/334 [==============================] - ETA: 0s - loss: 13.2543 - acc: 0.9915\n",
      "Epoch 00036: val_acc did not improve from 0.68358\n",
      "334/334 [==============================] - 401s 1s/step - loss: 13.2543 - acc: 0.9915 - val_loss: 2189.3586 - val_acc: 0.6589\n",
      "Epoch 37/100\n",
      "334/334 [==============================] - ETA: 0s - loss: 15.8980 - acc: 0.9889\n",
      "Epoch 00037: val_acc did not improve from 0.68358\n",
      "334/334 [==============================] - 401s 1s/step - loss: 15.8980 - acc: 0.9889 - val_loss: 2353.8567 - val_acc: 0.6702\n",
      "Epoch 38/100\n",
      "334/334 [==============================] - ETA: 0s - loss: 9.5273 - acc: 0.9926\n",
      "Epoch 00038: val_acc did not improve from 0.68358\n",
      "334/334 [==============================] - 397s 1s/step - loss: 9.5273 - acc: 0.9926 - val_loss: 2462.7375 - val_acc: 0.6617\n",
      "Epoch 39/100\n",
      "334/334 [==============================] - ETA: 0s - loss: 92.4071 - acc: 0.9709\n",
      "Epoch 00039: val_acc did not improve from 0.68358\n",
      "334/334 [==============================] - 396s 1s/step - loss: 92.4071 - acc: 0.9709 - val_loss: 3178.1162 - val_acc: 0.6815\n",
      "Epoch 40/100\n",
      "334/334 [==============================] - ETA: 0s - loss: 103.9384 - acc: 0.9716\n",
      "Epoch 00040: val_acc did not improve from 0.68358\n",
      "334/334 [==============================] - 397s 1s/step - loss: 103.9384 - acc: 0.9716 - val_loss: 3266.0547 - val_acc: 0.6420\n",
      "Epoch 41/100\n",
      "334/334 [==============================] - ETA: 0s - loss: 102.7581 - acc: 0.9741\n",
      "Epoch 00041: val_acc did not improve from 0.68358\n",
      "334/334 [==============================] - 396s 1s/step - loss: 102.7581 - acc: 0.9741 - val_loss: 2893.4558 - val_acc: 0.6617\n",
      "Epoch 42/100\n",
      "334/334 [==============================] - ETA: 0s - loss: 22.7474 - acc: 0.9889\n",
      "Epoch 00042: val_acc did not improve from 0.68358\n",
      "334/334 [==============================] - 395s 1s/step - loss: 22.7474 - acc: 0.9889 - val_loss: 3662.3911 - val_acc: 0.6603\n",
      "Epoch 43/100\n",
      "334/334 [==============================] - ETA: 0s - loss: 21.1201 - acc: 0.9898\n",
      "Epoch 00043: val_acc did not improve from 0.68358\n",
      "334/334 [==============================] - 397s 1s/step - loss: 21.1201 - acc: 0.9898 - val_loss: 2860.5793 - val_acc: 0.6779\n",
      "Epoch 44/100\n",
      "334/334 [==============================] - ETA: 0s - loss: 16.9866 - acc: 0.9933\n",
      "Epoch 00044: val_acc did not improve from 0.68358\n",
      "334/334 [==============================] - 396s 1s/step - loss: 16.9866 - acc: 0.9933 - val_loss: 2733.9902 - val_acc: 0.6808\n",
      "Epoch 45/100\n",
      "334/334 [==============================] - ETA: 0s - loss: 5.1629 - acc: 0.9958\n",
      "Epoch 00045: val_acc did not improve from 0.68358\n",
      "334/334 [==============================] - 392s 1s/step - loss: 5.1629 - acc: 0.9958 - val_loss: 2734.1345 - val_acc: 0.6702\n",
      "Epoch 46/100\n",
      "334/334 [==============================] - ETA: 0s - loss: 52.1972 - acc: 0.9825\n",
      "Epoch 00046: val_acc did not improve from 0.68358\n",
      "334/334 [==============================] - 394s 1s/step - loss: 52.1972 - acc: 0.9825 - val_loss: 3237.4492 - val_acc: 0.6596\n",
      "Epoch 47/100\n",
      "334/334 [==============================] - ETA: 0s - loss: 62.5357 - acc: 0.9794\n",
      "Epoch 00047: val_acc did not improve from 0.68358\n",
      "334/334 [==============================] - 393s 1s/step - loss: 62.5357 - acc: 0.9794 - val_loss: 3531.1409 - val_acc: 0.6526\n",
      "Epoch 48/100\n",
      "334/334 [==============================] - ETA: 0s - loss: 91.4067 - acc: 0.9788\n",
      "Epoch 00048: val_acc did not improve from 0.68358\n",
      "334/334 [==============================] - 394s 1s/step - loss: 91.4067 - acc: 0.9788 - val_loss: 3389.9690 - val_acc: 0.6709\n",
      "Epoch 49/100\n",
      "334/334 [==============================] - ETA: 0s - loss: 63.4490 - acc: 0.9820\n",
      "Epoch 00049: val_acc did not improve from 0.68358\n",
      "334/334 [==============================] - 393s 1s/step - loss: 63.4490 - acc: 0.9820 - val_loss: 3452.1909 - val_acc: 0.6751\n",
      "Epoch 50/100\n",
      "334/334 [==============================] - ETA: 0s - loss: 7.7035 - acc: 0.9945\n",
      "Epoch 00050: val_acc did not improve from 0.68358\n",
      "334/334 [==============================] - 392s 1s/step - loss: 7.7035 - acc: 0.9945 - val_loss: 3391.9700 - val_acc: 0.6772\n",
      "Epoch 51/100\n",
      "334/334 [==============================] - ETA: 0s - loss: 45.0334 - acc: 0.9908\n",
      "Epoch 00051: val_acc did not improve from 0.68358\n",
      "334/334 [==============================] - 398s 1s/step - loss: 45.0334 - acc: 0.9908 - val_loss: 3876.1660 - val_acc: 0.6476\n",
      "Epoch 52/100\n",
      "334/334 [==============================] - ETA: 0s - loss: 31.4741 - acc: 0.9894\n",
      "Epoch 00052: val_acc did not improve from 0.68358\n",
      "334/334 [==============================] - 397s 1s/step - loss: 31.4741 - acc: 0.9894 - val_loss: 3333.3218 - val_acc: 0.6561\n",
      "Epoch 53/100\n",
      "334/334 [==============================] - ETA: 0s - loss: 23.1380 - acc: 0.9935\n",
      "Epoch 00053: val_acc did not improve from 0.68358\n",
      "334/334 [==============================] - 393s 1s/step - loss: 23.1380 - acc: 0.9935 - val_loss: 3448.2185 - val_acc: 0.6751\n",
      "Epoch 54/100\n",
      "334/334 [==============================] - ETA: 0s - loss: 2.9729 - acc: 0.9984\n",
      "Epoch 00054: val_acc did not improve from 0.68358\n",
      "334/334 [==============================] - 392s 1s/step - loss: 2.9729 - acc: 0.9984 - val_loss: 3201.7642 - val_acc: 0.6779\n",
      "Epoch 55/100\n",
      "334/334 [==============================] - ETA: 0s - loss: 2.0781 - acc: 0.9995\n",
      "Epoch 00055: val_acc did not improve from 0.68358\n",
      "334/334 [==============================] - 392s 1s/step - loss: 2.0781 - acc: 0.9995 - val_loss: 3193.6008 - val_acc: 0.6794\n",
      "Epoch 56/100\n",
      "334/334 [==============================] - ETA: 0s - loss: 221.8436 - acc: 0.9633\n",
      "Epoch 00056: val_acc did not improve from 0.68358\n",
      "334/334 [==============================] - 395s 1s/step - loss: 221.8436 - acc: 0.9633 - val_loss: 4693.6011 - val_acc: 0.6582\n",
      "Epoch 57/100\n",
      "334/334 [==============================] - ETA: 0s - loss: 58.8785 - acc: 0.9840\n",
      "Epoch 00057: val_acc did not improve from 0.68358\n",
      "334/334 [==============================] - 395s 1s/step - loss: 58.8785 - acc: 0.9840 - val_loss: 4374.2241 - val_acc: 0.6786\n",
      "Epoch 58/100\n",
      "334/334 [==============================] - ETA: 0s - loss: 31.7283 - acc: 0.9884\n",
      "Epoch 00058: val_acc did not improve from 0.68358\n",
      "334/334 [==============================] - 393s 1s/step - loss: 31.7283 - acc: 0.9884 - val_loss: 3737.2781 - val_acc: 0.6730\n",
      "Epoch 59/100\n",
      "334/334 [==============================] - ETA: 0s - loss: 29.9651 - acc: 0.9908\n",
      "Epoch 00059: val_acc did not improve from 0.68358\n",
      "334/334 [==============================] - 392s 1s/step - loss: 29.9651 - acc: 0.9908 - val_loss: 4386.5898 - val_acc: 0.6688\n",
      "Epoch 60/100\n",
      "334/334 [==============================] - ETA: 0s - loss: 12.5982 - acc: 0.9947\n",
      "Epoch 00060: val_acc did not improve from 0.68358\n",
      "334/334 [==============================] - 394s 1s/step - loss: 12.5982 - acc: 0.9947 - val_loss: 4827.9673 - val_acc: 0.6808\n",
      "Epoch 61/100\n",
      "334/334 [==============================] - ETA: 0s - loss: 19.8426 - acc: 0.9931\n",
      "Epoch 00061: val_acc improved from 0.68358 to 0.68428, saving model to ./working\\best_model2.h5\n",
      "334/334 [==============================] - 400s 1s/step - loss: 19.8426 - acc: 0.9931 - val_loss: 4320.5928 - val_acc: 0.6843\n",
      "Epoch 62/100\n",
      "334/334 [==============================] - ETA: 0s - loss: 8.7936 - acc: 0.9949\n",
      "Epoch 00062: val_acc did not improve from 0.68428\n",
      "334/334 [==============================] - 389s 1s/step - loss: 8.7936 - acc: 0.9949 - val_loss: 4178.2935 - val_acc: 0.6836\n",
      "Epoch 63/100\n",
      "334/334 [==============================] - ETA: 0s - loss: 4.2403 - acc: 0.9981\n",
      "Epoch 00063: val_acc did not improve from 0.68428\n",
      "334/334 [==============================] - 389s 1s/step - loss: 4.2403 - acc: 0.9981 - val_loss: 3985.9587 - val_acc: 0.6843\n",
      "Epoch 64/100\n",
      "334/334 [==============================] - ETA: 0s - loss: 2.0111 - acc: 0.9986\n",
      "Epoch 00064: val_acc improved from 0.68428 to 0.68781, saving model to ./working\\best_model2.h5\n",
      "334/334 [==============================] - 398s 1s/step - loss: 2.0111 - acc: 0.9986 - val_loss: 4018.2454 - val_acc: 0.6878\n",
      "Epoch 65/100\n",
      "334/334 [==============================] - ETA: 0s - loss: 2.3971 - acc: 0.9986\n",
      "Epoch 00065: val_acc did not improve from 0.68781\n",
      "334/334 [==============================] - 391s 1s/step - loss: 2.3971 - acc: 0.9986 - val_loss: 4152.6011 - val_acc: 0.6646\n",
      "Epoch 66/100\n",
      "334/334 [==============================] - ETA: 0s - loss: 117.3124 - acc: 0.9808\n",
      "Epoch 00066: val_acc did not improve from 0.68781\n",
      "334/334 [==============================] - 393s 1s/step - loss: 117.3124 - acc: 0.9808 - val_loss: 4653.8389 - val_acc: 0.6744\n",
      "Epoch 67/100\n",
      "334/334 [==============================] - ETA: 0s - loss: 65.6285 - acc: 0.9852\n",
      "Epoch 00067: val_acc did not improve from 0.68781\n",
      "334/334 [==============================] - 392s 1s/step - loss: 65.6285 - acc: 0.9852 - val_loss: 4673.5166 - val_acc: 0.6603\n",
      "Epoch 68/100\n",
      "334/334 [==============================] - ETA: 0s - loss: 104.4840 - acc: 0.9801\n",
      "Epoch 00068: val_acc did not improve from 0.68781\n",
      "334/334 [==============================] - 393s 1s/step - loss: 104.4840 - acc: 0.9801 - val_loss: 5364.8252 - val_acc: 0.6610\n",
      "Epoch 69/100\n",
      "334/334 [==============================] - ETA: 0s - loss: 15.3409 - acc: 0.9952\n",
      "Epoch 00069: val_acc did not improve from 0.68781\n",
      "334/334 [==============================] - 391s 1s/step - loss: 15.3409 - acc: 0.9952 - val_loss: 4684.4097 - val_acc: 0.6737\n",
      "Epoch 70/100\n",
      "334/334 [==============================] - ETA: 0s - loss: 41.9344 - acc: 0.9908\n",
      "Epoch 00070: val_acc did not improve from 0.68781\n",
      "334/334 [==============================] - 392s 1s/step - loss: 41.9344 - acc: 0.9908 - val_loss: 4975.0029 - val_acc: 0.6695\n",
      "Epoch 71/100\n",
      "334/334 [==============================] - ETA: 0s - loss: 8.6591 - acc: 0.9972\n",
      "Epoch 00071: val_acc did not improve from 0.68781\n",
      "334/334 [==============================] - 391s 1s/step - loss: 8.6591 - acc: 0.9972 - val_loss: 4886.9321 - val_acc: 0.6730\n",
      "Epoch 72/100\n",
      "334/334 [==============================] - ETA: 0s - loss: 9.8048 - acc: 0.9967\n",
      "Epoch 00072: val_acc did not improve from 0.68781\n",
      "334/334 [==============================] - 393s 1s/step - loss: 9.8048 - acc: 0.9967 - val_loss: 5370.4780 - val_acc: 0.6794\n",
      "Epoch 73/100\n",
      "334/334 [==============================] - ETA: 0s - loss: 5.3721 - acc: 0.9975\n",
      "Epoch 00073: val_acc did not improve from 0.68781\n",
      "334/334 [==============================] - 391s 1s/step - loss: 5.3721 - acc: 0.9975 - val_loss: 4964.0322 - val_acc: 0.6702\n",
      "Epoch 74/100\n",
      "334/334 [==============================] - ETA: 0s - loss: 90.1367 - acc: 0.9861\n",
      "Epoch 00074: val_acc did not improve from 0.68781\n",
      "334/334 [==============================] - 393s 1s/step - loss: 90.1367 - acc: 0.9861 - val_loss: 5348.9688 - val_acc: 0.6765\n",
      "Epoch 75/100\n",
      "334/334 [==============================] - ETA: 0s - loss: 41.9056 - acc: 0.9926\n",
      "Epoch 00075: val_acc did not improve from 0.68781\n",
      "334/334 [==============================] - 392s 1s/step - loss: 41.9056 - acc: 0.9926 - val_loss: 6104.3228 - val_acc: 0.6667\n",
      "Epoch 76/100\n",
      "334/334 [==============================] - ETA: 0s - loss: 128.6117 - acc: 0.9854\n",
      "Epoch 00076: val_acc did not improve from 0.68781\n",
      "334/334 [==============================] - 393s 1s/step - loss: 128.6117 - acc: 0.9854 - val_loss: 5475.7881 - val_acc: 0.6730\n",
      "Epoch 77/100\n",
      "334/334 [==============================] - ETA: 0s - loss: 30.3622 - acc: 0.9921\n",
      "Epoch 00077: val_acc did not improve from 0.68781\n",
      "334/334 [==============================] - 394s 1s/step - loss: 30.3622 - acc: 0.9921 - val_loss: 5895.6001 - val_acc: 0.6674\n",
      "Epoch 78/100\n",
      "334/334 [==============================] - ETA: 0s - loss: 25.7998 - acc: 0.9938\n",
      "Epoch 00078: val_acc did not improve from 0.68781\n",
      "334/334 [==============================] - 394s 1s/step - loss: 25.7998 - acc: 0.9938 - val_loss: 5758.9292 - val_acc: 0.6575\n",
      "Epoch 79/100\n",
      "334/334 [==============================] - ETA: 0s - loss: 10.0713 - acc: 0.9974\n",
      "Epoch 00079: val_acc did not improve from 0.68781\n",
      "334/334 [==============================] - 394s 1s/step - loss: 10.0713 - acc: 0.9974 - val_loss: 6084.1704 - val_acc: 0.6483\n",
      "Epoch 80/100\n",
      "334/334 [==============================] - ETA: 0s - loss: 5.6843 - acc: 0.9979\n",
      "Epoch 00080: val_acc did not improve from 0.68781\n",
      "334/334 [==============================] - 394s 1s/step - loss: 5.6843 - acc: 0.9979 - val_loss: 5523.6216 - val_acc: 0.6596\n",
      "Epoch 81/100\n",
      "334/334 [==============================] - ETA: 0s - loss: 12.1953 - acc: 0.9982\n",
      "Epoch 00081: val_acc did not improve from 0.68781\n",
      "334/334 [==============================] - 397s 1s/step - loss: 12.1953 - acc: 0.9982 - val_loss: 6762.4067 - val_acc: 0.6695\n",
      "Epoch 82/100\n",
      "334/334 [==============================] - ETA: 0s - loss: 84.5630 - acc: 0.9852\n",
      "Epoch 00082: val_acc did not improve from 0.68781\n",
      "334/334 [==============================] - 393s 1s/step - loss: 84.5630 - acc: 0.9852 - val_loss: 5644.0894 - val_acc: 0.6695\n",
      "Epoch 83/100\n",
      "334/334 [==============================] - ETA: 0s - loss: 29.5739 - acc: 0.9929\n",
      "Epoch 00083: val_acc did not improve from 0.68781\n",
      "334/334 [==============================] - 394s 1s/step - loss: 29.5739 - acc: 0.9929 - val_loss: 6671.6582 - val_acc: 0.6526\n",
      "Epoch 84/100\n",
      "334/334 [==============================] - ETA: 0s - loss: 50.9815 - acc: 0.9898\n",
      "Epoch 00084: val_acc did not improve from 0.68781\n",
      "334/334 [==============================] - 394s 1s/step - loss: 50.9815 - acc: 0.9898 - val_loss: 5500.6328 - val_acc: 0.6744\n",
      "Epoch 85/100\n",
      "334/334 [==============================] - ETA: 0s - loss: 19.9797 - acc: 0.9974\n",
      "Epoch 00085: val_acc did not improve from 0.68781\n",
      "334/334 [==============================] - 393s 1s/step - loss: 19.9797 - acc: 0.9974 - val_loss: 6635.4058 - val_acc: 0.6709\n",
      "Epoch 86/100\n",
      "334/334 [==============================] - ETA: 0s - loss: 18.7756 - acc: 0.9951\n",
      "Epoch 00086: val_acc did not improve from 0.68781\n",
      "334/334 [==============================] - 393s 1s/step - loss: 18.7756 - acc: 0.9951 - val_loss: 5709.3623 - val_acc: 0.6716\n",
      "Epoch 87/100\n",
      "334/334 [==============================] - ETA: 0s - loss: 51.1340 - acc: 0.9935\n",
      "Epoch 00087: val_acc did not improve from 0.68781\n",
      "334/334 [==============================] - 393s 1s/step - loss: 51.1340 - acc: 0.9935 - val_loss: 5997.8457 - val_acc: 0.6667\n",
      "Epoch 88/100\n",
      "334/334 [==============================] - ETA: 0s - loss: 4.5842 - acc: 0.9974\n",
      "Epoch 00088: val_acc did not improve from 0.68781\n",
      "334/334 [==============================] - 395s 1s/step - loss: 4.5842 - acc: 0.9974 - val_loss: 6115.8931 - val_acc: 0.6681\n",
      "Epoch 89/100\n",
      "334/334 [==============================] - ETA: 0s - loss: 64.4528 - acc: 0.9894\n",
      "Epoch 00089: val_acc did not improve from 0.68781\n",
      "334/334 [==============================] - 394s 1s/step - loss: 64.4528 - acc: 0.9894 - val_loss: 6147.0195 - val_acc: 0.6575\n",
      "Epoch 90/100\n",
      "334/334 [==============================] - ETA: 0s - loss: 60.9260 - acc: 0.9898\n",
      "Epoch 00090: val_acc did not improve from 0.68781\n",
      "334/334 [==============================] - 397s 1s/step - loss: 60.9260 - acc: 0.9898 - val_loss: 6858.9302 - val_acc: 0.6765\n",
      "Epoch 91/100\n",
      "334/334 [==============================] - ETA: 0s - loss: 16.8247 - acc: 0.9952\n",
      "Epoch 00091: val_acc did not improve from 0.68781\n",
      "334/334 [==============================] - 394s 1s/step - loss: 16.8247 - acc: 0.9952 - val_loss: 6147.1577 - val_acc: 0.6730\n",
      "Epoch 92/100\n",
      "334/334 [==============================] - ETA: 0s - loss: 7.6039 - acc: 0.9972\n",
      "Epoch 00092: val_acc did not improve from 0.68781\n",
      "334/334 [==============================] - 394s 1s/step - loss: 7.6039 - acc: 0.9972 - val_loss: 6891.9902 - val_acc: 0.6801\n",
      "Epoch 93/100\n",
      "334/334 [==============================] - ETA: 0s - loss: 0.8121 - acc: 0.9995\n",
      "Epoch 00093: val_acc did not improve from 0.68781\n",
      "334/334 [==============================] - 394s 1s/step - loss: 0.8121 - acc: 0.9995 - val_loss: 6657.0337 - val_acc: 0.6695\n",
      "Epoch 94/100\n",
      "334/334 [==============================] - ETA: 0s - loss: 0.0000e+00 - acc: 1.0000\n",
      "Epoch 00094: val_acc did not improve from 0.68781\n",
      "334/334 [==============================] - 392s 1s/step - loss: 0.0000e+00 - acc: 1.0000 - val_loss: 6656.5229 - val_acc: 0.6695\n",
      "Epoch 95/100\n",
      "334/334 [==============================] - ETA: 0s - loss: 0.0000e+00 - acc: 1.0000\n",
      "Epoch 00095: val_acc did not improve from 0.68781\n",
      "334/334 [==============================] - 394s 1s/step - loss: 0.0000e+00 - acc: 1.0000 - val_loss: 6656.5229 - val_acc: 0.6695\n",
      "Epoch 96/100\n",
      "334/334 [==============================] - ETA: 0s - loss: 0.0000e+00 - acc: 1.0000\n",
      "Epoch 00096: val_acc did not improve from 0.68781\n",
      "334/334 [==============================] - 392s 1s/step - loss: 0.0000e+00 - acc: 1.0000 - val_loss: 6656.5229 - val_acc: 0.6695\n",
      "Epoch 97/100\n",
      "334/334 [==============================] - ETA: 0s - loss: 0.0000e+00 - acc: 1.0000\n",
      "Epoch 00097: val_acc did not improve from 0.68781\n",
      "334/334 [==============================] - 394s 1s/step - loss: 0.0000e+00 - acc: 1.0000 - val_loss: 6656.5229 - val_acc: 0.6695\n",
      "Epoch 98/100\n",
      "334/334 [==============================] - ETA: 0s - loss: 0.0000e+00 - acc: 1.0000\n",
      "Epoch 00098: val_acc did not improve from 0.68781\n",
      "334/334 [==============================] - 404s 1s/step - loss: 0.0000e+00 - acc: 1.0000 - val_loss: 6656.5229 - val_acc: 0.6695\n",
      "Epoch 99/100\n",
      "334/334 [==============================] - ETA: 0s - loss: 0.0000e+00 - acc: 1.0000\n",
      "Epoch 00099: val_acc did not improve from 0.68781\n",
      "334/334 [==============================] - 399s 1s/step - loss: 0.0000e+00 - acc: 1.0000 - val_loss: 6656.5229 - val_acc: 0.6695\n",
      "Epoch 100/100\n",
      "334/334 [==============================] - ETA: 0s - loss: 0.0000e+00 - acc: 1.0000\n",
      "Epoch 00100: val_acc did not improve from 0.68781\n",
      "334/334 [==============================] - 407s 1s/step - loss: 0.0000e+00 - acc: 1.0000 - val_loss: 6656.5229 - val_acc: 0.6695\n"
     ]
    }
   ],
   "source": [
    "history_params_2 = []\n",
    "history_2 = model_2.fit(X_train, Y_train,\n",
    "          batch_size=17,\n",
    "          epochs=100,\n",
    "          verbose=1,\n",
    "          shuffle=True,\n",
    "          validation_data=(X_test, Y_test), callbacks=[checkpoint])"
   ]
  },
  {
   "cell_type": "code",
   "execution_count": 36,
   "metadata": {},
   "outputs": [
    {
     "name": "stdout",
     "output_type": "stream",
     "text": [
      "45/45 [==============================] - 9s 192ms/step - loss: 6656.5229 - acc: 0.6695\n"
     ]
    },
    {
     "data": {
      "text/plain": [
       "(6656.52294921875, 0.6694855690002441)"
      ]
     },
     "execution_count": 36,
     "metadata": {},
     "output_type": "execute_result"
    }
   ],
   "source": [
    "loss, accuracy = model_2.evaluate(X_test, Y_test)\n",
    "loss, accuracy "
   ]
  },
  {
   "cell_type": "code",
   "execution_count": 37,
   "metadata": {},
   "outputs": [
    {
     "data": {
      "image/png": "[encoded data removed]",
      "text/plain": [
       "<Figure size 432x288 with 1 Axes>"
      ]
     },
     "metadata": {
      "needs_background": "light"
     },
     "output_type": "display_data"
    },
    {
     "data": {
      "image/png": "[encoded data removed]",
      "text/plain": [
       "<Figure size 432x288 with 1 Axes>"
      ]
     },
     "metadata": {
      "needs_background": "light"
     },
     "output_type": "display_data"
    }
   ],
   "source": [
    "print(history_2.history.keys())\n",
    "\n",
    "plt.plot(history_2.history['acc'])\n",
    "plt.plot(history_2.history['val_acc'])\n",
    "plt.title('model accuracy')\n",
    "plt.ylabel('acc')\n",
    "plt.xlabel('epoch')\n",
    "plt.legend(['train', 'test'], loc='upper left')\n",
    "plt.show()\n",
    "\n",
    "plt.plot(history_2.history['loss'])\n",
    "plt.plot(history_2.history['val_loss'])\n",
    "plt.title('model loss')\n",
    "plt.ylabel('loss')\n",
    "plt.xlabel('epoch')\n",
    "plt.legend(['train', 'test'], loc='upper left')\n",
    "plt.show()"
   ]
  },
  {
   "cell_type": "markdown",
   "metadata": {},
   "source": [
    "The second model overfits the training data. It predicts with almost perfect accuracy on training data but fails to generalize on the test data. Training loss is almost zero but test loss increases with every epoch, meaning that the learned patterns do not apply on newly seen data."
   ]
  },
  {
   "cell_type": "code",
   "execution_count": 38,
   "metadata": {},
   "outputs": [
    {
     "data": {
      "text/plain": [
       "array([[333, 245],\n",
       "       [224, 617]], dtype=int64)"
      ]
     },
     "execution_count": 38,
     "metadata": {},
     "output_type": "execute_result"
    }
   ],
   "source": [
    "y_predicted =  model_2.predict(X_test)\n",
    "\n",
    "confusion_matr = confusion_matrix(Y_test, np.round(model_2.predict(X_test)))\n",
    "confusion_matr"
   ]
  },
  {
   "cell_type": "code",
   "execution_count": 39,
   "metadata": {},
   "outputs": [
    {
     "name": "stdout",
     "output_type": "stream",
     "text": [
      "True positive schizophrenic(1):  333 \n",
      " False positive schizophrenic(1): 245 \n",
      " False positive control(0): 224 \n",
      " True positive control(0): 617 \n",
      "\n"
     ]
    }
   ],
   "source": [
    "print(\n",
    "  \"True negative control(0): \", confusion_matr[0, 0], \"\\n\",\n",
    "  \"False negative control(0):\", confusion_matr[0, 1], \"\\n\",\n",
    "  \"False positive schizophrenic(1):\", confusion_matr[1, 0], \"\\n\",\n",
    "  \"True positive schizophrenic(1):\", confusion_matr[1, 1], \"\\n\"    \n",
    ")"
   ]
  },
  {
   "cell_type": "code",
   "execution_count": 40,
   "metadata": {},
   "outputs": [
    {
     "data": {
      "text/plain": [
       "(333, 245, 224, 617)"
      ]
     },
     "execution_count": 40,
     "metadata": {},
     "output_type": "execute_result"
    }
   ],
   "source": [
    "TN = confusion_matr[0, 0]\n",
    "FN = confusion_matr[0, 1]\n",
    "FP = confusion_matr[1, 0]\n",
    "TP = confusion_matr[1, 1]\n",
    "TP, FP, FN, TN"
   ]
  },
  {
   "cell_type": "code",
   "execution_count": 41,
   "metadata": {},
   "outputs": [
    {
     "data": {
      "text/plain": [
       "0.5978456014362658"
      ]
     },
     "execution_count": 41,
     "metadata": {},
     "output_type": "execute_result"
    }
   ],
   "source": [
    "sensitivity = TP / (TP + FN)\n",
    "sensitivity"
   ]
  },
  {
   "cell_type": "code",
   "execution_count": 42,
   "metadata": {},
   "outputs": [
    {
     "data": {
      "text/plain": [
       "0.7157772621809745"
      ]
     },
     "execution_count": 42,
     "metadata": {},
     "output_type": "execute_result"
    }
   ],
   "source": [
    "specificity = TN / (TN + FP)\n",
    "specificity"
   ]
  },
  {
   "cell_type": "markdown",
   "metadata": {},
   "source": [
    "### **Model 2**\n",
    "\n",
    "Accuracy: **66.9%** <br>\n",
    "Sensitivity: **59.8%** <br>\n",
    "Specificity: **71.6%** <br>\n",
    "\n",
    "Despite of the strong overfitting, the accuracy, sensitivity and specificity metrics could improve in comparison to the first model. This time, the performance was restrained by learning patterns in the brainwaves of schizophrenic patients too well, ending up failing to recognize the disease in wave data if it slightly differs."
   ]
  },
  {
   "cell_type": "markdown",
   "metadata": {},
   "source": [
    "### 3rd Model"
   ]
  },
  {
   "cell_type": "markdown",
   "metadata": {},
   "source": [
    "For this model, the ERP dataset is used. It contains the time series of 9 electrodes. The data is supplemented with demographic data to serve as additional features. Before splitting, the time series of the 3rd scenario is removed, because the distinction of healthy and schizophrenic subjects was based on the 1st and 2nd button/tone scenario. This filtering leaves 497,644 observations in the dataset."
   ]
  },
  {
   "cell_type": "code",
   "execution_count": 5,
   "metadata": {},
   "outputs": [],
   "source": [
    "data = pd.merge(erp, demographic, how='left', left_on='subject', right_on='subject')\n",
    "data = data[data.condition != 3]\n",
    "data = data.drop(['subject', 'condition', 'time_ms'], axis=1)\n",
    "data.loc[data[\" gender\"] == \" M\", \" gender\"] = 0\n",
    "data.loc[data[\" gender\"] == \" F\", \" gender\"] = 1"
   ]
  },
  {
   "cell_type": "code",
   "execution_count": 6,
   "metadata": {},
   "outputs": [],
   "source": [
    "Y = data[\" group\"]\n",
    "X = data.drop([\" group\"], axis = 1)"
   ]
  },
  {
   "cell_type": "code",
   "execution_count": 7,
   "metadata": {},
   "outputs": [],
   "source": [
    "X_norm = normalize(X)"
   ]
  },
  {
   "cell_type": "code",
   "execution_count": 8,
   "metadata": {},
   "outputs": [],
   "source": [
    "X_train_norm, X_test_norm, Y_train_norm, Y_test_norm = train_test_split(X_norm, Y, test_size=0.2, shuffle=True, random_state=42)"
   ]
  },
  {
   "cell_type": "code",
   "execution_count": 9,
   "metadata": {},
   "outputs": [],
   "source": [
    "X_train_norm = X_train_norm.reshape(X_train_norm.shape[0], 4, 3, 1)\n",
    "X_test_norm = X_test_norm.reshape(X_test_norm.shape[0], 4, 3, 1)"
   ]
  },
  {
   "cell_type": "code",
   "execution_count": 10,
   "metadata": {},
   "outputs": [],
   "source": [
    "model = Sequential()\n",
    "model.add(Conv2D(input_shape=X_train_norm.shape[1:],filters=32,kernel_size=(3,3),padding=\"same\", activation=\"relu\"))\n",
    "model.add(MaxPooling2D(pool_size=(2,2),strides=(2,2)))\n",
    "model.add(Conv2D(filters=64, kernel_size=(3,3), padding=\"same\", activation=\"relu\"))\n",
    "model.add(MaxPooling2D(pool_size=(1,1),strides=(1,1)))\n",
    "model.add(Flatten())\n",
    "model.add(Dense(units=256,activation=\"relu\"))\n",
    "model.add(Dense(1, activation='sigmoid'))"
   ]
  },
  {
   "cell_type": "code",
   "execution_count": 26,
   "metadata": {},
   "outputs": [],
   "source": [
    "model.compile(optimizer=tf.keras.optimizers.Adam(0.00005), \n",
    "              loss=keras.losses.binary_crossentropy, \n",
    "              metrics=['accuracy'])"
   ]
  },
  {
   "cell_type": "code",
   "execution_count": 27,
   "metadata": {},
   "outputs": [],
   "source": [
    "history_params = []\n",
    "\n",
    "filepath=\"./best_model3.h5\"\n",
    "checkpoint = ModelCheckpoint(filepath, monitor='val_accuracy', verbose=1, save_best_only=True, mode='max', save_freq=\"epoch\")"
   ]
  },
  {
   "cell_type": "code",
   "execution_count": 28,
   "metadata": {},
   "outputs": [
    {
     "name": "stdout",
     "output_type": "stream",
     "text": [
      "Epoch 1/50\n",
      "796/797 [============================>.] - ETA: 0s - loss: 0.1960 - accuracy: 0.9189\n",
      "Epoch 00001: val_accuracy improved from -inf to 0.91790, saving model to .\\best_model3.h5\n",
      "797/797 [==============================] - 21s 24ms/step - loss: 0.1960 - accuracy: 0.9189 - val_loss: 0.1958 - val_accuracy: 0.9179\n",
      "Epoch 2/50\n",
      "796/797 [============================>.] - ETA: 0s - loss: 0.1954 - accuracy: 0.9193\n",
      "Epoch 00002: val_accuracy improved from 0.91790 to 0.91829, saving model to .\\best_model3.h5\n",
      "797/797 [==============================] - 19s 23ms/step - loss: 0.1954 - accuracy: 0.9193 - val_loss: 0.1955 - val_accuracy: 0.9183\n",
      "Epoch 3/50\n",
      "796/797 [============================>.] - ETA: 0s - loss: 0.1953 - accuracy: 0.9190\n",
      "Epoch 00003: val_accuracy did not improve from 0.91829\n",
      "797/797 [==============================] - 18s 22ms/step - loss: 0.1954 - accuracy: 0.9190 - val_loss: 0.2010 - val_accuracy: 0.9153\n",
      "Epoch 4/50\n",
      "795/797 [============================>.] - ETA: 0s - loss: 0.1947 - accuracy: 0.9194\n",
      "Epoch 00004: val_accuracy improved from 0.91829 to 0.91888, saving model to .\\best_model3.h5\n",
      "797/797 [==============================] - 16s 21ms/step - loss: 0.1947 - accuracy: 0.9194 - val_loss: 0.1950 - val_accuracy: 0.9189\n",
      "Epoch 5/50\n",
      "794/797 [============================>.] - ETA: 0s - loss: 0.1941 - accuracy: 0.9199\n",
      "Epoch 00005: val_accuracy improved from 0.91888 to 0.91894, saving model to .\\best_model3.h5\n",
      "797/797 [==============================] - 16s 20ms/step - loss: 0.1941 - accuracy: 0.9199 - val_loss: 0.1946 - val_accuracy: 0.9189\n",
      "Epoch 6/50\n",
      "794/797 [============================>.] - ETA: 0s - loss: 0.1942 - accuracy: 0.9197\n",
      "Epoch 00006: val_accuracy did not improve from 0.91894\n",
      "797/797 [==============================] - 17s 21ms/step - loss: 0.1943 - accuracy: 0.9197 - val_loss: 0.1962 - val_accuracy: 0.9187\n",
      "Epoch 7/50\n",
      "795/797 [============================>.] - ETA: 0s - loss: 0.1935 - accuracy: 0.9199\n",
      "Epoch 00007: val_accuracy did not improve from 0.91894\n",
      "797/797 [==============================] - 14s 18ms/step - loss: 0.1936 - accuracy: 0.9199 - val_loss: 0.1945 - val_accuracy: 0.9188\n",
      "Epoch 8/50\n",
      "795/797 [============================>.] - ETA: 0s - loss: 0.1940 - accuracy: 0.9196\n",
      "Epoch 00008: val_accuracy did not improve from 0.91894\n",
      "797/797 [==============================] - 16s 20ms/step - loss: 0.1940 - accuracy: 0.9196 - val_loss: 0.1944 - val_accuracy: 0.9187\n",
      "Epoch 9/50\n",
      "794/797 [============================>.] - ETA: 0s - loss: 0.1931 - accuracy: 0.9205\n",
      "Epoch 00009: val_accuracy did not improve from 0.91894\n",
      "797/797 [==============================] - 15s 19ms/step - loss: 0.1931 - accuracy: 0.9204 - val_loss: 0.1995 - val_accuracy: 0.9158\n",
      "Epoch 10/50\n",
      "794/797 [============================>.] - ETA: 0s - loss: 0.1929 - accuracy: 0.9200\n",
      "Epoch 00010: val_accuracy did not improve from 0.91894\n",
      "797/797 [==============================] - 15s 19ms/step - loss: 0.1929 - accuracy: 0.9201 - val_loss: 0.1954 - val_accuracy: 0.9177\n",
      "Epoch 11/50\n",
      "794/797 [============================>.] - ETA: 0s - loss: 0.1925 - accuracy: 0.9206\n",
      "Epoch 00011: val_accuracy improved from 0.91894 to 0.91958, saving model to .\\best_model3.h5\n",
      "797/797 [==============================] - 15s 19ms/step - loss: 0.1924 - accuracy: 0.9206 - val_loss: 0.1933 - val_accuracy: 0.9196\n",
      "Epoch 12/50\n",
      "794/797 [============================>.] - ETA: 0s - loss: 0.1921 - accuracy: 0.9204\n",
      "Epoch 00012: val_accuracy did not improve from 0.91958\n",
      "797/797 [==============================] - 14s 18ms/step - loss: 0.1921 - accuracy: 0.9204 - val_loss: 0.1982 - val_accuracy: 0.9155\n",
      "Epoch 13/50\n",
      "797/797 [==============================] - ETA: 0s - loss: 0.1920 - accuracy: 0.9205\n",
      "Epoch 00013: val_accuracy improved from 0.91958 to 0.91979, saving model to .\\best_model3.h5\n",
      "797/797 [==============================] - 15s 19ms/step - loss: 0.1920 - accuracy: 0.9205 - val_loss: 0.1918 - val_accuracy: 0.9198\n",
      "Epoch 14/50\n",
      "796/797 [============================>.] - ETA: 0s - loss: 0.1915 - accuracy: 0.9209\n",
      "Epoch 00014: val_accuracy did not improve from 0.91979\n",
      "797/797 [==============================] - 17s 21ms/step - loss: 0.1915 - accuracy: 0.9209 - val_loss: 0.1940 - val_accuracy: 0.9195\n",
      "Epoch 15/50\n",
      "796/797 [============================>.] - ETA: 0s - loss: 0.1916 - accuracy: 0.9208\n",
      "Epoch 00015: val_accuracy did not improve from 0.91979\n",
      "797/797 [==============================] - 17s 21ms/step - loss: 0.1917 - accuracy: 0.9208 - val_loss: 0.1985 - val_accuracy: 0.9164\n",
      "Epoch 16/50\n",
      "797/797 [==============================] - ETA: 0s - loss: 0.1914 - accuracy: 0.9206\n",
      "Epoch 00016: val_accuracy improved from 0.91979 to 0.92084, saving model to .\\best_model3.h5\n",
      "797/797 [==============================] - 19s 23ms/step - loss: 0.1914 - accuracy: 0.9206 - val_loss: 0.1924 - val_accuracy: 0.9208\n",
      "Epoch 17/50\n",
      "794/797 [============================>.] - ETA: 0s - loss: 0.1903 - accuracy: 0.9214\n",
      "Epoch 00017: val_accuracy did not improve from 0.92084\n",
      "797/797 [==============================] - 16s 20ms/step - loss: 0.1903 - accuracy: 0.9214 - val_loss: 0.1909 - val_accuracy: 0.9199\n",
      "Epoch 18/50\n",
      "797/797 [==============================] - ETA: 0s - loss: 0.1902 - accuracy: 0.9213\n",
      "Epoch 00018: val_accuracy did not improve from 0.92084\n",
      "797/797 [==============================] - 16s 20ms/step - loss: 0.1902 - accuracy: 0.9213 - val_loss: 0.1948 - val_accuracy: 0.9172\n",
      "Epoch 19/50\n",
      "796/797 [============================>.] - ETA: 0s - loss: 0.1904 - accuracy: 0.9213\n",
      "Epoch 00019: val_accuracy did not improve from 0.92084\n",
      "797/797 [==============================] - 16s 20ms/step - loss: 0.1904 - accuracy: 0.9213 - val_loss: 0.1916 - val_accuracy: 0.9199\n",
      "Epoch 20/50\n",
      "796/797 [============================>.] - ETA: 0s - loss: 0.1897 - accuracy: 0.9214\n",
      "Epoch 00020: val_accuracy did not improve from 0.92084\n",
      "797/797 [==============================] - 17s 21ms/step - loss: 0.1897 - accuracy: 0.9214 - val_loss: 0.1898 - val_accuracy: 0.9206\n",
      "Epoch 21/50\n",
      "796/797 [============================>.] - ETA: 0s - loss: 0.1896 - accuracy: 0.9213\n",
      "Epoch 00021: val_accuracy did not improve from 0.92084\n",
      "797/797 [==============================] - 17s 21ms/step - loss: 0.1896 - accuracy: 0.9213 - val_loss: 0.1902 - val_accuracy: 0.9198\n",
      "Epoch 22/50\n",
      "796/797 [============================>.] - ETA: 0s - loss: 0.1890 - accuracy: 0.9217\n",
      "Epoch 00022: val_accuracy did not improve from 0.92084\n",
      "797/797 [==============================] - 17s 21ms/step - loss: 0.1889 - accuracy: 0.9217 - val_loss: 0.1902 - val_accuracy: 0.9199\n",
      "Epoch 23/50\n",
      "796/797 [============================>.] - ETA: 0s - loss: 0.1883 - accuracy: 0.9220\n",
      "Epoch 00023: val_accuracy did not improve from 0.92084\n",
      "797/797 [==============================] - 15s 19ms/step - loss: 0.1883 - accuracy: 0.9220 - val_loss: 0.1895 - val_accuracy: 0.9207\n",
      "Epoch 24/50\n",
      "796/797 [============================>.] - ETA: 0s - loss: 0.1886 - accuracy: 0.9222\n",
      "Epoch 00024: val_accuracy improved from 0.92084 to 0.92192, saving model to .\\best_model3.h5\n",
      "797/797 [==============================] - 16s 20ms/step - loss: 0.1886 - accuracy: 0.9222 - val_loss: 0.1879 - val_accuracy: 0.9219\n",
      "Epoch 25/50\n",
      "795/797 [============================>.] - ETA: 0s - loss: 0.1882 - accuracy: 0.9223\n",
      "Epoch 00025: val_accuracy did not improve from 0.92192\n",
      "797/797 [==============================] - 15s 19ms/step - loss: 0.1881 - accuracy: 0.9223 - val_loss: 0.1942 - val_accuracy: 0.9177\n",
      "Epoch 26/50\n",
      "797/797 [==============================] - ETA: 0s - loss: 0.1878 - accuracy: 0.9221\n",
      "Epoch 00026: val_accuracy did not improve from 0.92192\n",
      "797/797 [==============================] - 17s 21ms/step - loss: 0.1878 - accuracy: 0.9221 - val_loss: 0.1907 - val_accuracy: 0.9202\n",
      "Epoch 27/50\n",
      "797/797 [==============================] - ETA: 0s - loss: 0.1872 - accuracy: 0.9227\n",
      "Epoch 00027: val_accuracy did not improve from 0.92192\n",
      "797/797 [==============================] - 17s 21ms/step - loss: 0.1872 - accuracy: 0.9227 - val_loss: 0.1881 - val_accuracy: 0.9214\n",
      "Epoch 28/50\n",
      "795/797 [============================>.] - ETA: 0s - loss: 0.1874 - accuracy: 0.9226\n",
      "Epoch 00028: val_accuracy did not improve from 0.92192\n",
      "797/797 [==============================] - 14s 18ms/step - loss: 0.1874 - accuracy: 0.9226 - val_loss: 0.1917 - val_accuracy: 0.9193\n",
      "Epoch 29/50\n",
      "794/797 [============================>.] - ETA: 0s - loss: 0.1866 - accuracy: 0.9229\n",
      "Epoch 00029: val_accuracy did not improve from 0.92192\n",
      "797/797 [==============================] - 15s 18ms/step - loss: 0.1865 - accuracy: 0.9229 - val_loss: 0.1875 - val_accuracy: 0.9214\n",
      "Epoch 30/50\n",
      "796/797 [============================>.] - ETA: 0s - loss: 0.1868 - accuracy: 0.9227\n",
      "Epoch 00030: val_accuracy did not improve from 0.92192\n",
      "797/797 [==============================] - 16s 20ms/step - loss: 0.1868 - accuracy: 0.9227 - val_loss: 0.1885 - val_accuracy: 0.9217\n",
      "Epoch 31/50\n",
      "796/797 [============================>.] - ETA: 0s - loss: 0.1862 - accuracy: 0.9232\n",
      "Epoch 00031: val_accuracy did not improve from 0.92192\n",
      "797/797 [==============================] - 17s 22ms/step - loss: 0.1862 - accuracy: 0.9233 - val_loss: 0.1910 - val_accuracy: 0.9188\n",
      "Epoch 32/50\n",
      "795/797 [============================>.] - ETA: 0s - loss: 0.1859 - accuracy: 0.9232\n",
      "Epoch 00032: val_accuracy improved from 0.92192 to 0.92218, saving model to .\\best_model3.h5\n",
      "797/797 [==============================] - 15s 19ms/step - loss: 0.1859 - accuracy: 0.9232 - val_loss: 0.1867 - val_accuracy: 0.9222\n",
      "Epoch 33/50\n",
      "796/797 [============================>.] - ETA: 0s - loss: 0.1857 - accuracy: 0.9233\n",
      "Epoch 00033: val_accuracy did not improve from 0.92218\n",
      "797/797 [==============================] - 15s 18ms/step - loss: 0.1857 - accuracy: 0.9233 - val_loss: 0.1858 - val_accuracy: 0.9222\n",
      "Epoch 34/50\n",
      "795/797 [============================>.] - ETA: 0s - loss: 0.1856 - accuracy: 0.9232\n",
      "Epoch 00034: val_accuracy did not improve from 0.92218\n",
      "797/797 [==============================] - 15s 19ms/step - loss: 0.1856 - accuracy: 0.9232 - val_loss: 0.1946 - val_accuracy: 0.9178\n",
      "Epoch 35/50\n",
      "795/797 [============================>.] - ETA: 0s - loss: 0.1850 - accuracy: 0.9236\n",
      "Epoch 00035: val_accuracy did not improve from 0.92218\n",
      "797/797 [==============================] - 14s 18ms/step - loss: 0.1850 - accuracy: 0.9237 - val_loss: 0.1858 - val_accuracy: 0.9221\n",
      "Epoch 36/50\n",
      "795/797 [============================>.] - ETA: 0s - loss: 0.1849 - accuracy: 0.9234\n",
      "Epoch 00036: val_accuracy improved from 0.92218 to 0.92298, saving model to .\\best_model3.h5\n",
      "797/797 [==============================] - 14s 18ms/step - loss: 0.1848 - accuracy: 0.9235 - val_loss: 0.1838 - val_accuracy: 0.9230\n",
      "Epoch 37/50\n",
      "796/797 [============================>.] - ETA: 0s - loss: 0.1845 - accuracy: 0.9239\n",
      "Epoch 00037: val_accuracy did not improve from 0.92298\n",
      "797/797 [==============================] - 14s 18ms/step - loss: 0.1845 - accuracy: 0.9239 - val_loss: 0.1873 - val_accuracy: 0.9211\n",
      "Epoch 38/50\n",
      "795/797 [============================>.] - ETA: 0s - loss: 0.1845 - accuracy: 0.9238\n",
      "Epoch 00038: val_accuracy did not improve from 0.92298\n",
      "797/797 [==============================] - 14s 18ms/step - loss: 0.1845 - accuracy: 0.9238 - val_loss: 0.1909 - val_accuracy: 0.9188\n",
      "Epoch 39/50\n",
      "796/797 [============================>.] - ETA: 0s - loss: 0.1839 - accuracy: 0.9237\n",
      "Epoch 00039: val_accuracy did not improve from 0.92298\n",
      "797/797 [==============================] - 14s 18ms/step - loss: 0.1839 - accuracy: 0.9237 - val_loss: 0.1851 - val_accuracy: 0.9222\n",
      "Epoch 40/50\n",
      "797/797 [==============================] - ETA: 0s - loss: 0.1834 - accuracy: 0.9241\n",
      "Epoch 00040: val_accuracy improved from 0.92298 to 0.92410, saving model to .\\best_model3.h5\n",
      "797/797 [==============================] - 14s 18ms/step - loss: 0.1834 - accuracy: 0.9241 - val_loss: 0.1827 - val_accuracy: 0.9241\n",
      "Epoch 41/50\n",
      "794/797 [============================>.] - ETA: 0s - loss: 0.1829 - accuracy: 0.9245\n",
      "Epoch 00041: val_accuracy did not improve from 0.92410\n",
      "797/797 [==============================] - 14s 18ms/step - loss: 0.1830 - accuracy: 0.9244 - val_loss: 0.1863 - val_accuracy: 0.9217\n",
      "Epoch 42/50\n",
      "794/797 [============================>.] - ETA: 0s - loss: 0.1832 - accuracy: 0.9242\n",
      "Epoch 00042: val_accuracy did not improve from 0.92410\n",
      "797/797 [==============================] - 14s 18ms/step - loss: 0.1831 - accuracy: 0.9243 - val_loss: 0.2058 - val_accuracy: 0.9126\n",
      "Epoch 43/50\n",
      "796/797 [============================>.] - ETA: 0s - loss: 0.1831 - accuracy: 0.9243\n",
      "Epoch 00043: val_accuracy did not improve from 0.92410\n",
      "797/797 [==============================] - 15s 19ms/step - loss: 0.1831 - accuracy: 0.9243 - val_loss: 0.1827 - val_accuracy: 0.9235\n",
      "Epoch 44/50\n",
      "795/797 [============================>.] - ETA: 0s - loss: 0.1823 - accuracy: 0.9247\n",
      "Epoch 00044: val_accuracy did not improve from 0.92410\n",
      "797/797 [==============================] - 19s 23ms/step - loss: 0.1824 - accuracy: 0.9247 - val_loss: 0.1829 - val_accuracy: 0.9236\n",
      "Epoch 45/50\n",
      "796/797 [============================>.] - ETA: 0s - loss: 0.1824 - accuracy: 0.9248\n",
      "Epoch 00045: val_accuracy improved from 0.92410 to 0.92465, saving model to .\\best_model3.h5\n",
      "797/797 [==============================] - 19s 23ms/step - loss: 0.1824 - accuracy: 0.9248 - val_loss: 0.1816 - val_accuracy: 0.9246\n",
      "Epoch 46/50\n",
      "797/797 [==============================] - ETA: 0s - loss: 0.1819 - accuracy: 0.9250\n",
      "Epoch 00046: val_accuracy did not improve from 0.92465\n",
      "797/797 [==============================] - 19s 23ms/step - loss: 0.1819 - accuracy: 0.9250 - val_loss: 0.1833 - val_accuracy: 0.9233\n",
      "Epoch 47/50\n",
      "796/797 [============================>.] - ETA: 0s - loss: 0.1817 - accuracy: 0.9249\n",
      "Epoch 00047: val_accuracy did not improve from 0.92465\n",
      "797/797 [==============================] - 18s 23ms/step - loss: 0.1817 - accuracy: 0.9249 - val_loss: 0.1827 - val_accuracy: 0.9234\n",
      "Epoch 48/50\n",
      "795/797 [============================>.] - ETA: 0s - loss: 0.1811 - accuracy: 0.9252\n",
      "Epoch 00048: val_accuracy did not improve from 0.92465\n",
      "797/797 [==============================] - 19s 23ms/step - loss: 0.1811 - accuracy: 0.9252 - val_loss: 0.1898 - val_accuracy: 0.9206\n",
      "Epoch 49/50\n",
      "796/797 [============================>.] - ETA: 0s - loss: 0.1809 - accuracy: 0.9255\n",
      "Epoch 00049: val_accuracy did not improve from 0.92465\n",
      "797/797 [==============================] - 19s 23ms/step - loss: 0.1809 - accuracy: 0.9255 - val_loss: 0.1835 - val_accuracy: 0.9230\n",
      "Epoch 50/50\n",
      "795/797 [============================>.] - ETA: 0s - loss: 0.1811 - accuracy: 0.9252\n",
      "Epoch 00050: val_accuracy improved from 0.92465 to 0.92510, saving model to .\\best_model3.h5\n",
      "797/797 [==============================] - 18s 23ms/step - loss: 0.1811 - accuracy: 0.9252 - val_loss: 0.1799 - val_accuracy: 0.9251\n"
     ]
    }
   ],
   "source": [
    "history = model.fit(X_train_norm, Y_train_norm,\n",
    "          batch_size=500,\n",
    "          epochs=50,\n",
    "          verbose=1,\n",
    "          shuffle=True,\n",
    "          validation_data=(X_test_norm, Y_test_norm), callbacks=[checkpoint])"
   ]
  },
  {
   "cell_type": "code",
   "execution_count": 14,
   "metadata": {},
   "outputs": [
    {
     "name": "stdout",
     "output_type": "stream",
     "text": [
      "3111/3111 [==============================] - 11s 4ms/step - loss: 0.3081 - accuracy: 0.8663\n"
     ]
    },
    {
     "data": {
      "text/plain": [
       "(0.3081071674823761, 0.866295576095581)"
      ]
     },
     "execution_count": 14,
     "metadata": {},
     "output_type": "execute_result"
    }
   ],
   "source": [
    "loss, accuracy = model.evaluate(X_test_norm, Y_test_norm)\n",
    "loss, accuracy "
   ]
  },
  {
   "cell_type": "code",
   "execution_count": 15,
   "metadata": {},
   "outputs": [
    {
     "data": {
      "image/png": "[encoded data removed]",
      "text/plain": [
       "<Figure size 432x288 with 1 Axes>"
      ]
     },
     "metadata": {
      "needs_background": "light"
     },
     "output_type": "display_data"
    },
    {
     "data": {
      "image/png": "[encoded data removed]",
      "text/plain": [
       "<Figure size 432x288 with 1 Axes>"
      ]
     },
     "metadata": {
      "needs_background": "light"
     },
     "output_type": "display_data"
    }
   ],
   "source": [
    "print(history.history.keys())\n",
    "\n",
    "plt.plot(history.history['accuracy'])\n",
    "plt.plot(history.history['val_accuracy'])\n",
    "plt.title('model accuracy')\n",
    "plt.ylabel('accuracy')\n",
    "plt.xlabel('epoch')\n",
    "plt.legend(['train', 'test'], loc='upper left')\n",
    "plt.show()\n",
    "\n",
    "plt.plot(history.history['loss'])\n",
    "plt.plot(history.history['val_loss'])\n",
    "plt.title('model loss')\n",
    "plt.ylabel('loss')\n",
    "plt.xlabel('epoch')\n",
    "plt.legend(['train', 'test'], loc='upper left')\n",
    "plt.show()"
   ]
  },
  {
   "cell_type": "markdown",
   "metadata": {},
   "source": [
    "This time, training achieved significant higher accuracy and fewer loss. Both metrics gradually rise/lower. Adding demographic data and removing the abundant 3rd scenario data helped the model to distinct the two groups. Both curves look smooth and are largely overlapping, so the learning rate was good. It looks like accuracy and loss did not reach their maximum/minimum so continuing training from this checkpoint or training with more epochs would likely still improve performance. Two more training runs with 100/50 epochs and a higher learning rate is started."
   ]
  },
  {
   "cell_type": "code",
   "execution_count": 25,
   "metadata": {},
   "outputs": [
    {
     "data": {
      "image/png": "[encoded data removed]",
      "text/plain": [
       "<Figure size 432x288 with 1 Axes>"
      ]
     },
     "metadata": {
      "needs_background": "light"
     },
     "output_type": "display_data"
    },
    {
     "data": {
      "image/png": "[encoded data removed]",
      "text/plain": [
       "<Figure size 432x288 with 1 Axes>"
      ]
     },
     "metadata": {
      "needs_background": "light"
     },
     "output_type": "display_data"
    }
   ],
   "source": [
    "print(history.history.keys())\n",
    "\n",
    "plt.plot(history.history['accuracy'])\n",
    "plt.plot(history.history['val_accuracy'])\n",
    "plt.title('model accuracy')\n",
    "plt.ylabel('accuracy')\n",
    "plt.xlabel('epoch')\n",
    "plt.legend(['train', 'test'], loc='upper left')\n",
    "plt.show()\n",
    "\n",
    "plt.plot(history.history['loss'])\n",
    "plt.plot(history.history['val_loss'])\n",
    "plt.title('model loss')\n",
    "plt.ylabel('loss')\n",
    "plt.xlabel('epoch')\n",
    "plt.legend(['train', 'test'], loc='upper left')\n",
    "plt.show()"
   ]
  },
  {
   "cell_type": "code",
   "execution_count": 29,
   "metadata": {},
   "outputs": [
    {
     "data": {
      "image/png": "[encoded data removed]",
      "text/plain": [
       "<Figure size 432x288 with 1 Axes>"
      ]
     },
     "metadata": {
      "needs_background": "light"
     },
     "output_type": "display_data"
    },
    {
     "data": {
      "image/png": "[encoded data removed]",
      "text/plain": [
       "<Figure size 432x288 with 1 Axes>"
      ]
     },
     "metadata": {
      "needs_background": "light"
     },
     "output_type": "display_data"
    }
   ],
   "source": [
    "print(history.history.keys())\n",
    "\n",
    "plt.plot(history.history['accuracy'])\n",
    "plt.plot(history.history['val_accuracy'])\n",
    "plt.title('model accuracy')\n",
    "plt.ylabel('accuracy')\n",
    "plt.xlabel('epoch')\n",
    "plt.legend(['train', 'test'], loc='upper left')\n",
    "plt.show()\n",
    "\n",
    "plt.plot(history.history['loss'])\n",
    "plt.plot(history.history['val_loss'])\n",
    "plt.title('model loss')\n",
    "plt.ylabel('loss')\n",
    "plt.xlabel('epoch')\n",
    "plt.legend(['train', 'test'], loc='upper left')\n",
    "plt.show()"
   ]
  },
  {
   "cell_type": "markdown",
   "metadata": {},
   "source": [
    "For the last training run, the learning rate seems to be too big, the local minimum is searched but overlooked, resulting in the validation accuracy to lag behind and oscillate."
   ]
  },
  {
   "cell_type": "code",
   "execution_count": 30,
   "metadata": {},
   "outputs": [
    {
     "data": {
      "text/plain": [
       "array([[34950,  4324],\n",
       "       [ 3131, 57128]], dtype=int64)"
      ]
     },
     "execution_count": 30,
     "metadata": {},
     "output_type": "execute_result"
    }
   ],
   "source": [
    "y_predicted =  model.predict(X_test_norm)\n",
    "\n",
    "confusion_matr = confusion_matrix(Y_test_norm, np.round(model.predict(X_test_norm)))\n",
    "confusion_matr"
   ]
  },
  {
   "cell_type": "code",
   "execution_count": 31,
   "metadata": {},
   "outputs": [
    {
     "name": "stdout",
     "output_type": "stream",
     "text": [
      "True negative control(0):  34950 \n",
      " False negative control(0): 4324 \n",
      " False positive schizophrenic(1): 3131 \n",
      " True positive schizophrenic(1): 57128 \n",
      "\n"
     ]
    }
   ],
   "source": [
    "print(\n",
    "  \"True negative control(0): \", confusion_matr[0, 0], \"\\n\",\n",
    "  \"False negative control(0):\", confusion_matr[0, 1], \"\\n\",\n",
    "  \"False positive schizophrenic(1):\", confusion_matr[1, 0], \"\\n\",\n",
    "  \"True positive schizophrenic(1):\", confusion_matr[1, 1], \"\\n\"    \n",
    ")"
   ]
  },
  {
   "cell_type": "code",
   "execution_count": 32,
   "metadata": {},
   "outputs": [
    {
     "data": {
      "text/plain": [
       "(57128, 3131, 4324, 34950)"
      ]
     },
     "execution_count": 32,
     "metadata": {},
     "output_type": "execute_result"
    }
   ],
   "source": [
    "TN = confusion_matr[0, 0]\n",
    "FN = confusion_matr[0, 1]\n",
    "FP = confusion_matr[1, 0]\n",
    "TP = confusion_matr[1, 1]\n",
    "TP, FP, FN, TN"
   ]
  },
  {
   "cell_type": "code",
   "execution_count": 33,
   "metadata": {},
   "outputs": [
    {
     "data": {
      "text/plain": [
       "0.9296361387749789"
      ]
     },
     "execution_count": 33,
     "metadata": {},
     "output_type": "execute_result"
    }
   ],
   "source": [
    "sensitivity = TP / (TP + FN)\n",
    "sensitivity"
   ]
  },
  {
   "cell_type": "code",
   "execution_count": 34,
   "metadata": {},
   "outputs": [
    {
     "data": {
      "text/plain": [
       "0.9177805204695255"
      ]
     },
     "execution_count": 34,
     "metadata": {},
     "output_type": "execute_result"
    }
   ],
   "source": [
    "specificity = TN / (TN + FP)\n",
    "specificity"
   ]
  },
  {
   "cell_type": "markdown",
   "metadata": {},
   "source": [
    "### **Model 3**\n",
    "\n",
    "Accuracy: **92.5%** <br>\n",
    "Sensitivity: **92.9%** <br>\n",
    "Specificity: **91.7%** <br>\n",
    "\n",
    "The 3rd model with the combined ERP and demographic dataset achieved an accuracy of 92.5% in 3 training runs, 150 epochs/0.00005 learning rate, 100 epochs/0.0001 learning rate, 50 epochs/0.00005"
   ]
  },
  {
   "cell_type": "markdown",
   "metadata": {},
   "source": [
    "## **Summary**\n",
    "\n",
    "This work dealt with the use of Deep Learning methods in the detection of mental diseases. Main goal was to provide insight into the methods of measuring the characteristics of a disorder like schizophrenia and how to make the collected data processable for Artificial Neural Networks. One of the main challenge was merely the size of the data - when it comes to measuring complex neural processes, a lot of data needs to be collected. If not for downsizing the data, ~5 billion values could have been used for training. The calculation of the mean of every 16 electrode values reduced the data to ~300 million values. <br>\n",
    "\n",
    "In hindsight, the data could have been reduced even more. As stated in the experiment results of Ford et al. (2013) the 3rd scenario (button press and no tone playing) did not show significant differences in the EEG data between the control group and patients. Leaving this scenario out could have reduced the input data to ~200 million values. Supposedly, this would have increased the overall performance because one scenario with no meaningfulness for the detection of schizophrenia were left out. <br>\n",
    "\n",
    "| Model | 2Conv-2Pool | 1Dense | 2Conv-2Pool ERP+Demographic data |\n",
    "|---|---|---|---|\n",
    "| Accuracy | 63.5% | 66.9% | 92.5% |\n",
    "| Sensitivity | 58.4% | 59.8% | 92.9% |\n",
    "| Specificity | 65.3% | 71.6% | 91.7% |\n",
    "\n",
    "Out of the three trained CNNs, the third one with two convolutional and two pooling layers outperformed the other two models and classified 92.5% of 99,533 trials correctly. The overall performance of the first two models was limited due to underfitting, respectively overfitting. Based on their simplicity, no new benchmarks in the performance of schizophrenia detection was expected. The third model had the advantage of using a more useful dataset with additional features and therefore achieved a higher accuracy. Top performing approaches include further preprocessing like wavelet transformation and hybrid model architecture of CNNs and Recurrent Neural Networks (Sun et al., 2021)."
   ]
  },
  {
   "cell_type": "markdown",
   "metadata": {},
   "source": [
    "## **Sources**\n",
    "\n",
    "Ford, J. M., Palzes, V. A., Roach, B. J., & Mathalon, D. H. (2014). Did I do that? Abnormal predictive processes in schizophrenia when button pressing to deliver a tone. Schizophrenia bulletin, 40(4), 804–812. https://doi.org/10.1093/schbul/sbt072<br>\n",
    "Sun, J., Cao, R., Zhou, M. et al. A hybrid deep neural network for classification of schizophrenia using EEG Data. Sci Rep 11, 4706 (2021). https://doi.org/10.1038/s41598-021-83350-6<br>\n",
    "https://www.kaggle.com/broach/button-tone-sz<br>\n",
    "https://www.kaggle.com/broach/buttontonesz2<br>"
   ]
  }
 ],
 "metadata": {
  "finalized": {
   "timestamp": 1661735514678,
   "trusted": false
  },
  "interpreter": {
   "hash": "6cfb5896e07db1906a366a4e704e42b09b23c9767de85b819237429aae93fc82"
  },
  "kernelspec": {
   "display_name": "Python 3",
   "language": "python",
   "name": "python3"
  },
  "language_info": {
   "codemirror_mode": {
    "name": "ipython",
    "version": 3
   },
   "file_extension": ".py",
   "mimetype": "text/x-python",
   "name": "python",
   "nbconvert_exporter": "python",
   "pygments_lexer": "ipython3",
   "version": "3.7.9"
  }
 },
 "nbformat": 4,
 "nbformat_minor": 5
}
